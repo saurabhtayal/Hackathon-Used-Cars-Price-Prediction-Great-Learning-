{
  "nbformat": 4,
  "nbformat_minor": 0,
  "metadata": {
    "colab": {
      "name": "Hackathon_Used_Cars_Price_Iteration2.ipynb",
      "provenance": [],
      "collapsed_sections": []
    },
    "kernelspec": {
      "name": "python3",
      "display_name": "Python 3"
    }
  },
  "cells": [
    {
      "cell_type": "code",
      "metadata": {
        "id": "tQd2Olf-IZ-O",
        "colab_type": "code",
        "colab": {}
      },
      "source": [
        "import numpy as np\n",
        "import pandas as pd\n",
        "import matplotlib.pyplot as plt\n",
        "import seaborn as sns\n",
        "from statsmodels.stats.outliers_influence import variance_inflation_factor as vif\n",
        "from sklearn.model_selection import RandomizedSearchCV\n",
        "from scipy.stats import randint as sp_randint\n",
        "from sklearn.ensemble import RandomForestRegressor\n",
        "from sklearn.preprocessing import PowerTransformer\n",
        "from sklearn.preprocessing import StandardScaler\n",
        "from sklearn.linear_model import LinearRegression\n",
        "from sklearn.metrics import mean_squared_error, r2_score"
      ],
      "execution_count": 253,
      "outputs": []
    },
    {
      "cell_type": "code",
      "metadata": {
        "id": "v2489buZIxps",
        "colab_type": "code",
        "colab": {
          "base_uri": "https://localhost:8080/",
          "height": 34
        },
        "outputId": "eb2e2e5a-c12c-4631-b642-fc9c697d0b41"
      },
      "source": [
        "train = pd.read_csv('/content/drive/My Drive/PGPDSE/Hackathon/Training Data Set.csv')\n",
        "train.shape"
      ],
      "execution_count": 254,
      "outputs": [
        {
          "output_type": "execute_result",
          "data": {
            "text/plain": [
              "(53515, 17)"
            ]
          },
          "metadata": {
            "tags": []
          },
          "execution_count": 254
        }
      ]
    },
    {
      "cell_type": "code",
      "metadata": {
        "id": "HciDeBJ-I32e",
        "colab_type": "code",
        "colab": {
          "base_uri": "https://localhost:8080/",
          "height": 34
        },
        "outputId": "162205d7-5182-40da-cd6e-68e60a40e7c2"
      },
      "source": [
        "test = pd.read_csv('/content/drive/My Drive/PGPDSE/Hackathon/Test Data Set.csv')\n",
        "test.shape"
      ],
      "execution_count": 255,
      "outputs": [
        {
          "output_type": "execute_result",
          "data": {
            "text/plain": [
              "(5615, 16)"
            ]
          },
          "metadata": {
            "tags": []
          },
          "execution_count": 255
        }
      ]
    },
    {
      "cell_type": "code",
      "metadata": {
        "id": "bFRgn5KnI-KB",
        "colab_type": "code",
        "colab": {
          "base_uri": "https://localhost:8080/",
          "height": 34
        },
        "outputId": "a52f9dad-5b91-4961-b0bd-8a4c1787a798"
      },
      "source": [
        "df = pd.concat([train, test])\n",
        "df.shape"
      ],
      "execution_count": 256,
      "outputs": [
        {
          "output_type": "execute_result",
          "data": {
            "text/plain": [
              "(59130, 17)"
            ]
          },
          "metadata": {
            "tags": []
          },
          "execution_count": 256
        }
      ]
    },
    {
      "cell_type": "code",
      "metadata": {
        "id": "esFFYToYJIHC",
        "colab_type": "code",
        "colab": {
          "base_uri": "https://localhost:8080/",
          "height": 507
        },
        "outputId": "2e26ddc9-ab73-4dac-cc5f-6da99a51bf4e"
      },
      "source": [
        "df = df.reset_index(drop = True)\n",
        "df"
      ],
      "execution_count": 257,
      "outputs": [
        {
          "output_type": "execute_result",
          "data": {
            "text/html": [
              "<div>\n",
              "<style scoped>\n",
              "    .dataframe tbody tr th:only-of-type {\n",
              "        vertical-align: middle;\n",
              "    }\n",
              "\n",
              "    .dataframe tbody tr th {\n",
              "        vertical-align: top;\n",
              "    }\n",
              "\n",
              "    .dataframe thead th {\n",
              "        text-align: right;\n",
              "    }\n",
              "</style>\n",
              "<table border=\"1\" class=\"dataframe\">\n",
              "  <thead>\n",
              "    <tr style=\"text-align: right;\">\n",
              "      <th></th>\n",
              "      <th>Id</th>\n",
              "      <th>Maker</th>\n",
              "      <th>model</th>\n",
              "      <th>Location</th>\n",
              "      <th>Distance</th>\n",
              "      <th>Owner Type</th>\n",
              "      <th>manufacture_year</th>\n",
              "      <th>Age of car</th>\n",
              "      <th>engine_displacement</th>\n",
              "      <th>engine_power</th>\n",
              "      <th>body_type</th>\n",
              "      <th>Vroom Audit Rating</th>\n",
              "      <th>transmission</th>\n",
              "      <th>door_count</th>\n",
              "      <th>seat_count</th>\n",
              "      <th>fuel_type</th>\n",
              "      <th>Price</th>\n",
              "    </tr>\n",
              "  </thead>\n",
              "  <tbody>\n",
              "    <tr>\n",
              "      <th>0</th>\n",
              "      <td>25001</td>\n",
              "      <td>skoda</td>\n",
              "      <td>octavia</td>\n",
              "      <td>Ahmedabad</td>\n",
              "      <td>NaN</td>\n",
              "      <td>Second</td>\n",
              "      <td>1964</td>\n",
              "      <td>55</td>\n",
              "      <td>1964</td>\n",
              "      <td>147.0</td>\n",
              "      <td>compact</td>\n",
              "      <td>8</td>\n",
              "      <td>man</td>\n",
              "      <td>None</td>\n",
              "      <td>None</td>\n",
              "      <td>petrol</td>\n",
              "      <td>543764.25</td>\n",
              "    </tr>\n",
              "    <tr>\n",
              "      <th>1</th>\n",
              "      <td>25002</td>\n",
              "      <td>fiat</td>\n",
              "      <td>panda</td>\n",
              "      <td>Ahmedabad</td>\n",
              "      <td>27750.0</td>\n",
              "      <td>Third</td>\n",
              "      <td>2012</td>\n",
              "      <td>7</td>\n",
              "      <td>1242</td>\n",
              "      <td>51.0</td>\n",
              "      <td>NaN</td>\n",
              "      <td>6</td>\n",
              "      <td>man</td>\n",
              "      <td>4</td>\n",
              "      <td>4</td>\n",
              "      <td>petrol</td>\n",
              "      <td>401819.25</td>\n",
              "    </tr>\n",
              "    <tr>\n",
              "      <th>2</th>\n",
              "      <td>25003</td>\n",
              "      <td>bmw</td>\n",
              "      <td>x1</td>\n",
              "      <td>Hyderabad</td>\n",
              "      <td>46000.0</td>\n",
              "      <td>Third</td>\n",
              "      <td>2014</td>\n",
              "      <td>5</td>\n",
              "      <td>1995</td>\n",
              "      <td>105.0</td>\n",
              "      <td>NaN</td>\n",
              "      <td>7</td>\n",
              "      <td>auto</td>\n",
              "      <td>4</td>\n",
              "      <td>5</td>\n",
              "      <td>diesel</td>\n",
              "      <td>2392855.50</td>\n",
              "    </tr>\n",
              "    <tr>\n",
              "      <th>3</th>\n",
              "      <td>25004</td>\n",
              "      <td>nissan</td>\n",
              "      <td>juke</td>\n",
              "      <td>Mumbai</td>\n",
              "      <td>43949.0</td>\n",
              "      <td>Third</td>\n",
              "      <td>2011</td>\n",
              "      <td>8</td>\n",
              "      <td>1618</td>\n",
              "      <td>140.0</td>\n",
              "      <td>NaN</td>\n",
              "      <td>7</td>\n",
              "      <td>man</td>\n",
              "      <td>4</td>\n",
              "      <td>5</td>\n",
              "      <td>petrol</td>\n",
              "      <td>958606.50</td>\n",
              "    </tr>\n",
              "    <tr>\n",
              "      <th>4</th>\n",
              "      <td>25005</td>\n",
              "      <td>bmw</td>\n",
              "      <td>x5</td>\n",
              "      <td>Jaipur</td>\n",
              "      <td>59524.0</td>\n",
              "      <td>Fourth &amp; Above</td>\n",
              "      <td>2012</td>\n",
              "      <td>7</td>\n",
              "      <td>2993</td>\n",
              "      <td>180.0</td>\n",
              "      <td>NaN</td>\n",
              "      <td>7</td>\n",
              "      <td>auto</td>\n",
              "      <td>4</td>\n",
              "      <td>5</td>\n",
              "      <td>diesel</td>\n",
              "      <td>3085561.50</td>\n",
              "    </tr>\n",
              "    <tr>\n",
              "      <th>...</th>\n",
              "      <td>...</td>\n",
              "      <td>...</td>\n",
              "      <td>...</td>\n",
              "      <td>...</td>\n",
              "      <td>...</td>\n",
              "      <td>...</td>\n",
              "      <td>...</td>\n",
              "      <td>...</td>\n",
              "      <td>...</td>\n",
              "      <td>...</td>\n",
              "      <td>...</td>\n",
              "      <td>...</td>\n",
              "      <td>...</td>\n",
              "      <td>...</td>\n",
              "      <td>...</td>\n",
              "      <td>...</td>\n",
              "      <td>...</td>\n",
              "    </tr>\n",
              "    <tr>\n",
              "      <th>59125</th>\n",
              "      <td>16611</td>\n",
              "      <td>skoda</td>\n",
              "      <td>octavia</td>\n",
              "      <td>Mumbai</td>\n",
              "      <td>149976.0</td>\n",
              "      <td>First</td>\n",
              "      <td>2011</td>\n",
              "      <td>8</td>\n",
              "      <td>1968</td>\n",
              "      <td>103.0</td>\n",
              "      <td>NaN</td>\n",
              "      <td>8</td>\n",
              "      <td>man</td>\n",
              "      <td>4</td>\n",
              "      <td>5</td>\n",
              "      <td>diesel</td>\n",
              "      <td>NaN</td>\n",
              "    </tr>\n",
              "    <tr>\n",
              "      <th>59126</th>\n",
              "      <td>16612</td>\n",
              "      <td>skoda</td>\n",
              "      <td>superb</td>\n",
              "      <td>Ahmedabad</td>\n",
              "      <td>332000.0</td>\n",
              "      <td>First</td>\n",
              "      <td>2005</td>\n",
              "      <td>14</td>\n",
              "      <td>1896</td>\n",
              "      <td>96.0</td>\n",
              "      <td>NaN</td>\n",
              "      <td>6</td>\n",
              "      <td>man</td>\n",
              "      <td>4</td>\n",
              "      <td>5</td>\n",
              "      <td>diesel</td>\n",
              "      <td>NaN</td>\n",
              "    </tr>\n",
              "    <tr>\n",
              "      <th>59127</th>\n",
              "      <td>16613</td>\n",
              "      <td>skoda</td>\n",
              "      <td>octavia</td>\n",
              "      <td>Bangalore</td>\n",
              "      <td>230800.0</td>\n",
              "      <td>Second</td>\n",
              "      <td>2005</td>\n",
              "      <td>14</td>\n",
              "      <td>1896</td>\n",
              "      <td>77.0</td>\n",
              "      <td>NaN</td>\n",
              "      <td>7</td>\n",
              "      <td>man</td>\n",
              "      <td>5</td>\n",
              "      <td>5</td>\n",
              "      <td>diesel</td>\n",
              "      <td>NaN</td>\n",
              "    </tr>\n",
              "    <tr>\n",
              "      <th>59128</th>\n",
              "      <td>16614</td>\n",
              "      <td>nissan</td>\n",
              "      <td>qashqai</td>\n",
              "      <td>Jaipur</td>\n",
              "      <td>63480.0</td>\n",
              "      <td>Third</td>\n",
              "      <td>2011</td>\n",
              "      <td>8</td>\n",
              "      <td>1997</td>\n",
              "      <td>104.0</td>\n",
              "      <td>NaN</td>\n",
              "      <td>5</td>\n",
              "      <td>man</td>\n",
              "      <td>4</td>\n",
              "      <td>7</td>\n",
              "      <td>petrol</td>\n",
              "      <td>NaN</td>\n",
              "    </tr>\n",
              "    <tr>\n",
              "      <th>59129</th>\n",
              "      <td>16615</td>\n",
              "      <td>hyundai</td>\n",
              "      <td>i30</td>\n",
              "      <td>Jaipur</td>\n",
              "      <td>75000.0</td>\n",
              "      <td>Second</td>\n",
              "      <td>2011</td>\n",
              "      <td>8</td>\n",
              "      <td>1396</td>\n",
              "      <td>80.0</td>\n",
              "      <td>NaN</td>\n",
              "      <td>4</td>\n",
              "      <td>man</td>\n",
              "      <td>None</td>\n",
              "      <td>None</td>\n",
              "      <td>petrol</td>\n",
              "      <td>NaN</td>\n",
              "    </tr>\n",
              "  </tbody>\n",
              "</table>\n",
              "<p>59130 rows × 17 columns</p>\n",
              "</div>"
            ],
            "text/plain": [
              "          Id    Maker    model  ... seat_count  fuel_type       Price\n",
              "0      25001    skoda  octavia  ...       None     petrol   543764.25\n",
              "1      25002     fiat    panda  ...          4     petrol   401819.25\n",
              "2      25003      bmw       x1  ...          5     diesel  2392855.50\n",
              "3      25004   nissan     juke  ...          5     petrol   958606.50\n",
              "4      25005      bmw       x5  ...          5     diesel  3085561.50\n",
              "...      ...      ...      ...  ...        ...        ...         ...\n",
              "59125  16611    skoda  octavia  ...          5     diesel         NaN\n",
              "59126  16612    skoda   superb  ...          5     diesel         NaN\n",
              "59127  16613    skoda  octavia  ...          5     diesel         NaN\n",
              "59128  16614   nissan  qashqai  ...          7     petrol         NaN\n",
              "59129  16615  hyundai      i30  ...       None     petrol         NaN\n",
              "\n",
              "[59130 rows x 17 columns]"
            ]
          },
          "metadata": {
            "tags": []
          },
          "execution_count": 257
        }
      ]
    },
    {
      "cell_type": "code",
      "metadata": {
        "id": "CcoBO0j5JiHm",
        "colab_type": "code",
        "colab": {}
      },
      "source": [
        "id = df['Id']"
      ],
      "execution_count": 258,
      "outputs": []
    },
    {
      "cell_type": "code",
      "metadata": {
        "id": "5aF6e_U4P2RF",
        "colab_type": "code",
        "colab": {}
      },
      "source": [
        "df.drop('Id', 1, inplace = True)"
      ],
      "execution_count": 259,
      "outputs": []
    },
    {
      "cell_type": "code",
      "metadata": {
        "id": "zq6fHuzPUWhT",
        "colab_type": "code",
        "colab": {}
      },
      "source": [
        "df['Distance'] = df['Distance ']\n",
        "df.drop('Distance ', 1, inplace = True)"
      ],
      "execution_count": 260,
      "outputs": []
    },
    {
      "cell_type": "code",
      "metadata": {
        "id": "0gdoZm64yses",
        "colab_type": "code",
        "colab": {
          "base_uri": "https://localhost:8080/",
          "height": 306
        },
        "outputId": "583fda7a-1a69-4a0b-86b5-373d3c9f43a8"
      },
      "source": [
        "df.isna().sum() / df.shape[0]"
      ],
      "execution_count": 261,
      "outputs": [
        {
          "output_type": "execute_result",
          "data": {
            "text/plain": [
              "Maker                  0.000000\n",
              "model                  0.000000\n",
              "Location               0.000000\n",
              "Owner Type             0.000000\n",
              "manufacture_year       0.000000\n",
              "Age of car             0.000000\n",
              "engine_displacement    0.000000\n",
              "engine_power           0.027177\n",
              "body_type              0.922916\n",
              "Vroom Audit Rating     0.000000\n",
              "transmission           0.000000\n",
              "door_count             0.000000\n",
              "seat_count             0.000000\n",
              "fuel_type              0.000000\n",
              "Price                  0.094960\n",
              "Distance               0.022645\n",
              "dtype: float64"
            ]
          },
          "metadata": {
            "tags": []
          },
          "execution_count": 261
        }
      ]
    },
    {
      "cell_type": "code",
      "metadata": {
        "id": "kH08xOevRlm8",
        "colab_type": "code",
        "colab": {}
      },
      "source": [
        "df.drop('body_type', 1, inplace = True)"
      ],
      "execution_count": 262,
      "outputs": []
    },
    {
      "cell_type": "code",
      "metadata": {
        "id": "AOk4ZoQjUlJe",
        "colab_type": "code",
        "colab": {}
      },
      "source": [
        "df['Distance'].fillna(df['Distance'].median(), inplace = True)"
      ],
      "execution_count": 263,
      "outputs": []
    },
    {
      "cell_type": "code",
      "metadata": {
        "id": "Ns_FuOmYUu2u",
        "colab_type": "code",
        "colab": {}
      },
      "source": [
        "df['engine_power'].fillna(df['engine_power'].median(), inplace = True)"
      ],
      "execution_count": 264,
      "outputs": []
    },
    {
      "cell_type": "code",
      "metadata": {
        "id": "JWCgITBIyQ6y",
        "colab_type": "code",
        "colab": {
          "base_uri": "https://localhost:8080/",
          "height": 153
        },
        "outputId": "98603da2-0b60-4ab8-a2f4-65763f19d0be"
      },
      "source": [
        "df['door_count'].value_counts()"
      ],
      "execution_count": 265,
      "outputs": [
        {
          "output_type": "execute_result",
          "data": {
            "text/plain": [
              "4       37391\n",
              "5        8405\n",
              "None     8340\n",
              "2        4779\n",
              "3         204\n",
              "6           9\n",
              "1           2\n",
              "Name: door_count, dtype: int64"
            ]
          },
          "metadata": {
            "tags": []
          },
          "execution_count": 265
        }
      ]
    },
    {
      "cell_type": "code",
      "metadata": {
        "id": "Fdqj90LrVGOr",
        "colab_type": "code",
        "colab": {
          "base_uri": "https://localhost:8080/",
          "height": 136
        },
        "outputId": "2ab41fc8-b44f-44ef-f67f-bec49663551d"
      },
      "source": [
        "df['door_count'] = df['door_count'].replace({'None' : np.nan})\n",
        "vc = df['door_count'].value_counts(normalize = True)\n",
        "miss = df['door_count'].isna()\n",
        "df.loc[miss, 'door_count'] = np.random.choice(vc.index, size = miss.sum(), p = vc.values)\n",
        "df['door_count'] = df['door_count'].astype('int64')\n",
        "df['door_count'].value_counts()"
      ],
      "execution_count": 266,
      "outputs": [
        {
          "output_type": "execute_result",
          "data": {
            "text/plain": [
              "4    43484\n",
              "5     9795\n",
              "2     5607\n",
              "3      232\n",
              "6       10\n",
              "1        2\n",
              "Name: door_count, dtype: int64"
            ]
          },
          "metadata": {
            "tags": []
          },
          "execution_count": 266
        }
      ]
    },
    {
      "cell_type": "code",
      "metadata": {
        "id": "_Z7-dj9gyb3Q",
        "colab_type": "code",
        "colab": {
          "base_uri": "https://localhost:8080/",
          "height": 204
        },
        "outputId": "c64cb216-931a-415c-8013-5f2b2331b1ba"
      },
      "source": [
        " df['seat_count'].value_counts()"
      ],
      "execution_count": 267,
      "outputs": [
        {
          "output_type": "execute_result",
          "data": {
            "text/plain": [
              "5       42924\n",
              "None     9402\n",
              "4        4922\n",
              "7         934\n",
              "2         804\n",
              "3         117\n",
              "6          23\n",
              "9           2\n",
              "1           1\n",
              "8           1\n",
              "Name: seat_count, dtype: int64"
            ]
          },
          "metadata": {
            "tags": []
          },
          "execution_count": 267
        }
      ]
    },
    {
      "cell_type": "code",
      "metadata": {
        "id": "Ul-qvRgXVYkl",
        "colab_type": "code",
        "colab": {
          "base_uri": "https://localhost:8080/",
          "height": 187
        },
        "outputId": "c4fafc2e-0882-418b-f05f-51c5f40e970e"
      },
      "source": [
        "df['seat_count'] = df['seat_count'].replace({'None' : np.nan})\n",
        "vc = df['seat_count'].value_counts(normalize = True)\n",
        "miss = df['seat_count'].isna()\n",
        "df.loc[miss, 'seat_count'] = np.random.choice(vc.index, size = miss.sum(), p = vc.values)\n",
        "df['seat_count'] = df['seat_count'].astype('int64')\n",
        "df['seat_count'].value_counts()"
      ],
      "execution_count": 268,
      "outputs": [
        {
          "output_type": "execute_result",
          "data": {
            "text/plain": [
              "5    51038\n",
              "4     5864\n",
              "7     1103\n",
              "2      961\n",
              "3      133\n",
              "6       26\n",
              "9        3\n",
              "8        1\n",
              "1        1\n",
              "Name: seat_count, dtype: int64"
            ]
          },
          "metadata": {
            "tags": []
          },
          "execution_count": 268
        }
      ]
    },
    {
      "cell_type": "code",
      "metadata": {
        "id": "Y7BhgUu6XpXb",
        "colab_type": "code",
        "colab": {}
      },
      "source": [
        "df.drop('manufacture_year', 1, inplace = True)"
      ],
      "execution_count": 269,
      "outputs": []
    },
    {
      "cell_type": "code",
      "metadata": {
        "id": "PJ2vS-s3eSg7",
        "colab_type": "code",
        "colab": {
          "base_uri": "https://localhost:8080/",
          "height": 34
        },
        "outputId": "dee9637a-f8c7-41a7-8396-da1fddaeb5c9"
      },
      "source": [
        "X = df.drop(['Price'], 1)\n",
        "X.shape"
      ],
      "execution_count": 270,
      "outputs": [
        {
          "output_type": "execute_result",
          "data": {
            "text/plain": [
              "(59130, 13)"
            ]
          },
          "metadata": {
            "tags": []
          },
          "execution_count": 270
        }
      ]
    },
    {
      "cell_type": "code",
      "metadata": {
        "id": "S_xPbylceseB",
        "colab_type": "code",
        "colab": {}
      },
      "source": [
        "X_dum = pd.get_dummies(X, drop_first = True)"
      ],
      "execution_count": 271,
      "outputs": []
    },
    {
      "cell_type": "code",
      "metadata": {
        "id": "Yr6mxKUjezwq",
        "colab_type": "code",
        "colab": {
          "base_uri": "https://localhost:8080/",
          "height": 168
        },
        "outputId": "ec0059db-2ec9-4886-c752-ba3f4cda9983"
      },
      "source": [
        "VIF = [vif(X_dum.values, i) for i in range(X_dum.shape[1])]\n",
        "pd.DataFrame({'vif': VIF}, index=X_dum.columns).T"
      ],
      "execution_count": 272,
      "outputs": [
        {
          "output_type": "stream",
          "text": [
            "/usr/local/lib/python3.6/dist-packages/statsmodels/stats/outliers_influence.py:185: RuntimeWarning: divide by zero encountered in double_scalars\n",
            "  vif = 1. / (1. - r_squared_i)\n"
          ],
          "name": "stderr"
        },
        {
          "output_type": "execute_result",
          "data": {
            "text/html": [
              "<div>\n",
              "<style scoped>\n",
              "    .dataframe tbody tr th:only-of-type {\n",
              "        vertical-align: middle;\n",
              "    }\n",
              "\n",
              "    .dataframe tbody tr th {\n",
              "        vertical-align: top;\n",
              "    }\n",
              "\n",
              "    .dataframe thead th {\n",
              "        text-align: right;\n",
              "    }\n",
              "</style>\n",
              "<table border=\"1\" class=\"dataframe\">\n",
              "  <thead>\n",
              "    <tr style=\"text-align: right;\">\n",
              "      <th></th>\n",
              "      <th>Age of car</th>\n",
              "      <th>engine_displacement</th>\n",
              "      <th>engine_power</th>\n",
              "      <th>Vroom Audit Rating</th>\n",
              "      <th>door_count</th>\n",
              "      <th>seat_count</th>\n",
              "      <th>Distance</th>\n",
              "      <th>Maker_bmw</th>\n",
              "      <th>Maker_fiat</th>\n",
              "      <th>Maker_hyundai</th>\n",
              "      <th>Maker_maserati</th>\n",
              "      <th>Maker_nissan</th>\n",
              "      <th>Maker_skoda</th>\n",
              "      <th>Maker_toyota</th>\n",
              "      <th>model_avensis</th>\n",
              "      <th>model_aygo</th>\n",
              "      <th>model_citigo</th>\n",
              "      <th>model_coupe</th>\n",
              "      <th>model_i30</th>\n",
              "      <th>model_juke</th>\n",
              "      <th>model_micra</th>\n",
              "      <th>model_octavia</th>\n",
              "      <th>model_panda</th>\n",
              "      <th>model_q3</th>\n",
              "      <th>model_q5</th>\n",
              "      <th>model_q7</th>\n",
              "      <th>model_qashqai</th>\n",
              "      <th>model_rapid</th>\n",
              "      <th>model_roomster</th>\n",
              "      <th>model_superb</th>\n",
              "      <th>model_tt</th>\n",
              "      <th>model_x1</th>\n",
              "      <th>model_x3</th>\n",
              "      <th>model_x5</th>\n",
              "      <th>model_yaris</th>\n",
              "      <th>model_yeti</th>\n",
              "      <th>Location_Bangalore</th>\n",
              "      <th>Location_Chennai</th>\n",
              "      <th>Location_Coimbatore</th>\n",
              "      <th>Location_Delhi</th>\n",
              "      <th>Location_Hyderabad</th>\n",
              "      <th>Location_Jaipur</th>\n",
              "      <th>Location_Kochi</th>\n",
              "      <th>Location_Kolkata</th>\n",
              "      <th>Location_Mumbai</th>\n",
              "      <th>Location_Pune</th>\n",
              "      <th>Owner Type_Fourth &amp; Above</th>\n",
              "      <th>Owner Type_Second</th>\n",
              "      <th>Owner Type_Third</th>\n",
              "      <th>transmission_man</th>\n",
              "      <th>fuel_type_petrol</th>\n",
              "    </tr>\n",
              "  </thead>\n",
              "  <tbody>\n",
              "    <tr>\n",
              "      <th>vif</th>\n",
              "      <td>1.42388</td>\n",
              "      <td>1.164808</td>\n",
              "      <td>3.228517</td>\n",
              "      <td>1.000904</td>\n",
              "      <td>1.740001</td>\n",
              "      <td>1.751156</td>\n",
              "      <td>1.070757</td>\n",
              "      <td>inf</td>\n",
              "      <td>26.327358</td>\n",
              "      <td>12.642795</td>\n",
              "      <td>1.0491</td>\n",
              "      <td>inf</td>\n",
              "      <td>inf</td>\n",
              "      <td>38.141365</td>\n",
              "      <td>1.968736</td>\n",
              "      <td>1.98032</td>\n",
              "      <td>inf</td>\n",
              "      <td>6.927733</td>\n",
              "      <td>20.952909</td>\n",
              "      <td>inf</td>\n",
              "      <td>inf</td>\n",
              "      <td>inf</td>\n",
              "      <td>32.136188</td>\n",
              "      <td>8.52474</td>\n",
              "      <td>10.261771</td>\n",
              "      <td>8.149792</td>\n",
              "      <td>inf</td>\n",
              "      <td>inf</td>\n",
              "      <td>inf</td>\n",
              "      <td>inf</td>\n",
              "      <td>3.859698</td>\n",
              "      <td>inf</td>\n",
              "      <td>inf</td>\n",
              "      <td>inf</td>\n",
              "      <td>2.826436</td>\n",
              "      <td>inf</td>\n",
              "      <td>1.837199</td>\n",
              "      <td>1.82538</td>\n",
              "      <td>1.846027</td>\n",
              "      <td>1.828146</td>\n",
              "      <td>1.8251</td>\n",
              "      <td>1.830823</td>\n",
              "      <td>1.850314</td>\n",
              "      <td>1.833649</td>\n",
              "      <td>1.832352</td>\n",
              "      <td>1.827399</td>\n",
              "      <td>1.494702</td>\n",
              "      <td>1.49413</td>\n",
              "      <td>1.496157</td>\n",
              "      <td>1.54061</td>\n",
              "      <td>1.4947</td>\n",
              "    </tr>\n",
              "  </tbody>\n",
              "</table>\n",
              "</div>"
            ],
            "text/plain": [
              "     Age of car  engine_displacement  ...  transmission_man  fuel_type_petrol\n",
              "vif     1.42388             1.164808  ...           1.54061            1.4947\n",
              "\n",
              "[1 rows x 51 columns]"
            ]
          },
          "metadata": {
            "tags": []
          },
          "execution_count": 272
        }
      ]
    },
    {
      "cell_type": "code",
      "metadata": {
        "id": "WdgpyECxhH1D",
        "colab_type": "code",
        "colab": {
          "base_uri": "https://localhost:8080/",
          "height": 134
        },
        "outputId": "790c4176-4fc9-4271-e7ae-54de48e5530f"
      },
      "source": [
        "X_1 = X.drop(['model'], 1)\n",
        "X_1_dum = pd.get_dummies(X_1, drop_first = True)\n",
        "VIF = [vif(X_1_dum.values, i) for i in range(X_1_dum.shape[1])]\n",
        "pd.DataFrame({'vif': VIF}, index=X_1_dum.columns).T"
      ],
      "execution_count": 273,
      "outputs": [
        {
          "output_type": "execute_result",
          "data": {
            "text/html": [
              "<div>\n",
              "<style scoped>\n",
              "    .dataframe tbody tr th:only-of-type {\n",
              "        vertical-align: middle;\n",
              "    }\n",
              "\n",
              "    .dataframe tbody tr th {\n",
              "        vertical-align: top;\n",
              "    }\n",
              "\n",
              "    .dataframe thead th {\n",
              "        text-align: right;\n",
              "    }\n",
              "</style>\n",
              "<table border=\"1\" class=\"dataframe\">\n",
              "  <thead>\n",
              "    <tr style=\"text-align: right;\">\n",
              "      <th></th>\n",
              "      <th>Age of car</th>\n",
              "      <th>engine_displacement</th>\n",
              "      <th>engine_power</th>\n",
              "      <th>Vroom Audit Rating</th>\n",
              "      <th>door_count</th>\n",
              "      <th>seat_count</th>\n",
              "      <th>Distance</th>\n",
              "      <th>Maker_bmw</th>\n",
              "      <th>Maker_fiat</th>\n",
              "      <th>Maker_hyundai</th>\n",
              "      <th>Maker_maserati</th>\n",
              "      <th>Maker_nissan</th>\n",
              "      <th>Maker_skoda</th>\n",
              "      <th>Maker_toyota</th>\n",
              "      <th>Location_Bangalore</th>\n",
              "      <th>Location_Chennai</th>\n",
              "      <th>Location_Coimbatore</th>\n",
              "      <th>Location_Delhi</th>\n",
              "      <th>Location_Hyderabad</th>\n",
              "      <th>Location_Jaipur</th>\n",
              "      <th>Location_Kochi</th>\n",
              "      <th>Location_Kolkata</th>\n",
              "      <th>Location_Mumbai</th>\n",
              "      <th>Location_Pune</th>\n",
              "      <th>Owner Type_Fourth &amp; Above</th>\n",
              "      <th>Owner Type_Second</th>\n",
              "      <th>Owner Type_Third</th>\n",
              "      <th>transmission_man</th>\n",
              "      <th>fuel_type_petrol</th>\n",
              "    </tr>\n",
              "  </thead>\n",
              "  <tbody>\n",
              "    <tr>\n",
              "      <th>vif</th>\n",
              "      <td>4.854252</td>\n",
              "      <td>3.021406</td>\n",
              "      <td>11.351451</td>\n",
              "      <td>16.753629</td>\n",
              "      <td>39.277483</td>\n",
              "      <td>62.902989</td>\n",
              "      <td>1.188577</td>\n",
              "      <td>2.121751</td>\n",
              "      <td>1.608679</td>\n",
              "      <td>1.591063</td>\n",
              "      <td>1.025488</td>\n",
              "      <td>2.440874</td>\n",
              "      <td>6.414839</td>\n",
              "      <td>3.173306</td>\n",
              "      <td>1.955355</td>\n",
              "      <td>1.936675</td>\n",
              "      <td>1.965428</td>\n",
              "      <td>1.938818</td>\n",
              "      <td>1.933098</td>\n",
              "      <td>1.946548</td>\n",
              "      <td>1.968645</td>\n",
              "      <td>1.945104</td>\n",
              "      <td>1.949478</td>\n",
              "      <td>1.945609</td>\n",
              "      <td>1.964303</td>\n",
              "      <td>1.96154</td>\n",
              "      <td>1.975964</td>\n",
              "      <td>4.36317</td>\n",
              "      <td>2.377464</td>\n",
              "    </tr>\n",
              "  </tbody>\n",
              "</table>\n",
              "</div>"
            ],
            "text/plain": [
              "     Age of car  engine_displacement  ...  transmission_man  fuel_type_petrol\n",
              "vif    4.854252             3.021406  ...           4.36317          2.377464\n",
              "\n",
              "[1 rows x 29 columns]"
            ]
          },
          "metadata": {
            "tags": []
          },
          "execution_count": 273
        }
      ]
    },
    {
      "cell_type": "code",
      "metadata": {
        "id": "qGc511pChg1J",
        "colab_type": "code",
        "colab": {
          "base_uri": "https://localhost:8080/",
          "height": 134
        },
        "outputId": "8c9d8dfb-c7de-4553-dcf4-62ded6444111"
      },
      "source": [
        "X_1 = X.drop(['model', 'seat_count'], 1)\n",
        "X_1_dum = pd.get_dummies(X_1, drop_first = True)\n",
        "VIF = [vif(X_1_dum.values, i) for i in range(X_1_dum.shape[1])]\n",
        "pd.DataFrame({'vif': VIF}, index=X_1_dum.columns).T"
      ],
      "execution_count": 274,
      "outputs": [
        {
          "output_type": "execute_result",
          "data": {
            "text/html": [
              "<div>\n",
              "<style scoped>\n",
              "    .dataframe tbody tr th:only-of-type {\n",
              "        vertical-align: middle;\n",
              "    }\n",
              "\n",
              "    .dataframe tbody tr th {\n",
              "        vertical-align: top;\n",
              "    }\n",
              "\n",
              "    .dataframe thead th {\n",
              "        text-align: right;\n",
              "    }\n",
              "</style>\n",
              "<table border=\"1\" class=\"dataframe\">\n",
              "  <thead>\n",
              "    <tr style=\"text-align: right;\">\n",
              "      <th></th>\n",
              "      <th>Age of car</th>\n",
              "      <th>engine_displacement</th>\n",
              "      <th>engine_power</th>\n",
              "      <th>Vroom Audit Rating</th>\n",
              "      <th>door_count</th>\n",
              "      <th>Distance</th>\n",
              "      <th>Maker_bmw</th>\n",
              "      <th>Maker_fiat</th>\n",
              "      <th>Maker_hyundai</th>\n",
              "      <th>Maker_maserati</th>\n",
              "      <th>Maker_nissan</th>\n",
              "      <th>Maker_skoda</th>\n",
              "      <th>Maker_toyota</th>\n",
              "      <th>Location_Bangalore</th>\n",
              "      <th>Location_Chennai</th>\n",
              "      <th>Location_Coimbatore</th>\n",
              "      <th>Location_Delhi</th>\n",
              "      <th>Location_Hyderabad</th>\n",
              "      <th>Location_Jaipur</th>\n",
              "      <th>Location_Kochi</th>\n",
              "      <th>Location_Kolkata</th>\n",
              "      <th>Location_Mumbai</th>\n",
              "      <th>Location_Pune</th>\n",
              "      <th>Owner Type_Fourth &amp; Above</th>\n",
              "      <th>Owner Type_Second</th>\n",
              "      <th>Owner Type_Third</th>\n",
              "      <th>transmission_man</th>\n",
              "      <th>fuel_type_petrol</th>\n",
              "    </tr>\n",
              "  </thead>\n",
              "  <tbody>\n",
              "    <tr>\n",
              "      <th>vif</th>\n",
              "      <td>4.754627</td>\n",
              "      <td>3.009863</td>\n",
              "      <td>9.920549</td>\n",
              "      <td>15.502579</td>\n",
              "      <td>26.115235</td>\n",
              "      <td>1.188227</td>\n",
              "      <td>2.073696</td>\n",
              "      <td>1.603085</td>\n",
              "      <td>1.539437</td>\n",
              "      <td>1.024739</td>\n",
              "      <td>2.190094</td>\n",
              "      <td>6.185189</td>\n",
              "      <td>2.956726</td>\n",
              "      <td>1.91429</td>\n",
              "      <td>1.899734</td>\n",
              "      <td>1.92522</td>\n",
              "      <td>1.899784</td>\n",
              "      <td>1.89718</td>\n",
              "      <td>1.909585</td>\n",
              "      <td>1.929946</td>\n",
              "      <td>1.90564</td>\n",
              "      <td>1.909713</td>\n",
              "      <td>1.902602</td>\n",
              "      <td>1.949254</td>\n",
              "      <td>1.948311</td>\n",
              "      <td>1.962756</td>\n",
              "      <td>4.332822</td>\n",
              "      <td>2.376929</td>\n",
              "    </tr>\n",
              "  </tbody>\n",
              "</table>\n",
              "</div>"
            ],
            "text/plain": [
              "     Age of car  engine_displacement  ...  transmission_man  fuel_type_petrol\n",
              "vif    4.754627             3.009863  ...          4.332822          2.376929\n",
              "\n",
              "[1 rows x 28 columns]"
            ]
          },
          "metadata": {
            "tags": []
          },
          "execution_count": 274
        }
      ]
    },
    {
      "cell_type": "code",
      "metadata": {
        "id": "6iJJrD35hsY6",
        "colab_type": "code",
        "colab": {
          "base_uri": "https://localhost:8080/",
          "height": 134
        },
        "outputId": "7da8e518-a1c3-4ca4-db94-a14ed8f746d8"
      },
      "source": [
        "X_1 = X.drop(['model', 'seat_count', 'door_count'], 1)\n",
        "X_1_dum = pd.get_dummies(X_1, drop_first = True)\n",
        "VIF = [vif(X_1_dum.values, i) for i in range(X_1_dum.shape[1])]\n",
        "pd.DataFrame({'vif': VIF}, index=X_1_dum.columns).T"
      ],
      "execution_count": 275,
      "outputs": [
        {
          "output_type": "execute_result",
          "data": {
            "text/html": [
              "<div>\n",
              "<style scoped>\n",
              "    .dataframe tbody tr th:only-of-type {\n",
              "        vertical-align: middle;\n",
              "    }\n",
              "\n",
              "    .dataframe tbody tr th {\n",
              "        vertical-align: top;\n",
              "    }\n",
              "\n",
              "    .dataframe thead th {\n",
              "        text-align: right;\n",
              "    }\n",
              "</style>\n",
              "<table border=\"1\" class=\"dataframe\">\n",
              "  <thead>\n",
              "    <tr style=\"text-align: right;\">\n",
              "      <th></th>\n",
              "      <th>Age of car</th>\n",
              "      <th>engine_displacement</th>\n",
              "      <th>engine_power</th>\n",
              "      <th>Vroom Audit Rating</th>\n",
              "      <th>Distance</th>\n",
              "      <th>Maker_bmw</th>\n",
              "      <th>Maker_fiat</th>\n",
              "      <th>Maker_hyundai</th>\n",
              "      <th>Maker_maserati</th>\n",
              "      <th>Maker_nissan</th>\n",
              "      <th>Maker_skoda</th>\n",
              "      <th>Maker_toyota</th>\n",
              "      <th>Location_Bangalore</th>\n",
              "      <th>Location_Chennai</th>\n",
              "      <th>Location_Coimbatore</th>\n",
              "      <th>Location_Delhi</th>\n",
              "      <th>Location_Hyderabad</th>\n",
              "      <th>Location_Jaipur</th>\n",
              "      <th>Location_Kochi</th>\n",
              "      <th>Location_Kolkata</th>\n",
              "      <th>Location_Mumbai</th>\n",
              "      <th>Location_Pune</th>\n",
              "      <th>Owner Type_Fourth &amp; Above</th>\n",
              "      <th>Owner Type_Second</th>\n",
              "      <th>Owner Type_Third</th>\n",
              "      <th>transmission_man</th>\n",
              "      <th>fuel_type_petrol</th>\n",
              "    </tr>\n",
              "  </thead>\n",
              "  <tbody>\n",
              "    <tr>\n",
              "      <th>vif</th>\n",
              "      <td>4.752272</td>\n",
              "      <td>2.994087</td>\n",
              "      <td>8.313402</td>\n",
              "      <td>14.05779</td>\n",
              "      <td>1.188168</td>\n",
              "      <td>1.861666</td>\n",
              "      <td>1.445943</td>\n",
              "      <td>1.391008</td>\n",
              "      <td>1.019309</td>\n",
              "      <td>1.89857</td>\n",
              "      <td>4.298661</td>\n",
              "      <td>2.436313</td>\n",
              "      <td>1.866063</td>\n",
              "      <td>1.855063</td>\n",
              "      <td>1.876377</td>\n",
              "      <td>1.853494</td>\n",
              "      <td>1.853579</td>\n",
              "      <td>1.862714</td>\n",
              "      <td>1.883185</td>\n",
              "      <td>1.858943</td>\n",
              "      <td>1.865897</td>\n",
              "      <td>1.859213</td>\n",
              "      <td>1.931377</td>\n",
              "      <td>1.930515</td>\n",
              "      <td>1.943468</td>\n",
              "      <td>4.258845</td>\n",
              "      <td>2.337472</td>\n",
              "    </tr>\n",
              "  </tbody>\n",
              "</table>\n",
              "</div>"
            ],
            "text/plain": [
              "     Age of car  engine_displacement  ...  transmission_man  fuel_type_petrol\n",
              "vif    4.752272             2.994087  ...          4.258845          2.337472\n",
              "\n",
              "[1 rows x 27 columns]"
            ]
          },
          "metadata": {
            "tags": []
          },
          "execution_count": 275
        }
      ]
    },
    {
      "cell_type": "code",
      "metadata": {
        "id": "ng_XbNRFiGpX",
        "colab_type": "code",
        "colab": {
          "base_uri": "https://localhost:8080/",
          "height": 134
        },
        "outputId": "0e70d0e3-430c-4051-af36-49c131f5959c"
      },
      "source": [
        "X_1 = X.drop(['model', 'seat_count', 'door_count', 'Vroom Audit Rating'], 1)\n",
        "X_1_dum = pd.get_dummies(X_1, drop_first = True)\n",
        "VIF = [vif(X_1_dum.values, i) for i in range(X_1_dum.shape[1])]\n",
        "pd.DataFrame({'vif': VIF}, index=X_1_dum.columns).T"
      ],
      "execution_count": 276,
      "outputs": [
        {
          "output_type": "execute_result",
          "data": {
            "text/html": [
              "<div>\n",
              "<style scoped>\n",
              "    .dataframe tbody tr th:only-of-type {\n",
              "        vertical-align: middle;\n",
              "    }\n",
              "\n",
              "    .dataframe tbody tr th {\n",
              "        vertical-align: top;\n",
              "    }\n",
              "\n",
              "    .dataframe thead th {\n",
              "        text-align: right;\n",
              "    }\n",
              "</style>\n",
              "<table border=\"1\" class=\"dataframe\">\n",
              "  <thead>\n",
              "    <tr style=\"text-align: right;\">\n",
              "      <th></th>\n",
              "      <th>Age of car</th>\n",
              "      <th>engine_displacement</th>\n",
              "      <th>engine_power</th>\n",
              "      <th>Distance</th>\n",
              "      <th>Maker_bmw</th>\n",
              "      <th>Maker_fiat</th>\n",
              "      <th>Maker_hyundai</th>\n",
              "      <th>Maker_maserati</th>\n",
              "      <th>Maker_nissan</th>\n",
              "      <th>Maker_skoda</th>\n",
              "      <th>Maker_toyota</th>\n",
              "      <th>Location_Bangalore</th>\n",
              "      <th>Location_Chennai</th>\n",
              "      <th>Location_Coimbatore</th>\n",
              "      <th>Location_Delhi</th>\n",
              "      <th>Location_Hyderabad</th>\n",
              "      <th>Location_Jaipur</th>\n",
              "      <th>Location_Kochi</th>\n",
              "      <th>Location_Kolkata</th>\n",
              "      <th>Location_Mumbai</th>\n",
              "      <th>Location_Pune</th>\n",
              "      <th>Owner Type_Fourth &amp; Above</th>\n",
              "      <th>Owner Type_Second</th>\n",
              "      <th>Owner Type_Third</th>\n",
              "      <th>transmission_man</th>\n",
              "      <th>fuel_type_petrol</th>\n",
              "    </tr>\n",
              "  </thead>\n",
              "  <tbody>\n",
              "    <tr>\n",
              "      <th>vif</th>\n",
              "      <td>4.71434</td>\n",
              "      <td>2.987257</td>\n",
              "      <td>6.703839</td>\n",
              "      <td>1.187746</td>\n",
              "      <td>1.799601</td>\n",
              "      <td>1.382009</td>\n",
              "      <td>1.342395</td>\n",
              "      <td>1.018465</td>\n",
              "      <td>1.767288</td>\n",
              "      <td>3.838952</td>\n",
              "      <td>2.22666</td>\n",
              "      <td>1.805081</td>\n",
              "      <td>1.793272</td>\n",
              "      <td>1.816897</td>\n",
              "      <td>1.794975</td>\n",
              "      <td>1.799197</td>\n",
              "      <td>1.805804</td>\n",
              "      <td>1.826639</td>\n",
              "      <td>1.803799</td>\n",
              "      <td>1.808834</td>\n",
              "      <td>1.802309</td>\n",
              "      <td>1.913893</td>\n",
              "      <td>1.911768</td>\n",
              "      <td>1.92583</td>\n",
              "      <td>4.138784</td>\n",
              "      <td>2.326379</td>\n",
              "    </tr>\n",
              "  </tbody>\n",
              "</table>\n",
              "</div>"
            ],
            "text/plain": [
              "     Age of car  engine_displacement  ...  transmission_man  fuel_type_petrol\n",
              "vif     4.71434             2.987257  ...          4.138784          2.326379\n",
              "\n",
              "[1 rows x 26 columns]"
            ]
          },
          "metadata": {
            "tags": []
          },
          "execution_count": 276
        }
      ]
    },
    {
      "cell_type": "code",
      "metadata": {
        "id": "KtFcjbrxirem",
        "colab_type": "code",
        "colab": {
          "base_uri": "https://localhost:8080/",
          "height": 1000
        },
        "outputId": "c636179f-0c8e-4da9-bc9d-986cacc99b27"
      },
      "source": [
        "num = df.select_dtypes(exclude = 'O').columns\n",
        "for i in num:\n",
        "    sns.boxplot(df[i])\n",
        "    plt.show()"
      ],
      "execution_count": 277,
      "outputs": [
        {
          "output_type": "display_data",
          "data": {
            "image/png": "[encoded data removed]",
            "text/plain": [
              "<Figure size 432x288 with 1 Axes>"
            ]
          },
          "metadata": {
            "tags": [],
            "needs_background": "light"
          }
        },
        {
          "output_type": "display_data",
          "data": {
            "image/png": "[encoded data removed]",
            "text/plain": [
              "<Figure size 432x288 with 1 Axes>"
            ]
          },
          "metadata": {
            "tags": [],
            "needs_background": "light"
          }
        },
        {
          "output_type": "display_data",
          "data": {
            "image/png": "[encoded data removed]",
            "text/plain": [
              "<Figure size 432x288 with 1 Axes>"
            ]
          },
          "metadata": {
            "tags": [],
            "needs_background": "light"
          }
        },
        {
          "output_type": "display_data",
          "data": {
            "image/png": "[encoded data removed]",
            "text/plain": [
              "<Figure size 432x288 with 1 Axes>"
            ]
          },
          "metadata": {
            "tags": [],
            "needs_background": "light"
          }
        },
        {
          "output_type": "display_data",
          "data": {
            "image/png": "[encoded data removed]",
            "text/plain": [
              "<Figure size 432x288 with 1 Axes>"
            ]
          },
          "metadata": {
            "tags": [],
            "needs_background": "light"
          }
        },
        {
          "output_type": "display_data",
          "data": {
            "image/png": "[encoded data removed]",
            "text/plain": [
              "<Figure size 432x288 with 1 Axes>"
            ]
          },
          "metadata": {
            "tags": [],
            "needs_background": "light"
          }
        },
        {
          "output_type": "display_data",
          "data": {
            "image/png": "[encoded data removed]",
            "text/plain": [
              "<Figure size 432x288 with 1 Axes>"
            ]
          },
          "metadata": {
            "tags": [],
            "needs_background": "light"
          }
        },
        {
          "output_type": "display_data",
          "data": {
            "image/png": "[encoded data removed]",
            "text/plain": [
              "<Figure size 432x288 with 1 Axes>"
            ]
          },
          "metadata": {
            "tags": [],
            "needs_background": "light"
          }
        }
      ]
    },
    {
      "cell_type": "code",
      "metadata": {
        "id": "B-C6_oXV41g-",
        "colab_type": "code",
        "colab": {
          "base_uri": "https://localhost:8080/",
          "height": 102
        },
        "outputId": "414d3e77-4a21-4c67-9a0b-9f58d63e65ca"
      },
      "source": [
        "df.columns"
      ],
      "execution_count": 278,
      "outputs": [
        {
          "output_type": "execute_result",
          "data": {
            "text/plain": [
              "Index(['Maker', 'model', 'Location', 'Owner Type', 'Age of car',\n",
              "       'engine_displacement', 'engine_power', 'Vroom Audit Rating',\n",
              "       'transmission', 'door_count', 'seat_count', 'fuel_type', 'Price',\n",
              "       'Distance'],\n",
              "      dtype='object')"
            ]
          },
          "metadata": {
            "tags": []
          },
          "execution_count": 278
        }
      ]
    },
    {
      "cell_type": "code",
      "metadata": {
        "id": "X__l6C_NjVOd",
        "colab_type": "code",
        "colab": {}
      },
      "source": [
        "df.columns = ['maker', 'model', 'location', 'owner_type', 'age', 'engine_displacement',\n",
        "       'engine_power', 'rating', 'transmission', 'door_count', 'seat_count', 'fuel_type',\n",
        "       'price', 'distance']"
      ],
      "execution_count": 279,
      "outputs": []
    },
    {
      "cell_type": "code",
      "metadata": {
        "id": "TMBJF7UikodR",
        "colab_type": "code",
        "colab": {
          "base_uri": "https://localhost:8080/",
          "height": 204
        },
        "outputId": "32c82e5e-fa30-403d-a987-3b63613dd642"
      },
      "source": [
        "df.head()"
      ],
      "execution_count": 280,
      "outputs": [
        {
          "output_type": "execute_result",
          "data": {
            "text/html": [
              "<div>\n",
              "<style scoped>\n",
              "    .dataframe tbody tr th:only-of-type {\n",
              "        vertical-align: middle;\n",
              "    }\n",
              "\n",
              "    .dataframe tbody tr th {\n",
              "        vertical-align: top;\n",
              "    }\n",
              "\n",
              "    .dataframe thead th {\n",
              "        text-align: right;\n",
              "    }\n",
              "</style>\n",
              "<table border=\"1\" class=\"dataframe\">\n",
              "  <thead>\n",
              "    <tr style=\"text-align: right;\">\n",
              "      <th></th>\n",
              "      <th>maker</th>\n",
              "      <th>model</th>\n",
              "      <th>location</th>\n",
              "      <th>owner_type</th>\n",
              "      <th>age</th>\n",
              "      <th>engine_displacement</th>\n",
              "      <th>engine_power</th>\n",
              "      <th>rating</th>\n",
              "      <th>transmission</th>\n",
              "      <th>door_count</th>\n",
              "      <th>seat_count</th>\n",
              "      <th>fuel_type</th>\n",
              "      <th>price</th>\n",
              "      <th>distance</th>\n",
              "    </tr>\n",
              "  </thead>\n",
              "  <tbody>\n",
              "    <tr>\n",
              "      <th>0</th>\n",
              "      <td>skoda</td>\n",
              "      <td>octavia</td>\n",
              "      <td>Ahmedabad</td>\n",
              "      <td>Second</td>\n",
              "      <td>55</td>\n",
              "      <td>1964</td>\n",
              "      <td>147.0</td>\n",
              "      <td>8</td>\n",
              "      <td>man</td>\n",
              "      <td>2</td>\n",
              "      <td>5</td>\n",
              "      <td>petrol</td>\n",
              "      <td>543764.25</td>\n",
              "      <td>65300.0</td>\n",
              "    </tr>\n",
              "    <tr>\n",
              "      <th>1</th>\n",
              "      <td>fiat</td>\n",
              "      <td>panda</td>\n",
              "      <td>Ahmedabad</td>\n",
              "      <td>Third</td>\n",
              "      <td>7</td>\n",
              "      <td>1242</td>\n",
              "      <td>51.0</td>\n",
              "      <td>6</td>\n",
              "      <td>man</td>\n",
              "      <td>4</td>\n",
              "      <td>4</td>\n",
              "      <td>petrol</td>\n",
              "      <td>401819.25</td>\n",
              "      <td>27750.0</td>\n",
              "    </tr>\n",
              "    <tr>\n",
              "      <th>2</th>\n",
              "      <td>bmw</td>\n",
              "      <td>x1</td>\n",
              "      <td>Hyderabad</td>\n",
              "      <td>Third</td>\n",
              "      <td>5</td>\n",
              "      <td>1995</td>\n",
              "      <td>105.0</td>\n",
              "      <td>7</td>\n",
              "      <td>auto</td>\n",
              "      <td>4</td>\n",
              "      <td>5</td>\n",
              "      <td>diesel</td>\n",
              "      <td>2392855.50</td>\n",
              "      <td>46000.0</td>\n",
              "    </tr>\n",
              "    <tr>\n",
              "      <th>3</th>\n",
              "      <td>nissan</td>\n",
              "      <td>juke</td>\n",
              "      <td>Mumbai</td>\n",
              "      <td>Third</td>\n",
              "      <td>8</td>\n",
              "      <td>1618</td>\n",
              "      <td>140.0</td>\n",
              "      <td>7</td>\n",
              "      <td>man</td>\n",
              "      <td>4</td>\n",
              "      <td>5</td>\n",
              "      <td>petrol</td>\n",
              "      <td>958606.50</td>\n",
              "      <td>43949.0</td>\n",
              "    </tr>\n",
              "    <tr>\n",
              "      <th>4</th>\n",
              "      <td>bmw</td>\n",
              "      <td>x5</td>\n",
              "      <td>Jaipur</td>\n",
              "      <td>Fourth &amp; Above</td>\n",
              "      <td>7</td>\n",
              "      <td>2993</td>\n",
              "      <td>180.0</td>\n",
              "      <td>7</td>\n",
              "      <td>auto</td>\n",
              "      <td>4</td>\n",
              "      <td>5</td>\n",
              "      <td>diesel</td>\n",
              "      <td>3085561.50</td>\n",
              "      <td>59524.0</td>\n",
              "    </tr>\n",
              "  </tbody>\n",
              "</table>\n",
              "</div>"
            ],
            "text/plain": [
              "    maker    model   location  ... fuel_type       price  distance\n",
              "0   skoda  octavia  Ahmedabad  ...    petrol   543764.25   65300.0\n",
              "1    fiat    panda  Ahmedabad  ...    petrol   401819.25   27750.0\n",
              "2     bmw       x1  Hyderabad  ...    diesel  2392855.50   46000.0\n",
              "3  nissan     juke     Mumbai  ...    petrol   958606.50   43949.0\n",
              "4     bmw       x5     Jaipur  ...    diesel  3085561.50   59524.0\n",
              "\n",
              "[5 rows x 14 columns]"
            ]
          },
          "metadata": {
            "tags": []
          },
          "execution_count": 280
        }
      ]
    },
    {
      "cell_type": "code",
      "metadata": {
        "id": "DWRb1HDU5Jwr",
        "colab_type": "code",
        "colab": {}
      },
      "source": [
        "df.reset_index(drop = True, inplace = True)"
      ],
      "execution_count": 281,
      "outputs": []
    },
    {
      "cell_type": "code",
      "metadata": {
        "id": "NrqsZ9DI5PL9",
        "colab_type": "code",
        "colab": {
          "base_uri": "https://localhost:8080/",
          "height": 436
        },
        "outputId": "67269c27-c510-43d1-c39f-4869f3d9e921"
      },
      "source": [
        "df[df['price'].isnull()]"
      ],
      "execution_count": 282,
      "outputs": [
        {
          "output_type": "execute_result",
          "data": {
            "text/html": [
              "<div>\n",
              "<style scoped>\n",
              "    .dataframe tbody tr th:only-of-type {\n",
              "        vertical-align: middle;\n",
              "    }\n",
              "\n",
              "    .dataframe tbody tr th {\n",
              "        vertical-align: top;\n",
              "    }\n",
              "\n",
              "    .dataframe thead th {\n",
              "        text-align: right;\n",
              "    }\n",
              "</style>\n",
              "<table border=\"1\" class=\"dataframe\">\n",
              "  <thead>\n",
              "    <tr style=\"text-align: right;\">\n",
              "      <th></th>\n",
              "      <th>maker</th>\n",
              "      <th>model</th>\n",
              "      <th>location</th>\n",
              "      <th>owner_type</th>\n",
              "      <th>age</th>\n",
              "      <th>engine_displacement</th>\n",
              "      <th>engine_power</th>\n",
              "      <th>rating</th>\n",
              "      <th>transmission</th>\n",
              "      <th>door_count</th>\n",
              "      <th>seat_count</th>\n",
              "      <th>fuel_type</th>\n",
              "      <th>price</th>\n",
              "      <th>distance</th>\n",
              "    </tr>\n",
              "  </thead>\n",
              "  <tbody>\n",
              "    <tr>\n",
              "      <th>53515</th>\n",
              "      <td>skoda</td>\n",
              "      <td>octavia</td>\n",
              "      <td>Mumbai</td>\n",
              "      <td>First</td>\n",
              "      <td>12</td>\n",
              "      <td>1595</td>\n",
              "      <td>75.0</td>\n",
              "      <td>5</td>\n",
              "      <td>man</td>\n",
              "      <td>4</td>\n",
              "      <td>5</td>\n",
              "      <td>petrol</td>\n",
              "      <td>NaN</td>\n",
              "      <td>150000.0</td>\n",
              "    </tr>\n",
              "    <tr>\n",
              "      <th>53516</th>\n",
              "      <td>skoda</td>\n",
              "      <td>rapid</td>\n",
              "      <td>Coimbatore</td>\n",
              "      <td>Third</td>\n",
              "      <td>5</td>\n",
              "      <td>1598</td>\n",
              "      <td>77.0</td>\n",
              "      <td>4</td>\n",
              "      <td>man</td>\n",
              "      <td>4</td>\n",
              "      <td>5</td>\n",
              "      <td>diesel</td>\n",
              "      <td>NaN</td>\n",
              "      <td>29376.0</td>\n",
              "    </tr>\n",
              "    <tr>\n",
              "      <th>53517</th>\n",
              "      <td>skoda</td>\n",
              "      <td>octavia</td>\n",
              "      <td>Coimbatore</td>\n",
              "      <td>Second</td>\n",
              "      <td>5</td>\n",
              "      <td>1968</td>\n",
              "      <td>110.0</td>\n",
              "      <td>5</td>\n",
              "      <td>man</td>\n",
              "      <td>5</td>\n",
              "      <td>5</td>\n",
              "      <td>diesel</td>\n",
              "      <td>NaN</td>\n",
              "      <td>30563.0</td>\n",
              "    </tr>\n",
              "    <tr>\n",
              "      <th>53518</th>\n",
              "      <td>audi</td>\n",
              "      <td>q3</td>\n",
              "      <td>Delhi</td>\n",
              "      <td>Fourth &amp; Above</td>\n",
              "      <td>4</td>\n",
              "      <td>1968</td>\n",
              "      <td>110.0</td>\n",
              "      <td>8</td>\n",
              "      <td>auto</td>\n",
              "      <td>4</td>\n",
              "      <td>5</td>\n",
              "      <td>diesel</td>\n",
              "      <td>NaN</td>\n",
              "      <td>8650.0</td>\n",
              "    </tr>\n",
              "    <tr>\n",
              "      <th>53519</th>\n",
              "      <td>audi</td>\n",
              "      <td>tt</td>\n",
              "      <td>Chennai</td>\n",
              "      <td>Third</td>\n",
              "      <td>4</td>\n",
              "      <td>1984</td>\n",
              "      <td>169.0</td>\n",
              "      <td>4</td>\n",
              "      <td>auto</td>\n",
              "      <td>2</td>\n",
              "      <td>5</td>\n",
              "      <td>petrol</td>\n",
              "      <td>NaN</td>\n",
              "      <td>6400.0</td>\n",
              "    </tr>\n",
              "    <tr>\n",
              "      <th>...</th>\n",
              "      <td>...</td>\n",
              "      <td>...</td>\n",
              "      <td>...</td>\n",
              "      <td>...</td>\n",
              "      <td>...</td>\n",
              "      <td>...</td>\n",
              "      <td>...</td>\n",
              "      <td>...</td>\n",
              "      <td>...</td>\n",
              "      <td>...</td>\n",
              "      <td>...</td>\n",
              "      <td>...</td>\n",
              "      <td>...</td>\n",
              "      <td>...</td>\n",
              "    </tr>\n",
              "    <tr>\n",
              "      <th>59125</th>\n",
              "      <td>skoda</td>\n",
              "      <td>octavia</td>\n",
              "      <td>Mumbai</td>\n",
              "      <td>First</td>\n",
              "      <td>8</td>\n",
              "      <td>1968</td>\n",
              "      <td>103.0</td>\n",
              "      <td>8</td>\n",
              "      <td>man</td>\n",
              "      <td>4</td>\n",
              "      <td>5</td>\n",
              "      <td>diesel</td>\n",
              "      <td>NaN</td>\n",
              "      <td>149976.0</td>\n",
              "    </tr>\n",
              "    <tr>\n",
              "      <th>59126</th>\n",
              "      <td>skoda</td>\n",
              "      <td>superb</td>\n",
              "      <td>Ahmedabad</td>\n",
              "      <td>First</td>\n",
              "      <td>14</td>\n",
              "      <td>1896</td>\n",
              "      <td>96.0</td>\n",
              "      <td>6</td>\n",
              "      <td>man</td>\n",
              "      <td>4</td>\n",
              "      <td>5</td>\n",
              "      <td>diesel</td>\n",
              "      <td>NaN</td>\n",
              "      <td>332000.0</td>\n",
              "    </tr>\n",
              "    <tr>\n",
              "      <th>59127</th>\n",
              "      <td>skoda</td>\n",
              "      <td>octavia</td>\n",
              "      <td>Bangalore</td>\n",
              "      <td>Second</td>\n",
              "      <td>14</td>\n",
              "      <td>1896</td>\n",
              "      <td>77.0</td>\n",
              "      <td>7</td>\n",
              "      <td>man</td>\n",
              "      <td>5</td>\n",
              "      <td>5</td>\n",
              "      <td>diesel</td>\n",
              "      <td>NaN</td>\n",
              "      <td>230800.0</td>\n",
              "    </tr>\n",
              "    <tr>\n",
              "      <th>59128</th>\n",
              "      <td>nissan</td>\n",
              "      <td>qashqai</td>\n",
              "      <td>Jaipur</td>\n",
              "      <td>Third</td>\n",
              "      <td>8</td>\n",
              "      <td>1997</td>\n",
              "      <td>104.0</td>\n",
              "      <td>5</td>\n",
              "      <td>man</td>\n",
              "      <td>4</td>\n",
              "      <td>7</td>\n",
              "      <td>petrol</td>\n",
              "      <td>NaN</td>\n",
              "      <td>63480.0</td>\n",
              "    </tr>\n",
              "    <tr>\n",
              "      <th>59129</th>\n",
              "      <td>hyundai</td>\n",
              "      <td>i30</td>\n",
              "      <td>Jaipur</td>\n",
              "      <td>Second</td>\n",
              "      <td>8</td>\n",
              "      <td>1396</td>\n",
              "      <td>80.0</td>\n",
              "      <td>4</td>\n",
              "      <td>man</td>\n",
              "      <td>4</td>\n",
              "      <td>5</td>\n",
              "      <td>petrol</td>\n",
              "      <td>NaN</td>\n",
              "      <td>75000.0</td>\n",
              "    </tr>\n",
              "  </tbody>\n",
              "</table>\n",
              "<p>5615 rows × 14 columns</p>\n",
              "</div>"
            ],
            "text/plain": [
              "         maker    model    location  ... fuel_type  price  distance\n",
              "53515    skoda  octavia      Mumbai  ...    petrol    NaN  150000.0\n",
              "53516    skoda    rapid  Coimbatore  ...    diesel    NaN   29376.0\n",
              "53517    skoda  octavia  Coimbatore  ...    diesel    NaN   30563.0\n",
              "53518     audi       q3       Delhi  ...    diesel    NaN    8650.0\n",
              "53519     audi       tt     Chennai  ...    petrol    NaN    6400.0\n",
              "...        ...      ...         ...  ...       ...    ...       ...\n",
              "59125    skoda  octavia      Mumbai  ...    diesel    NaN  149976.0\n",
              "59126    skoda   superb   Ahmedabad  ...    diesel    NaN  332000.0\n",
              "59127    skoda  octavia   Bangalore  ...    diesel    NaN  230800.0\n",
              "59128   nissan  qashqai      Jaipur  ...    petrol    NaN   63480.0\n",
              "59129  hyundai      i30      Jaipur  ...    petrol    NaN   75000.0\n",
              "\n",
              "[5615 rows x 14 columns]"
            ]
          },
          "metadata": {
            "tags": []
          },
          "execution_count": 282
        }
      ]
    },
    {
      "cell_type": "code",
      "metadata": {
        "id": "tKdyc9zUk1eo",
        "colab_type": "code",
        "colab": {
          "base_uri": "https://localhost:8080/",
          "height": 34
        },
        "outputId": "09d6377a-3052-4fec-d40d-71334aa53021"
      },
      "source": [
        "X = df.drop('price', 1)\n",
        "y = df['price']\n",
        "X_train = X[:53515]\n",
        "y_train = y[:53515]\n",
        "X_test = X[53515:]\n",
        "y_test = y[53515:]\n",
        "X_train.shape, y_train.shape, X_test.shape, y_test.shape"
      ],
      "execution_count": 283,
      "outputs": [
        {
          "output_type": "execute_result",
          "data": {
            "text/plain": [
              "((53515, 13), (53515,), (5615, 13), (5615,))"
            ]
          },
          "metadata": {
            "tags": []
          },
          "execution_count": 283
        }
      ]
    },
    {
      "cell_type": "code",
      "metadata": {
        "id": "Fh57Qo7Sly0B",
        "colab_type": "code",
        "colab": {}
      },
      "source": [
        "num = ['age', 'engine_displacement',\n",
        "       'engine_power', 'rating', 'door_count', 'seat_count', 'distance']"
      ],
      "execution_count": 284,
      "outputs": []
    },
    {
      "cell_type": "code",
      "metadata": {
        "id": "4dcljhvum-W_",
        "colab_type": "code",
        "colab": {
          "base_uri": "https://localhost:8080/",
          "height": 136
        },
        "outputId": "b6425f06-a4a8-47a5-d9b0-2e21872eb95d"
      },
      "source": [
        "for i in num:\n",
        "    print(X_train[i].skew(), X_test[i].skew())"
      ],
      "execution_count": 285,
      "outputs": [
        {
          "output_type": "stream",
          "text": [
            "1.9125557321371436 2.151668535955962\n",
            "12.730459629497304 13.087955583034667\n",
            "1.7912304691708218 2.719814064126615\n",
            "0.0049910074172671666 0.005117383792680339\n",
            "-1.3510838649868688 -1.3805153296504695\n",
            "-1.6123259271669041 -1.888513431992152\n",
            "23.6028344559942 21.340080923951337\n"
          ],
          "name": "stdout"
        }
      ]
    },
    {
      "cell_type": "code",
      "metadata": {
        "id": "NuIIqZe57-n8",
        "colab_type": "code",
        "colab": {}
      },
      "source": [
        "tran = ['age', 'engine_displacement',\n",
        "       'engine_power', 'door_count', 'seat_count', 'distance']"
      ],
      "execution_count": 286,
      "outputs": []
    },
    {
      "cell_type": "code",
      "metadata": {
        "id": "AL7iFLnkmMpr",
        "colab_type": "code",
        "colab": {
          "base_uri": "https://localhost:8080/",
          "height": 544
        },
        "outputId": "b1b7715a-a564-465c-cdce-a58ed28b85d6"
      },
      "source": [
        "pt = PowerTransformer()\n",
        "X_train[tran] = pt.fit_transform(X_train[tran])\n",
        "X_test[tran] = pt.transform(X_test[tran])\n",
        "for i in num:\n",
        "    print(X_train[i].skew(), X_test[i].skew())"
      ],
      "execution_count": 287,
      "outputs": [
        {
          "output_type": "stream",
          "text": [
            "0.06116264135204408 0.11668922757025084\n",
            "-0.5373946116887601 0.19327299999902287\n",
            "0.0371132119835988 0.08618424627234243\n",
            "0.0049910074172671666 0.005117383792680339\n",
            "0.06664592590606265 0.08358575118816297\n",
            "0.7950575875105326 0.4747226032818689\n",
            "-0.18013216696249706 -0.0767746475452153\n"
          ],
          "name": "stdout"
        },
        {
          "output_type": "stream",
          "text": [
            "/usr/local/lib/python3.6/dist-packages/ipykernel_launcher.py:2: SettingWithCopyWarning: \n",
            "A value is trying to be set on a copy of a slice from a DataFrame.\n",
            "Try using .loc[row_indexer,col_indexer] = value instead\n",
            "\n",
            "See the caveats in the documentation: https://pandas.pydata.org/pandas-docs/stable/user_guide/indexing.html#returning-a-view-versus-a-copy\n",
            "  \n",
            "/usr/local/lib/python3.6/dist-packages/pandas/core/indexing.py:966: SettingWithCopyWarning: \n",
            "A value is trying to be set on a copy of a slice from a DataFrame.\n",
            "Try using .loc[row_indexer,col_indexer] = value instead\n",
            "\n",
            "See the caveats in the documentation: https://pandas.pydata.org/pandas-docs/stable/user_guide/indexing.html#returning-a-view-versus-a-copy\n",
            "  self.obj[item] = s\n",
            "/usr/local/lib/python3.6/dist-packages/ipykernel_launcher.py:3: SettingWithCopyWarning: \n",
            "A value is trying to be set on a copy of a slice from a DataFrame.\n",
            "Try using .loc[row_indexer,col_indexer] = value instead\n",
            "\n",
            "See the caveats in the documentation: https://pandas.pydata.org/pandas-docs/stable/user_guide/indexing.html#returning-a-view-versus-a-copy\n",
            "  This is separate from the ipykernel package so we can avoid doing imports until\n",
            "/usr/local/lib/python3.6/dist-packages/pandas/core/indexing.py:966: SettingWithCopyWarning: \n",
            "A value is trying to be set on a copy of a slice from a DataFrame.\n",
            "Try using .loc[row_indexer,col_indexer] = value instead\n",
            "\n",
            "See the caveats in the documentation: https://pandas.pydata.org/pandas-docs/stable/user_guide/indexing.html#returning-a-view-versus-a-copy\n",
            "  self.obj[item] = s\n"
          ],
          "name": "stderr"
        }
      ]
    },
    {
      "cell_type": "code",
      "metadata": {
        "id": "hdEs-MIj8-S9",
        "colab_type": "code",
        "colab": {
          "base_uri": "https://localhost:8080/",
          "height": 204
        },
        "outputId": "04447f7a-a5ea-4e0a-d28c-25404257814d"
      },
      "source": [
        "X_train.head()"
      ],
      "execution_count": 288,
      "outputs": [
        {
          "output_type": "execute_result",
          "data": {
            "text/html": [
              "<div>\n",
              "<style scoped>\n",
              "    .dataframe tbody tr th:only-of-type {\n",
              "        vertical-align: middle;\n",
              "    }\n",
              "\n",
              "    .dataframe tbody tr th {\n",
              "        vertical-align: top;\n",
              "    }\n",
              "\n",
              "    .dataframe thead th {\n",
              "        text-align: right;\n",
              "    }\n",
              "</style>\n",
              "<table border=\"1\" class=\"dataframe\">\n",
              "  <thead>\n",
              "    <tr style=\"text-align: right;\">\n",
              "      <th></th>\n",
              "      <th>maker</th>\n",
              "      <th>model</th>\n",
              "      <th>location</th>\n",
              "      <th>owner_type</th>\n",
              "      <th>age</th>\n",
              "      <th>engine_displacement</th>\n",
              "      <th>engine_power</th>\n",
              "      <th>rating</th>\n",
              "      <th>transmission</th>\n",
              "      <th>door_count</th>\n",
              "      <th>seat_count</th>\n",
              "      <th>fuel_type</th>\n",
              "      <th>distance</th>\n",
              "    </tr>\n",
              "  </thead>\n",
              "  <tbody>\n",
              "    <tr>\n",
              "      <th>0</th>\n",
              "      <td>skoda</td>\n",
              "      <td>octavia</td>\n",
              "      <td>Ahmedabad</td>\n",
              "      <td>Second</td>\n",
              "      <td>3.118585</td>\n",
              "      <td>0.393766</td>\n",
              "      <td>1.114821</td>\n",
              "      <td>8</td>\n",
              "      <td>man</td>\n",
              "      <td>-2.131796</td>\n",
              "      <td>0.156274</td>\n",
              "      <td>petrol</td>\n",
              "      <td>0.217529</td>\n",
              "    </tr>\n",
              "    <tr>\n",
              "      <th>1</th>\n",
              "      <td>fiat</td>\n",
              "      <td>panda</td>\n",
              "      <td>Ahmedabad</td>\n",
              "      <td>Third</td>\n",
              "      <td>-0.101184</td>\n",
              "      <td>-0.989274</td>\n",
              "      <td>-1.332384</td>\n",
              "      <td>6</td>\n",
              "      <td>man</td>\n",
              "      <td>-0.126978</td>\n",
              "      <td>-1.588186</td>\n",
              "      <td>petrol</td>\n",
              "      <td>-0.279840</td>\n",
              "    </tr>\n",
              "    <tr>\n",
              "      <th>2</th>\n",
              "      <td>bmw</td>\n",
              "      <td>x1</td>\n",
              "      <td>Hyderabad</td>\n",
              "      <td>Third</td>\n",
              "      <td>-0.827254</td>\n",
              "      <td>0.437810</td>\n",
              "      <td>0.284840</td>\n",
              "      <td>7</td>\n",
              "      <td>auto</td>\n",
              "      <td>-0.126978</td>\n",
              "      <td>0.156274</td>\n",
              "      <td>diesel</td>\n",
              "      <td>-0.000941</td>\n",
              "    </tr>\n",
              "    <tr>\n",
              "      <th>3</th>\n",
              "      <td>nissan</td>\n",
              "      <td>juke</td>\n",
              "      <td>Mumbai</td>\n",
              "      <td>Third</td>\n",
              "      <td>0.172800</td>\n",
              "      <td>-0.168405</td>\n",
              "      <td>0.991314</td>\n",
              "      <td>7</td>\n",
              "      <td>man</td>\n",
              "      <td>-0.126978</td>\n",
              "      <td>0.156274</td>\n",
              "      <td>petrol</td>\n",
              "      <td>-0.027803</td>\n",
              "    </tr>\n",
              "    <tr>\n",
              "      <th>4</th>\n",
              "      <td>bmw</td>\n",
              "      <td>x5</td>\n",
              "      <td>Jaipur</td>\n",
              "      <td>Fourth &amp; Above</td>\n",
              "      <td>-0.101184</td>\n",
              "      <td>1.510520</td>\n",
              "      <td>1.639240</td>\n",
              "      <td>7</td>\n",
              "      <td>auto</td>\n",
              "      <td>-0.126978</td>\n",
              "      <td>0.156274</td>\n",
              "      <td>diesel</td>\n",
              "      <td>0.157628</td>\n",
              "    </tr>\n",
              "  </tbody>\n",
              "</table>\n",
              "</div>"
            ],
            "text/plain": [
              "    maker    model   location  ... seat_count  fuel_type  distance\n",
              "0   skoda  octavia  Ahmedabad  ...   0.156274     petrol  0.217529\n",
              "1    fiat    panda  Ahmedabad  ...  -1.588186     petrol -0.279840\n",
              "2     bmw       x1  Hyderabad  ...   0.156274     diesel -0.000941\n",
              "3  nissan     juke     Mumbai  ...   0.156274     petrol -0.027803\n",
              "4     bmw       x5     Jaipur  ...   0.156274     diesel  0.157628\n",
              "\n",
              "[5 rows x 13 columns]"
            ]
          },
          "metadata": {
            "tags": []
          },
          "execution_count": 288
        }
      ]
    },
    {
      "cell_type": "code",
      "metadata": {
        "id": "ZeKiCOErn-3B",
        "colab_type": "code",
        "colab": {
          "base_uri": "https://localhost:8080/",
          "height": 612
        },
        "outputId": "eedd18fa-f553-47f5-faeb-fcf0e7ffa62d"
      },
      "source": [
        "ss = StandardScaler()\n",
        "X_train[num] = ss.fit_transform(X_train[num])\n",
        "X_test[num] = ss.transform(X_test[num])\n",
        "X_train.head()"
      ],
      "execution_count": 290,
      "outputs": [
        {
          "output_type": "stream",
          "text": [
            "/usr/local/lib/python3.6/dist-packages/ipykernel_launcher.py:2: SettingWithCopyWarning: \n",
            "A value is trying to be set on a copy of a slice from a DataFrame.\n",
            "Try using .loc[row_indexer,col_indexer] = value instead\n",
            "\n",
            "See the caveats in the documentation: https://pandas.pydata.org/pandas-docs/stable/user_guide/indexing.html#returning-a-view-versus-a-copy\n",
            "  \n",
            "/usr/local/lib/python3.6/dist-packages/pandas/core/indexing.py:966: SettingWithCopyWarning: \n",
            "A value is trying to be set on a copy of a slice from a DataFrame.\n",
            "Try using .loc[row_indexer,col_indexer] = value instead\n",
            "\n",
            "See the caveats in the documentation: https://pandas.pydata.org/pandas-docs/stable/user_guide/indexing.html#returning-a-view-versus-a-copy\n",
            "  self.obj[item] = s\n",
            "/usr/local/lib/python3.6/dist-packages/ipykernel_launcher.py:3: SettingWithCopyWarning: \n",
            "A value is trying to be set on a copy of a slice from a DataFrame.\n",
            "Try using .loc[row_indexer,col_indexer] = value instead\n",
            "\n",
            "See the caveats in the documentation: https://pandas.pydata.org/pandas-docs/stable/user_guide/indexing.html#returning-a-view-versus-a-copy\n",
            "  This is separate from the ipykernel package so we can avoid doing imports until\n",
            "/usr/local/lib/python3.6/dist-packages/pandas/core/indexing.py:966: SettingWithCopyWarning: \n",
            "A value is trying to be set on a copy of a slice from a DataFrame.\n",
            "Try using .loc[row_indexer,col_indexer] = value instead\n",
            "\n",
            "See the caveats in the documentation: https://pandas.pydata.org/pandas-docs/stable/user_guide/indexing.html#returning-a-view-versus-a-copy\n",
            "  self.obj[item] = s\n"
          ],
          "name": "stderr"
        },
        {
          "output_type": "execute_result",
          "data": {
            "text/html": [
              "<div>\n",
              "<style scoped>\n",
              "    .dataframe tbody tr th:only-of-type {\n",
              "        vertical-align: middle;\n",
              "    }\n",
              "\n",
              "    .dataframe tbody tr th {\n",
              "        vertical-align: top;\n",
              "    }\n",
              "\n",
              "    .dataframe thead th {\n",
              "        text-align: right;\n",
              "    }\n",
              "</style>\n",
              "<table border=\"1\" class=\"dataframe\">\n",
              "  <thead>\n",
              "    <tr style=\"text-align: right;\">\n",
              "      <th></th>\n",
              "      <th>maker</th>\n",
              "      <th>model</th>\n",
              "      <th>location</th>\n",
              "      <th>owner_type</th>\n",
              "      <th>age</th>\n",
              "      <th>engine_displacement</th>\n",
              "      <th>engine_power</th>\n",
              "      <th>rating</th>\n",
              "      <th>transmission</th>\n",
              "      <th>door_count</th>\n",
              "      <th>seat_count</th>\n",
              "      <th>fuel_type</th>\n",
              "      <th>distance</th>\n",
              "    </tr>\n",
              "  </thead>\n",
              "  <tbody>\n",
              "    <tr>\n",
              "      <th>0</th>\n",
              "      <td>skoda</td>\n",
              "      <td>octavia</td>\n",
              "      <td>Ahmedabad</td>\n",
              "      <td>Second</td>\n",
              "      <td>3.118585</td>\n",
              "      <td>0.393766</td>\n",
              "      <td>1.114821</td>\n",
              "      <td>1.411263</td>\n",
              "      <td>man</td>\n",
              "      <td>-2.131796</td>\n",
              "      <td>0.156274</td>\n",
              "      <td>petrol</td>\n",
              "      <td>0.217529</td>\n",
              "    </tr>\n",
              "    <tr>\n",
              "      <th>1</th>\n",
              "      <td>fiat</td>\n",
              "      <td>panda</td>\n",
              "      <td>Ahmedabad</td>\n",
              "      <td>Third</td>\n",
              "      <td>-0.101184</td>\n",
              "      <td>-0.989274</td>\n",
              "      <td>-1.332384</td>\n",
              "      <td>0.001146</td>\n",
              "      <td>man</td>\n",
              "      <td>-0.126978</td>\n",
              "      <td>-1.588186</td>\n",
              "      <td>petrol</td>\n",
              "      <td>-0.279840</td>\n",
              "    </tr>\n",
              "    <tr>\n",
              "      <th>2</th>\n",
              "      <td>bmw</td>\n",
              "      <td>x1</td>\n",
              "      <td>Hyderabad</td>\n",
              "      <td>Third</td>\n",
              "      <td>-0.827254</td>\n",
              "      <td>0.437810</td>\n",
              "      <td>0.284840</td>\n",
              "      <td>0.706204</td>\n",
              "      <td>auto</td>\n",
              "      <td>-0.126978</td>\n",
              "      <td>0.156274</td>\n",
              "      <td>diesel</td>\n",
              "      <td>-0.000941</td>\n",
              "    </tr>\n",
              "    <tr>\n",
              "      <th>3</th>\n",
              "      <td>nissan</td>\n",
              "      <td>juke</td>\n",
              "      <td>Mumbai</td>\n",
              "      <td>Third</td>\n",
              "      <td>0.172800</td>\n",
              "      <td>-0.168405</td>\n",
              "      <td>0.991314</td>\n",
              "      <td>0.706204</td>\n",
              "      <td>man</td>\n",
              "      <td>-0.126978</td>\n",
              "      <td>0.156274</td>\n",
              "      <td>petrol</td>\n",
              "      <td>-0.027803</td>\n",
              "    </tr>\n",
              "    <tr>\n",
              "      <th>4</th>\n",
              "      <td>bmw</td>\n",
              "      <td>x5</td>\n",
              "      <td>Jaipur</td>\n",
              "      <td>Fourth &amp; Above</td>\n",
              "      <td>-0.101184</td>\n",
              "      <td>1.510520</td>\n",
              "      <td>1.639240</td>\n",
              "      <td>0.706204</td>\n",
              "      <td>auto</td>\n",
              "      <td>-0.126978</td>\n",
              "      <td>0.156274</td>\n",
              "      <td>diesel</td>\n",
              "      <td>0.157628</td>\n",
              "    </tr>\n",
              "  </tbody>\n",
              "</table>\n",
              "</div>"
            ],
            "text/plain": [
              "    maker    model   location  ... seat_count  fuel_type  distance\n",
              "0   skoda  octavia  Ahmedabad  ...   0.156274     petrol  0.217529\n",
              "1    fiat    panda  Ahmedabad  ...  -1.588186     petrol -0.279840\n",
              "2     bmw       x1  Hyderabad  ...   0.156274     diesel -0.000941\n",
              "3  nissan     juke     Mumbai  ...   0.156274     petrol -0.027803\n",
              "4     bmw       x5     Jaipur  ...   0.156274     diesel  0.157628\n",
              "\n",
              "[5 rows x 13 columns]"
            ]
          },
          "metadata": {
            "tags": []
          },
          "execution_count": 290
        }
      ]
    },
    {
      "cell_type": "code",
      "metadata": {
        "id": "2hCozOT3-HYa",
        "colab_type": "code",
        "colab": {
          "base_uri": "https://localhost:8080/",
          "height": 34
        },
        "outputId": "796a86a3-f7ff-4d87-d2f4-a4e81254d4c0"
      },
      "source": [
        "X_train_dum = pd.get_dummies(X_train, drop_first = True)\n",
        "X_test_dum = pd.get_dummies(X_test, drop_first = True)\n",
        "X_train_dum.shape, X_test_dum.shape"
      ],
      "execution_count": 291,
      "outputs": [
        {
          "output_type": "execute_result",
          "data": {
            "text/plain": [
              "((53515, 51), (5615, 51))"
            ]
          },
          "metadata": {
            "tags": []
          },
          "execution_count": 291
        }
      ]
    },
    {
      "cell_type": "code",
      "metadata": {
        "id": "Ia1VF71srayj",
        "colab_type": "code",
        "colab": {}
      },
      "source": [
        "lr = LinearRegression()\n",
        "lr.fit(X_train_dum, y_train)\n",
        "y_train_pred = lr.predict(X_train_dum)\n",
        "y_test_pred = lr.predict(X_test_dum)"
      ],
      "execution_count": 292,
      "outputs": []
    },
    {
      "cell_type": "code",
      "metadata": {
        "id": "YJZ4zWCHsDvv",
        "colab_type": "code",
        "colab": {
          "base_uri": "https://localhost:8080/",
          "height": 34
        },
        "outputId": "fd4c02e5-e498-4806-8c8c-0d47acd82082"
      },
      "source": [
        "np.sqrt(mean_squared_error(y_train, y_train_pred)), r2_score(y_train, y_train_pred)"
      ],
      "execution_count": 293,
      "outputs": [
        {
          "output_type": "execute_result",
          "data": {
            "text/plain": [
              "(401457.0312303136, 0.7738272474848716)"
            ]
          },
          "metadata": {
            "tags": []
          },
          "execution_count": 293
        }
      ]
    },
    {
      "cell_type": "code",
      "metadata": {
        "id": "wWnr5zSRtFB9",
        "colab_type": "code",
        "colab": {}
      },
      "source": [
        "rfr = RandomForestRegressor(random_state = 0)"
      ],
      "execution_count": 294,
      "outputs": []
    },
    {
      "cell_type": "code",
      "metadata": {
        "id": "vh-N5RAYtnsE",
        "colab_type": "code",
        "colab": {
          "base_uri": "https://localhost:8080/",
          "height": 34
        },
        "outputId": "496d2f5a-3ff9-4ce0-8865-edf572b758f4"
      },
      "source": [
        "rfr.fit(X_train_dum, y_train)\n",
        "y_train_pred = rfr.predict(X_train_dum)\n",
        "y_test_pred = rfr.predict(X_test_dum)\n",
        "np.sqrt(mean_squared_error(y_train, y_train_pred)), r2_score(y_train, y_train_pred)"
      ],
      "execution_count": 295,
      "outputs": [
        {
          "output_type": "execute_result",
          "data": {
            "text/plain": [
              "(88035.86570376, 0.9891236938301857)"
            ]
          },
          "metadata": {
            "tags": []
          },
          "execution_count": 295
        }
      ]
    },
    {
      "cell_type": "code",
      "metadata": {
        "id": "8NpDJ0aSuI8O",
        "colab_type": "code",
        "colab": {
          "base_uri": "https://localhost:8080/",
          "height": 884
        },
        "outputId": "27b5c2bc-5c16-4d65-9924-1bec0fac528c"
      },
      "source": [
        "sorted(zip(rfr.feature_importances_, X_train_dum.columns))"
      ],
      "execution_count": 296,
      "outputs": [
        {
          "output_type": "execute_result",
          "data": {
            "text/plain": [
              "[(2.4133387485212784e-05, 'maker_maserati'),\n",
              " (3.219948532414523e-05, 'model_citigo'),\n",
              " (4.6259030185375526e-05, 'model_micra'),\n",
              " (4.728583471027111e-05, 'model_aygo'),\n",
              " (6.177052637866966e-05, 'model_panda'),\n",
              " (7.495264255429315e-05, 'model_roomster'),\n",
              " (0.00011766004141377163, 'maker_fiat'),\n",
              " (0.00015018070571019013, 'model_avensis'),\n",
              " (0.0002443426112845851, 'model_yaris'),\n",
              " (0.00026907831771029033, 'model_rapid'),\n",
              " (0.00031358174606350525, 'model_juke'),\n",
              " (0.0003295509009372737, 'model_i30'),\n",
              " (0.0003961769690974615, 'maker_hyundai'),\n",
              " (0.0004959851488193258, 'maker_toyota'),\n",
              " (0.0005656388790346987, 'maker_nissan'),\n",
              " (0.0006079391974022407, 'model_yeti'),\n",
              " (0.0007005843525500099, 'location_Kolkata'),\n",
              " (0.0007409304883886521, 'model_tt'),\n",
              " (0.0007667577632645002, 'location_Bangalore'),\n",
              " (0.0007842322367505499, 'location_Hyderabad'),\n",
              " (0.0008029158143266454, 'location_Mumbai'),\n",
              " (0.000860413489478994, 'location_Chennai'),\n",
              " (0.0010064374212415035, 'model_coupe'),\n",
              " (0.0010778115759458367, 'location_Kochi'),\n",
              " (0.0011408837449600898, 'location_Jaipur'),\n",
              " (0.0012869418340226086, 'owner_type_Fourth & Above'),\n",
              " (0.0013630002058998886, 'owner_type_Second'),\n",
              " (0.0013882099036705616, 'location_Delhi'),\n",
              " (0.0015195220356575044, 'model_qashqai'),\n",
              " (0.001528681501225863, 'model_superb'),\n",
              " (0.0015724110215734812, 'location_Pune'),\n",
              " (0.0015952114344009631, 'owner_type_Third'),\n",
              " (0.0016338058393020362, 'location_Coimbatore'),\n",
              " (0.001865871861308413, 'model_x1'),\n",
              " (0.002455179275051603, 'door_count'),\n",
              " (0.00249366947862709, 'seat_count'),\n",
              " (0.0027724049478423667, 'model_x5'),\n",
              " (0.0030379189252155163, 'maker_bmw'),\n",
              " (0.003293251302325974, 'model_q7'),\n",
              " (0.003691455423274217, 'maker_skoda'),\n",
              " (0.004337320764897262, 'fuel_type_petrol'),\n",
              " (0.004687583244469767, 'rating'),\n",
              " (0.0047827049176900885, 'transmission_man'),\n",
              " (0.0056266703359394155, 'model_x3'),\n",
              " (0.007454659239394103, 'model_octavia'),\n",
              " (0.009071575485300274, 'model_q3'),\n",
              " (0.014551943477230028, 'model_q5'),\n",
              " (0.05887772444039184, 'engine_displacement'),\n",
              " (0.08074723930571165, 'distance'),\n",
              " (0.3133506208334751, 'age'),\n",
              " (0.4533567206550843, 'engine_power')]"
            ]
          },
          "metadata": {
            "tags": []
          },
          "execution_count": 296
        }
      ]
    },
    {
      "cell_type": "code",
      "metadata": {
        "id": "brlKAJHvDlU2",
        "colab_type": "code",
        "colab": {
          "base_uri": "https://localhost:8080/",
          "height": 71
        },
        "outputId": "808b7b90-0026-4ed7-b970-cc9d7e7ad37c"
      },
      "source": [
        "rfr = RandomForestRegressor(random_state = 0)\n",
        "params = {'n_estimators' : sp_randint(50, 200),\n",
        "         'max_features' : sp_randint(1, 19),\n",
        "         'max_depth' : sp_randint(2, 50),\n",
        "         'min_samples_leaf' : sp_randint(1, 25),\n",
        "         'min_samples_split' : sp_randint(2, 25),\n",
        "         'oob_score' : [False, True]}\n",
        "rsearch = RandomizedSearchCV(rfr, param_distributions=params, cv = 5, n_jobs = -1, random_state = 0, n_iter = 50)\n",
        "rsearch.fit(X_train_dum, y_train)\n",
        "rsearch.best_params_"
      ],
      "execution_count": null,
      "outputs": [
        {
          "output_type": "stream",
          "text": [
            "/usr/local/lib/python3.6/dist-packages/joblib/externals/loky/process_executor.py:691: UserWarning: A worker stopped while some jobs were given to the executor. This can be caused by a too short worker timeout or by a memory leak.\n",
            "  \"timeout or by a memory leak.\", UserWarning\n"
          ],
          "name": "stderr"
        }
      ]
    },
    {
      "cell_type": "code",
      "metadata": {
        "id": "HA5QEhWgEe79",
        "colab_type": "code",
        "colab": {}
      },
      "source": [
        "rfr = RandomForestRegressor(**rsearch.best_params_, random_state = 0)\n",
        "rfr.fit(X_train, y_train)\n",
        "rfr.score(X_train, y_train)"
      ],
      "execution_count": null,
      "outputs": []
    },
    {
      "cell_type": "code",
      "metadata": {
        "id": "jNoyne4gJXSc",
        "colab_type": "code",
        "colab": {}
      },
      "source": [
        "y_test_pred = rfr.predict(X_test)"
      ],
      "execution_count": null,
      "outputs": []
    },
    {
      "cell_type": "code",
      "metadata": {
        "id": "Z7Yob33HsPCR",
        "colab_type": "code",
        "colab": {}
      },
      "source": [
        "sub = pd.read_csv('/content/drive/My Drive/PGPDSE/Hackathon/Sample Submission-1.csv')\n",
        "sub.head()"
      ],
      "execution_count": null,
      "outputs": []
    },
    {
      "cell_type": "code",
      "metadata": {
        "id": "8--YGmZ3smiq",
        "colab_type": "code",
        "colab": {}
      },
      "source": [
        "sub['Price'] = y_test_pred"
      ],
      "execution_count": null,
      "outputs": []
    },
    {
      "cell_type": "code",
      "metadata": {
        "id": "uNopqFEWsuuw",
        "colab_type": "code",
        "colab": {}
      },
      "source": [
        "sub.head()"
      ],
      "execution_count": null,
      "outputs": []
    },
    {
      "cell_type": "code",
      "metadata": {
        "id": "5LIsurIpswMA",
        "colab_type": "code",
        "colab": {}
      },
      "source": [
        "sub.to_csv('submit_3.csv', index = False)"
      ],
      "execution_count": null,
      "outputs": []
    },
    {
      "cell_type": "code",
      "metadata": {
        "id": "r72PhzBcJdE8",
        "colab_type": "code",
        "colab": {}
      },
      "source": [
        ""
      ],
      "execution_count": null,
      "outputs": []
    }
  ]
}