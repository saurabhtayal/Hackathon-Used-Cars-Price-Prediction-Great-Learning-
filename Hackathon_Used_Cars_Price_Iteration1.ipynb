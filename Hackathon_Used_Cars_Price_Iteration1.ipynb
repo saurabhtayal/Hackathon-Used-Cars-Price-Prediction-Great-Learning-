{
  "nbformat": 4,
  "nbformat_minor": 0,
  "metadata": {
    "colab": {
      "name": "Hackathon_Used_Cars_Price_Iteration1.ipynb",
      "provenance": [],
      "collapsed_sections": []
    },
    "kernelspec": {
      "name": "python3",
      "display_name": "Python 3"
    }
  },
  "cells": [
    {
      "cell_type": "code",
      "metadata": {
        "id": "tQd2Olf-IZ-O",
        "colab_type": "code",
        "colab": {}
      },
      "source": [
        "import numpy as np\n",
        "import pandas as pd\n",
        "import matplotlib.pyplot as plt\n",
        "import seaborn as sns"
      ],
      "execution_count": 61,
      "outputs": []
    },
    {
      "cell_type": "code",
      "metadata": {
        "id": "v2489buZIxps",
        "colab_type": "code",
        "colab": {
          "base_uri": "https://localhost:8080/",
          "height": 34
        },
        "outputId": "fc8cf39c-87f0-4ce5-ea46-6d74e6b0e3e4"
      },
      "source": [
        "train = pd.read_csv('/content/drive/My Drive/PGPDSE/Hackathon/Training Data Set.csv')\n",
        "train.shape"
      ],
      "execution_count": 62,
      "outputs": [
        {
          "output_type": "execute_result",
          "data": {
            "text/plain": [
              "(53515, 17)"
            ]
          },
          "metadata": {
            "tags": []
          },
          "execution_count": 62
        }
      ]
    },
    {
      "cell_type": "code",
      "metadata": {
        "id": "3qf2xKuRI2le",
        "colab_type": "code",
        "colab": {
          "base_uri": "https://localhost:8080/",
          "height": 292
        },
        "outputId": "dfb4021c-1634-4fd4-cdfe-5d0159ddac9b"
      },
      "source": [
        "train.head()"
      ],
      "execution_count": 63,
      "outputs": [
        {
          "output_type": "execute_result",
          "data": {
            "text/html": [
              "<div>\n",
              "<style scoped>\n",
              "    .dataframe tbody tr th:only-of-type {\n",
              "        vertical-align: middle;\n",
              "    }\n",
              "\n",
              "    .dataframe tbody tr th {\n",
              "        vertical-align: top;\n",
              "    }\n",
              "\n",
              "    .dataframe thead th {\n",
              "        text-align: right;\n",
              "    }\n",
              "</style>\n",
              "<table border=\"1\" class=\"dataframe\">\n",
              "  <thead>\n",
              "    <tr style=\"text-align: right;\">\n",
              "      <th></th>\n",
              "      <th>Id</th>\n",
              "      <th>Maker</th>\n",
              "      <th>model</th>\n",
              "      <th>Location</th>\n",
              "      <th>Distance</th>\n",
              "      <th>Owner Type</th>\n",
              "      <th>manufacture_year</th>\n",
              "      <th>Age of car</th>\n",
              "      <th>engine_displacement</th>\n",
              "      <th>engine_power</th>\n",
              "      <th>body_type</th>\n",
              "      <th>Vroom Audit Rating</th>\n",
              "      <th>transmission</th>\n",
              "      <th>door_count</th>\n",
              "      <th>seat_count</th>\n",
              "      <th>fuel_type</th>\n",
              "      <th>Price</th>\n",
              "    </tr>\n",
              "  </thead>\n",
              "  <tbody>\n",
              "    <tr>\n",
              "      <th>0</th>\n",
              "      <td>25001</td>\n",
              "      <td>skoda</td>\n",
              "      <td>octavia</td>\n",
              "      <td>Ahmedabad</td>\n",
              "      <td>NaN</td>\n",
              "      <td>Second</td>\n",
              "      <td>1964</td>\n",
              "      <td>55</td>\n",
              "      <td>1964</td>\n",
              "      <td>147.0</td>\n",
              "      <td>compact</td>\n",
              "      <td>8</td>\n",
              "      <td>man</td>\n",
              "      <td>None</td>\n",
              "      <td>None</td>\n",
              "      <td>petrol</td>\n",
              "      <td>543764.25</td>\n",
              "    </tr>\n",
              "    <tr>\n",
              "      <th>1</th>\n",
              "      <td>25002</td>\n",
              "      <td>fiat</td>\n",
              "      <td>panda</td>\n",
              "      <td>Ahmedabad</td>\n",
              "      <td>27750.0</td>\n",
              "      <td>Third</td>\n",
              "      <td>2012</td>\n",
              "      <td>7</td>\n",
              "      <td>1242</td>\n",
              "      <td>51.0</td>\n",
              "      <td>NaN</td>\n",
              "      <td>6</td>\n",
              "      <td>man</td>\n",
              "      <td>4</td>\n",
              "      <td>4</td>\n",
              "      <td>petrol</td>\n",
              "      <td>401819.25</td>\n",
              "    </tr>\n",
              "    <tr>\n",
              "      <th>2</th>\n",
              "      <td>25003</td>\n",
              "      <td>bmw</td>\n",
              "      <td>x1</td>\n",
              "      <td>Hyderabad</td>\n",
              "      <td>46000.0</td>\n",
              "      <td>Third</td>\n",
              "      <td>2014</td>\n",
              "      <td>5</td>\n",
              "      <td>1995</td>\n",
              "      <td>105.0</td>\n",
              "      <td>NaN</td>\n",
              "      <td>7</td>\n",
              "      <td>auto</td>\n",
              "      <td>4</td>\n",
              "      <td>5</td>\n",
              "      <td>diesel</td>\n",
              "      <td>2392855.50</td>\n",
              "    </tr>\n",
              "    <tr>\n",
              "      <th>3</th>\n",
              "      <td>25004</td>\n",
              "      <td>nissan</td>\n",
              "      <td>juke</td>\n",
              "      <td>Mumbai</td>\n",
              "      <td>43949.0</td>\n",
              "      <td>Third</td>\n",
              "      <td>2011</td>\n",
              "      <td>8</td>\n",
              "      <td>1618</td>\n",
              "      <td>140.0</td>\n",
              "      <td>NaN</td>\n",
              "      <td>7</td>\n",
              "      <td>man</td>\n",
              "      <td>4</td>\n",
              "      <td>5</td>\n",
              "      <td>petrol</td>\n",
              "      <td>958606.50</td>\n",
              "    </tr>\n",
              "    <tr>\n",
              "      <th>4</th>\n",
              "      <td>25005</td>\n",
              "      <td>bmw</td>\n",
              "      <td>x5</td>\n",
              "      <td>Jaipur</td>\n",
              "      <td>59524.0</td>\n",
              "      <td>Fourth &amp; Above</td>\n",
              "      <td>2012</td>\n",
              "      <td>7</td>\n",
              "      <td>2993</td>\n",
              "      <td>180.0</td>\n",
              "      <td>NaN</td>\n",
              "      <td>7</td>\n",
              "      <td>auto</td>\n",
              "      <td>4</td>\n",
              "      <td>5</td>\n",
              "      <td>diesel</td>\n",
              "      <td>3085561.50</td>\n",
              "    </tr>\n",
              "  </tbody>\n",
              "</table>\n",
              "</div>"
            ],
            "text/plain": [
              "      Id   Maker    model  ... seat_count  fuel_type       Price\n",
              "0  25001   skoda  octavia  ...       None     petrol   543764.25\n",
              "1  25002    fiat    panda  ...          4     petrol   401819.25\n",
              "2  25003     bmw       x1  ...          5     diesel  2392855.50\n",
              "3  25004  nissan     juke  ...          5     petrol   958606.50\n",
              "4  25005     bmw       x5  ...          5     diesel  3085561.50\n",
              "\n",
              "[5 rows x 17 columns]"
            ]
          },
          "metadata": {
            "tags": []
          },
          "execution_count": 63
        }
      ]
    },
    {
      "cell_type": "code",
      "metadata": {
        "id": "HciDeBJ-I32e",
        "colab_type": "code",
        "colab": {
          "base_uri": "https://localhost:8080/",
          "height": 34
        },
        "outputId": "6d545e02-0ca6-4bf8-dfe4-5b3bda041d0d"
      },
      "source": [
        "test = pd.read_csv('/content/drive/My Drive/PGPDSE/Hackathon/Test Data Set.csv')\n",
        "test.shape"
      ],
      "execution_count": 64,
      "outputs": [
        {
          "output_type": "execute_result",
          "data": {
            "text/plain": [
              "(5615, 16)"
            ]
          },
          "metadata": {
            "tags": []
          },
          "execution_count": 64
        }
      ]
    },
    {
      "cell_type": "code",
      "metadata": {
        "id": "Od0yfsf7I8yA",
        "colab_type": "code",
        "colab": {
          "base_uri": "https://localhost:8080/",
          "height": 292
        },
        "outputId": "c6ca29d8-7382-4cfe-b3a1-8df5cec259c0"
      },
      "source": [
        "test.head()"
      ],
      "execution_count": 65,
      "outputs": [
        {
          "output_type": "execute_result",
          "data": {
            "text/html": [
              "<div>\n",
              "<style scoped>\n",
              "    .dataframe tbody tr th:only-of-type {\n",
              "        vertical-align: middle;\n",
              "    }\n",
              "\n",
              "    .dataframe tbody tr th {\n",
              "        vertical-align: top;\n",
              "    }\n",
              "\n",
              "    .dataframe thead th {\n",
              "        text-align: right;\n",
              "    }\n",
              "</style>\n",
              "<table border=\"1\" class=\"dataframe\">\n",
              "  <thead>\n",
              "    <tr style=\"text-align: right;\">\n",
              "      <th></th>\n",
              "      <th>Id</th>\n",
              "      <th>Maker</th>\n",
              "      <th>model</th>\n",
              "      <th>Location</th>\n",
              "      <th>Distance</th>\n",
              "      <th>Owner Type</th>\n",
              "      <th>manufacture_year</th>\n",
              "      <th>Age of car</th>\n",
              "      <th>engine_displacement</th>\n",
              "      <th>engine_power</th>\n",
              "      <th>body_type</th>\n",
              "      <th>Vroom Audit Rating</th>\n",
              "      <th>transmission</th>\n",
              "      <th>door_count</th>\n",
              "      <th>seat_count</th>\n",
              "      <th>fuel_type</th>\n",
              "    </tr>\n",
              "  </thead>\n",
              "  <tbody>\n",
              "    <tr>\n",
              "      <th>0</th>\n",
              "      <td>11001</td>\n",
              "      <td>skoda</td>\n",
              "      <td>octavia</td>\n",
              "      <td>Mumbai</td>\n",
              "      <td>150000.0</td>\n",
              "      <td>First</td>\n",
              "      <td>2007</td>\n",
              "      <td>12</td>\n",
              "      <td>1595</td>\n",
              "      <td>75.0</td>\n",
              "      <td>NaN</td>\n",
              "      <td>5</td>\n",
              "      <td>man</td>\n",
              "      <td>4</td>\n",
              "      <td>5</td>\n",
              "      <td>petrol</td>\n",
              "    </tr>\n",
              "    <tr>\n",
              "      <th>1</th>\n",
              "      <td>11002</td>\n",
              "      <td>skoda</td>\n",
              "      <td>rapid</td>\n",
              "      <td>Coimbatore</td>\n",
              "      <td>29376.0</td>\n",
              "      <td>Third</td>\n",
              "      <td>2014</td>\n",
              "      <td>5</td>\n",
              "      <td>1598</td>\n",
              "      <td>77.0</td>\n",
              "      <td>NaN</td>\n",
              "      <td>4</td>\n",
              "      <td>man</td>\n",
              "      <td>4</td>\n",
              "      <td>5</td>\n",
              "      <td>diesel</td>\n",
              "    </tr>\n",
              "    <tr>\n",
              "      <th>2</th>\n",
              "      <td>11003</td>\n",
              "      <td>skoda</td>\n",
              "      <td>octavia</td>\n",
              "      <td>Coimbatore</td>\n",
              "      <td>30563.0</td>\n",
              "      <td>Second</td>\n",
              "      <td>2014</td>\n",
              "      <td>5</td>\n",
              "      <td>1968</td>\n",
              "      <td>110.0</td>\n",
              "      <td>NaN</td>\n",
              "      <td>5</td>\n",
              "      <td>man</td>\n",
              "      <td>5</td>\n",
              "      <td>5</td>\n",
              "      <td>diesel</td>\n",
              "    </tr>\n",
              "    <tr>\n",
              "      <th>3</th>\n",
              "      <td>11004</td>\n",
              "      <td>audi</td>\n",
              "      <td>q3</td>\n",
              "      <td>Delhi</td>\n",
              "      <td>8650.0</td>\n",
              "      <td>Fourth &amp; Above</td>\n",
              "      <td>2015</td>\n",
              "      <td>4</td>\n",
              "      <td>1968</td>\n",
              "      <td>110.0</td>\n",
              "      <td>NaN</td>\n",
              "      <td>8</td>\n",
              "      <td>auto</td>\n",
              "      <td>4</td>\n",
              "      <td>5</td>\n",
              "      <td>diesel</td>\n",
              "    </tr>\n",
              "    <tr>\n",
              "      <th>4</th>\n",
              "      <td>11005</td>\n",
              "      <td>audi</td>\n",
              "      <td>tt</td>\n",
              "      <td>Chennai</td>\n",
              "      <td>6400.0</td>\n",
              "      <td>Third</td>\n",
              "      <td>2015</td>\n",
              "      <td>4</td>\n",
              "      <td>1984</td>\n",
              "      <td>169.0</td>\n",
              "      <td>NaN</td>\n",
              "      <td>4</td>\n",
              "      <td>auto</td>\n",
              "      <td>2</td>\n",
              "      <td>None</td>\n",
              "      <td>petrol</td>\n",
              "    </tr>\n",
              "  </tbody>\n",
              "</table>\n",
              "</div>"
            ],
            "text/plain": [
              "      Id  Maker    model  ... door_count  seat_count fuel_type\n",
              "0  11001  skoda  octavia  ...          4           5    petrol\n",
              "1  11002  skoda    rapid  ...          4           5    diesel\n",
              "2  11003  skoda  octavia  ...          5           5    diesel\n",
              "3  11004   audi       q3  ...          4           5    diesel\n",
              "4  11005   audi       tt  ...          2        None    petrol\n",
              "\n",
              "[5 rows x 16 columns]"
            ]
          },
          "metadata": {
            "tags": []
          },
          "execution_count": 65
        }
      ]
    },
    {
      "cell_type": "code",
      "metadata": {
        "id": "bFRgn5KnI-KB",
        "colab_type": "code",
        "colab": {
          "base_uri": "https://localhost:8080/",
          "height": 34
        },
        "outputId": "872d3ab3-5db0-40eb-8879-a717b6408f70"
      },
      "source": [
        "df = pd.concat([train, test])\n",
        "df.shape"
      ],
      "execution_count": 66,
      "outputs": [
        {
          "output_type": "execute_result",
          "data": {
            "text/plain": [
              "(59130, 17)"
            ]
          },
          "metadata": {
            "tags": []
          },
          "execution_count": 66
        }
      ]
    },
    {
      "cell_type": "code",
      "metadata": {
        "id": "-qePsh0KJBEg",
        "colab_type": "code",
        "colab": {
          "base_uri": "https://localhost:8080/",
          "height": 292
        },
        "outputId": "64ec1997-8278-4e42-a334-e6c334438bbf"
      },
      "source": [
        "df.head()"
      ],
      "execution_count": 67,
      "outputs": [
        {
          "output_type": "execute_result",
          "data": {
            "text/html": [
              "<div>\n",
              "<style scoped>\n",
              "    .dataframe tbody tr th:only-of-type {\n",
              "        vertical-align: middle;\n",
              "    }\n",
              "\n",
              "    .dataframe tbody tr th {\n",
              "        vertical-align: top;\n",
              "    }\n",
              "\n",
              "    .dataframe thead th {\n",
              "        text-align: right;\n",
              "    }\n",
              "</style>\n",
              "<table border=\"1\" class=\"dataframe\">\n",
              "  <thead>\n",
              "    <tr style=\"text-align: right;\">\n",
              "      <th></th>\n",
              "      <th>Id</th>\n",
              "      <th>Maker</th>\n",
              "      <th>model</th>\n",
              "      <th>Location</th>\n",
              "      <th>Distance</th>\n",
              "      <th>Owner Type</th>\n",
              "      <th>manufacture_year</th>\n",
              "      <th>Age of car</th>\n",
              "      <th>engine_displacement</th>\n",
              "      <th>engine_power</th>\n",
              "      <th>body_type</th>\n",
              "      <th>Vroom Audit Rating</th>\n",
              "      <th>transmission</th>\n",
              "      <th>door_count</th>\n",
              "      <th>seat_count</th>\n",
              "      <th>fuel_type</th>\n",
              "      <th>Price</th>\n",
              "    </tr>\n",
              "  </thead>\n",
              "  <tbody>\n",
              "    <tr>\n",
              "      <th>0</th>\n",
              "      <td>25001</td>\n",
              "      <td>skoda</td>\n",
              "      <td>octavia</td>\n",
              "      <td>Ahmedabad</td>\n",
              "      <td>NaN</td>\n",
              "      <td>Second</td>\n",
              "      <td>1964</td>\n",
              "      <td>55</td>\n",
              "      <td>1964</td>\n",
              "      <td>147.0</td>\n",
              "      <td>compact</td>\n",
              "      <td>8</td>\n",
              "      <td>man</td>\n",
              "      <td>None</td>\n",
              "      <td>None</td>\n",
              "      <td>petrol</td>\n",
              "      <td>543764.25</td>\n",
              "    </tr>\n",
              "    <tr>\n",
              "      <th>1</th>\n",
              "      <td>25002</td>\n",
              "      <td>fiat</td>\n",
              "      <td>panda</td>\n",
              "      <td>Ahmedabad</td>\n",
              "      <td>27750.0</td>\n",
              "      <td>Third</td>\n",
              "      <td>2012</td>\n",
              "      <td>7</td>\n",
              "      <td>1242</td>\n",
              "      <td>51.0</td>\n",
              "      <td>NaN</td>\n",
              "      <td>6</td>\n",
              "      <td>man</td>\n",
              "      <td>4</td>\n",
              "      <td>4</td>\n",
              "      <td>petrol</td>\n",
              "      <td>401819.25</td>\n",
              "    </tr>\n",
              "    <tr>\n",
              "      <th>2</th>\n",
              "      <td>25003</td>\n",
              "      <td>bmw</td>\n",
              "      <td>x1</td>\n",
              "      <td>Hyderabad</td>\n",
              "      <td>46000.0</td>\n",
              "      <td>Third</td>\n",
              "      <td>2014</td>\n",
              "      <td>5</td>\n",
              "      <td>1995</td>\n",
              "      <td>105.0</td>\n",
              "      <td>NaN</td>\n",
              "      <td>7</td>\n",
              "      <td>auto</td>\n",
              "      <td>4</td>\n",
              "      <td>5</td>\n",
              "      <td>diesel</td>\n",
              "      <td>2392855.50</td>\n",
              "    </tr>\n",
              "    <tr>\n",
              "      <th>3</th>\n",
              "      <td>25004</td>\n",
              "      <td>nissan</td>\n",
              "      <td>juke</td>\n",
              "      <td>Mumbai</td>\n",
              "      <td>43949.0</td>\n",
              "      <td>Third</td>\n",
              "      <td>2011</td>\n",
              "      <td>8</td>\n",
              "      <td>1618</td>\n",
              "      <td>140.0</td>\n",
              "      <td>NaN</td>\n",
              "      <td>7</td>\n",
              "      <td>man</td>\n",
              "      <td>4</td>\n",
              "      <td>5</td>\n",
              "      <td>petrol</td>\n",
              "      <td>958606.50</td>\n",
              "    </tr>\n",
              "    <tr>\n",
              "      <th>4</th>\n",
              "      <td>25005</td>\n",
              "      <td>bmw</td>\n",
              "      <td>x5</td>\n",
              "      <td>Jaipur</td>\n",
              "      <td>59524.0</td>\n",
              "      <td>Fourth &amp; Above</td>\n",
              "      <td>2012</td>\n",
              "      <td>7</td>\n",
              "      <td>2993</td>\n",
              "      <td>180.0</td>\n",
              "      <td>NaN</td>\n",
              "      <td>7</td>\n",
              "      <td>auto</td>\n",
              "      <td>4</td>\n",
              "      <td>5</td>\n",
              "      <td>diesel</td>\n",
              "      <td>3085561.50</td>\n",
              "    </tr>\n",
              "  </tbody>\n",
              "</table>\n",
              "</div>"
            ],
            "text/plain": [
              "      Id   Maker    model  ... seat_count  fuel_type       Price\n",
              "0  25001   skoda  octavia  ...       None     petrol   543764.25\n",
              "1  25002    fiat    panda  ...          4     petrol   401819.25\n",
              "2  25003     bmw       x1  ...          5     diesel  2392855.50\n",
              "3  25004  nissan     juke  ...          5     petrol   958606.50\n",
              "4  25005     bmw       x5  ...          5     diesel  3085561.50\n",
              "\n",
              "[5 rows x 17 columns]"
            ]
          },
          "metadata": {
            "tags": []
          },
          "execution_count": 67
        }
      ]
    },
    {
      "cell_type": "code",
      "metadata": {
        "id": "WIGFuzRoJDHF",
        "colab_type": "code",
        "colab": {
          "base_uri": "https://localhost:8080/",
          "height": 258
        },
        "outputId": "23b571fa-04f8-453e-d3dd-710166a9ad06"
      },
      "source": [
        "df.tail()"
      ],
      "execution_count": 68,
      "outputs": [
        {
          "output_type": "execute_result",
          "data": {
            "text/html": [
              "<div>\n",
              "<style scoped>\n",
              "    .dataframe tbody tr th:only-of-type {\n",
              "        vertical-align: middle;\n",
              "    }\n",
              "\n",
              "    .dataframe tbody tr th {\n",
              "        vertical-align: top;\n",
              "    }\n",
              "\n",
              "    .dataframe thead th {\n",
              "        text-align: right;\n",
              "    }\n",
              "</style>\n",
              "<table border=\"1\" class=\"dataframe\">\n",
              "  <thead>\n",
              "    <tr style=\"text-align: right;\">\n",
              "      <th></th>\n",
              "      <th>Id</th>\n",
              "      <th>Maker</th>\n",
              "      <th>model</th>\n",
              "      <th>Location</th>\n",
              "      <th>Distance</th>\n",
              "      <th>Owner Type</th>\n",
              "      <th>manufacture_year</th>\n",
              "      <th>Age of car</th>\n",
              "      <th>engine_displacement</th>\n",
              "      <th>engine_power</th>\n",
              "      <th>body_type</th>\n",
              "      <th>Vroom Audit Rating</th>\n",
              "      <th>transmission</th>\n",
              "      <th>door_count</th>\n",
              "      <th>seat_count</th>\n",
              "      <th>fuel_type</th>\n",
              "      <th>Price</th>\n",
              "    </tr>\n",
              "  </thead>\n",
              "  <tbody>\n",
              "    <tr>\n",
              "      <th>5610</th>\n",
              "      <td>16611</td>\n",
              "      <td>skoda</td>\n",
              "      <td>octavia</td>\n",
              "      <td>Mumbai</td>\n",
              "      <td>149976.0</td>\n",
              "      <td>First</td>\n",
              "      <td>2011</td>\n",
              "      <td>8</td>\n",
              "      <td>1968</td>\n",
              "      <td>103.0</td>\n",
              "      <td>NaN</td>\n",
              "      <td>8</td>\n",
              "      <td>man</td>\n",
              "      <td>4</td>\n",
              "      <td>5</td>\n",
              "      <td>diesel</td>\n",
              "      <td>NaN</td>\n",
              "    </tr>\n",
              "    <tr>\n",
              "      <th>5611</th>\n",
              "      <td>16612</td>\n",
              "      <td>skoda</td>\n",
              "      <td>superb</td>\n",
              "      <td>Ahmedabad</td>\n",
              "      <td>332000.0</td>\n",
              "      <td>First</td>\n",
              "      <td>2005</td>\n",
              "      <td>14</td>\n",
              "      <td>1896</td>\n",
              "      <td>96.0</td>\n",
              "      <td>NaN</td>\n",
              "      <td>6</td>\n",
              "      <td>man</td>\n",
              "      <td>4</td>\n",
              "      <td>5</td>\n",
              "      <td>diesel</td>\n",
              "      <td>NaN</td>\n",
              "    </tr>\n",
              "    <tr>\n",
              "      <th>5612</th>\n",
              "      <td>16613</td>\n",
              "      <td>skoda</td>\n",
              "      <td>octavia</td>\n",
              "      <td>Bangalore</td>\n",
              "      <td>230800.0</td>\n",
              "      <td>Second</td>\n",
              "      <td>2005</td>\n",
              "      <td>14</td>\n",
              "      <td>1896</td>\n",
              "      <td>77.0</td>\n",
              "      <td>NaN</td>\n",
              "      <td>7</td>\n",
              "      <td>man</td>\n",
              "      <td>5</td>\n",
              "      <td>5</td>\n",
              "      <td>diesel</td>\n",
              "      <td>NaN</td>\n",
              "    </tr>\n",
              "    <tr>\n",
              "      <th>5613</th>\n",
              "      <td>16614</td>\n",
              "      <td>nissan</td>\n",
              "      <td>qashqai</td>\n",
              "      <td>Jaipur</td>\n",
              "      <td>63480.0</td>\n",
              "      <td>Third</td>\n",
              "      <td>2011</td>\n",
              "      <td>8</td>\n",
              "      <td>1997</td>\n",
              "      <td>104.0</td>\n",
              "      <td>NaN</td>\n",
              "      <td>5</td>\n",
              "      <td>man</td>\n",
              "      <td>4</td>\n",
              "      <td>7</td>\n",
              "      <td>petrol</td>\n",
              "      <td>NaN</td>\n",
              "    </tr>\n",
              "    <tr>\n",
              "      <th>5614</th>\n",
              "      <td>16615</td>\n",
              "      <td>hyundai</td>\n",
              "      <td>i30</td>\n",
              "      <td>Jaipur</td>\n",
              "      <td>75000.0</td>\n",
              "      <td>Second</td>\n",
              "      <td>2011</td>\n",
              "      <td>8</td>\n",
              "      <td>1396</td>\n",
              "      <td>80.0</td>\n",
              "      <td>NaN</td>\n",
              "      <td>4</td>\n",
              "      <td>man</td>\n",
              "      <td>None</td>\n",
              "      <td>None</td>\n",
              "      <td>petrol</td>\n",
              "      <td>NaN</td>\n",
              "    </tr>\n",
              "  </tbody>\n",
              "</table>\n",
              "</div>"
            ],
            "text/plain": [
              "         Id    Maker    model   Location  ...  door_count seat_count  fuel_type  Price\n",
              "5610  16611    skoda  octavia     Mumbai  ...           4          5     diesel    NaN\n",
              "5611  16612    skoda   superb  Ahmedabad  ...           4          5     diesel    NaN\n",
              "5612  16613    skoda  octavia  Bangalore  ...           5          5     diesel    NaN\n",
              "5613  16614   nissan  qashqai     Jaipur  ...           4          7     petrol    NaN\n",
              "5614  16615  hyundai      i30     Jaipur  ...        None       None     petrol    NaN\n",
              "\n",
              "[5 rows x 17 columns]"
            ]
          },
          "metadata": {
            "tags": []
          },
          "execution_count": 68
        }
      ]
    },
    {
      "cell_type": "code",
      "metadata": {
        "id": "cU80H_f2JEDX",
        "colab_type": "code",
        "colab": {
          "base_uri": "https://localhost:8080/",
          "height": 425
        },
        "outputId": "09921fe0-046f-442c-ecb1-b917c296b98a"
      },
      "source": [
        "df.info()"
      ],
      "execution_count": 69,
      "outputs": [
        {
          "output_type": "stream",
          "text": [
            "<class 'pandas.core.frame.DataFrame'>\n",
            "Int64Index: 59130 entries, 0 to 5614\n",
            "Data columns (total 17 columns):\n",
            " #   Column               Non-Null Count  Dtype  \n",
            "---  ------               --------------  -----  \n",
            " 0   Id                   59130 non-null  int64  \n",
            " 1   Maker                59130 non-null  object \n",
            " 2   model                59130 non-null  object \n",
            " 3   Location             59130 non-null  object \n",
            " 4   Distance             57791 non-null  float64\n",
            " 5   Owner Type           59130 non-null  object \n",
            " 6   manufacture_year     59130 non-null  int64  \n",
            " 7   Age of car           59130 non-null  int64  \n",
            " 8   engine_displacement  59130 non-null  int64  \n",
            " 9   engine_power         57523 non-null  float64\n",
            " 10  body_type            4558 non-null   object \n",
            " 11  Vroom Audit Rating   59130 non-null  int64  \n",
            " 12  transmission         59130 non-null  object \n",
            " 13  door_count           59130 non-null  object \n",
            " 14  seat_count           59130 non-null  object \n",
            " 15  fuel_type            59130 non-null  object \n",
            " 16  Price                53515 non-null  float64\n",
            "dtypes: float64(3), int64(5), object(9)\n",
            "memory usage: 8.1+ MB\n"
          ],
          "name": "stdout"
        }
      ]
    },
    {
      "cell_type": "code",
      "metadata": {
        "id": "esFFYToYJIHC",
        "colab_type": "code",
        "colab": {
          "base_uri": "https://localhost:8080/",
          "height": 507
        },
        "outputId": "f8ef3b37-3cac-4dba-a88e-0cce9ba11b8b"
      },
      "source": [
        "df = df.reset_index(drop = True)\n",
        "df"
      ],
      "execution_count": 70,
      "outputs": [
        {
          "output_type": "execute_result",
          "data": {
            "text/html": [
              "<div>\n",
              "<style scoped>\n",
              "    .dataframe tbody tr th:only-of-type {\n",
              "        vertical-align: middle;\n",
              "    }\n",
              "\n",
              "    .dataframe tbody tr th {\n",
              "        vertical-align: top;\n",
              "    }\n",
              "\n",
              "    .dataframe thead th {\n",
              "        text-align: right;\n",
              "    }\n",
              "</style>\n",
              "<table border=\"1\" class=\"dataframe\">\n",
              "  <thead>\n",
              "    <tr style=\"text-align: right;\">\n",
              "      <th></th>\n",
              "      <th>Id</th>\n",
              "      <th>Maker</th>\n",
              "      <th>model</th>\n",
              "      <th>Location</th>\n",
              "      <th>Distance</th>\n",
              "      <th>Owner Type</th>\n",
              "      <th>manufacture_year</th>\n",
              "      <th>Age of car</th>\n",
              "      <th>engine_displacement</th>\n",
              "      <th>engine_power</th>\n",
              "      <th>body_type</th>\n",
              "      <th>Vroom Audit Rating</th>\n",
              "      <th>transmission</th>\n",
              "      <th>door_count</th>\n",
              "      <th>seat_count</th>\n",
              "      <th>fuel_type</th>\n",
              "      <th>Price</th>\n",
              "    </tr>\n",
              "  </thead>\n",
              "  <tbody>\n",
              "    <tr>\n",
              "      <th>0</th>\n",
              "      <td>25001</td>\n",
              "      <td>skoda</td>\n",
              "      <td>octavia</td>\n",
              "      <td>Ahmedabad</td>\n",
              "      <td>NaN</td>\n",
              "      <td>Second</td>\n",
              "      <td>1964</td>\n",
              "      <td>55</td>\n",
              "      <td>1964</td>\n",
              "      <td>147.0</td>\n",
              "      <td>compact</td>\n",
              "      <td>8</td>\n",
              "      <td>man</td>\n",
              "      <td>None</td>\n",
              "      <td>None</td>\n",
              "      <td>petrol</td>\n",
              "      <td>543764.25</td>\n",
              "    </tr>\n",
              "    <tr>\n",
              "      <th>1</th>\n",
              "      <td>25002</td>\n",
              "      <td>fiat</td>\n",
              "      <td>panda</td>\n",
              "      <td>Ahmedabad</td>\n",
              "      <td>27750.0</td>\n",
              "      <td>Third</td>\n",
              "      <td>2012</td>\n",
              "      <td>7</td>\n",
              "      <td>1242</td>\n",
              "      <td>51.0</td>\n",
              "      <td>NaN</td>\n",
              "      <td>6</td>\n",
              "      <td>man</td>\n",
              "      <td>4</td>\n",
              "      <td>4</td>\n",
              "      <td>petrol</td>\n",
              "      <td>401819.25</td>\n",
              "    </tr>\n",
              "    <tr>\n",
              "      <th>2</th>\n",
              "      <td>25003</td>\n",
              "      <td>bmw</td>\n",
              "      <td>x1</td>\n",
              "      <td>Hyderabad</td>\n",
              "      <td>46000.0</td>\n",
              "      <td>Third</td>\n",
              "      <td>2014</td>\n",
              "      <td>5</td>\n",
              "      <td>1995</td>\n",
              "      <td>105.0</td>\n",
              "      <td>NaN</td>\n",
              "      <td>7</td>\n",
              "      <td>auto</td>\n",
              "      <td>4</td>\n",
              "      <td>5</td>\n",
              "      <td>diesel</td>\n",
              "      <td>2392855.50</td>\n",
              "    </tr>\n",
              "    <tr>\n",
              "      <th>3</th>\n",
              "      <td>25004</td>\n",
              "      <td>nissan</td>\n",
              "      <td>juke</td>\n",
              "      <td>Mumbai</td>\n",
              "      <td>43949.0</td>\n",
              "      <td>Third</td>\n",
              "      <td>2011</td>\n",
              "      <td>8</td>\n",
              "      <td>1618</td>\n",
              "      <td>140.0</td>\n",
              "      <td>NaN</td>\n",
              "      <td>7</td>\n",
              "      <td>man</td>\n",
              "      <td>4</td>\n",
              "      <td>5</td>\n",
              "      <td>petrol</td>\n",
              "      <td>958606.50</td>\n",
              "    </tr>\n",
              "    <tr>\n",
              "      <th>4</th>\n",
              "      <td>25005</td>\n",
              "      <td>bmw</td>\n",
              "      <td>x5</td>\n",
              "      <td>Jaipur</td>\n",
              "      <td>59524.0</td>\n",
              "      <td>Fourth &amp; Above</td>\n",
              "      <td>2012</td>\n",
              "      <td>7</td>\n",
              "      <td>2993</td>\n",
              "      <td>180.0</td>\n",
              "      <td>NaN</td>\n",
              "      <td>7</td>\n",
              "      <td>auto</td>\n",
              "      <td>4</td>\n",
              "      <td>5</td>\n",
              "      <td>diesel</td>\n",
              "      <td>3085561.50</td>\n",
              "    </tr>\n",
              "    <tr>\n",
              "      <th>...</th>\n",
              "      <td>...</td>\n",
              "      <td>...</td>\n",
              "      <td>...</td>\n",
              "      <td>...</td>\n",
              "      <td>...</td>\n",
              "      <td>...</td>\n",
              "      <td>...</td>\n",
              "      <td>...</td>\n",
              "      <td>...</td>\n",
              "      <td>...</td>\n",
              "      <td>...</td>\n",
              "      <td>...</td>\n",
              "      <td>...</td>\n",
              "      <td>...</td>\n",
              "      <td>...</td>\n",
              "      <td>...</td>\n",
              "      <td>...</td>\n",
              "    </tr>\n",
              "    <tr>\n",
              "      <th>59125</th>\n",
              "      <td>16611</td>\n",
              "      <td>skoda</td>\n",
              "      <td>octavia</td>\n",
              "      <td>Mumbai</td>\n",
              "      <td>149976.0</td>\n",
              "      <td>First</td>\n",
              "      <td>2011</td>\n",
              "      <td>8</td>\n",
              "      <td>1968</td>\n",
              "      <td>103.0</td>\n",
              "      <td>NaN</td>\n",
              "      <td>8</td>\n",
              "      <td>man</td>\n",
              "      <td>4</td>\n",
              "      <td>5</td>\n",
              "      <td>diesel</td>\n",
              "      <td>NaN</td>\n",
              "    </tr>\n",
              "    <tr>\n",
              "      <th>59126</th>\n",
              "      <td>16612</td>\n",
              "      <td>skoda</td>\n",
              "      <td>superb</td>\n",
              "      <td>Ahmedabad</td>\n",
              "      <td>332000.0</td>\n",
              "      <td>First</td>\n",
              "      <td>2005</td>\n",
              "      <td>14</td>\n",
              "      <td>1896</td>\n",
              "      <td>96.0</td>\n",
              "      <td>NaN</td>\n",
              "      <td>6</td>\n",
              "      <td>man</td>\n",
              "      <td>4</td>\n",
              "      <td>5</td>\n",
              "      <td>diesel</td>\n",
              "      <td>NaN</td>\n",
              "    </tr>\n",
              "    <tr>\n",
              "      <th>59127</th>\n",
              "      <td>16613</td>\n",
              "      <td>skoda</td>\n",
              "      <td>octavia</td>\n",
              "      <td>Bangalore</td>\n",
              "      <td>230800.0</td>\n",
              "      <td>Second</td>\n",
              "      <td>2005</td>\n",
              "      <td>14</td>\n",
              "      <td>1896</td>\n",
              "      <td>77.0</td>\n",
              "      <td>NaN</td>\n",
              "      <td>7</td>\n",
              "      <td>man</td>\n",
              "      <td>5</td>\n",
              "      <td>5</td>\n",
              "      <td>diesel</td>\n",
              "      <td>NaN</td>\n",
              "    </tr>\n",
              "    <tr>\n",
              "      <th>59128</th>\n",
              "      <td>16614</td>\n",
              "      <td>nissan</td>\n",
              "      <td>qashqai</td>\n",
              "      <td>Jaipur</td>\n",
              "      <td>63480.0</td>\n",
              "      <td>Third</td>\n",
              "      <td>2011</td>\n",
              "      <td>8</td>\n",
              "      <td>1997</td>\n",
              "      <td>104.0</td>\n",
              "      <td>NaN</td>\n",
              "      <td>5</td>\n",
              "      <td>man</td>\n",
              "      <td>4</td>\n",
              "      <td>7</td>\n",
              "      <td>petrol</td>\n",
              "      <td>NaN</td>\n",
              "    </tr>\n",
              "    <tr>\n",
              "      <th>59129</th>\n",
              "      <td>16615</td>\n",
              "      <td>hyundai</td>\n",
              "      <td>i30</td>\n",
              "      <td>Jaipur</td>\n",
              "      <td>75000.0</td>\n",
              "      <td>Second</td>\n",
              "      <td>2011</td>\n",
              "      <td>8</td>\n",
              "      <td>1396</td>\n",
              "      <td>80.0</td>\n",
              "      <td>NaN</td>\n",
              "      <td>4</td>\n",
              "      <td>man</td>\n",
              "      <td>None</td>\n",
              "      <td>None</td>\n",
              "      <td>petrol</td>\n",
              "      <td>NaN</td>\n",
              "    </tr>\n",
              "  </tbody>\n",
              "</table>\n",
              "<p>59130 rows × 17 columns</p>\n",
              "</div>"
            ],
            "text/plain": [
              "          Id    Maker    model  ... seat_count  fuel_type       Price\n",
              "0      25001    skoda  octavia  ...       None     petrol   543764.25\n",
              "1      25002     fiat    panda  ...          4     petrol   401819.25\n",
              "2      25003      bmw       x1  ...          5     diesel  2392855.50\n",
              "3      25004   nissan     juke  ...          5     petrol   958606.50\n",
              "4      25005      bmw       x5  ...          5     diesel  3085561.50\n",
              "...      ...      ...      ...  ...        ...        ...         ...\n",
              "59125  16611    skoda  octavia  ...          5     diesel         NaN\n",
              "59126  16612    skoda   superb  ...          5     diesel         NaN\n",
              "59127  16613    skoda  octavia  ...          5     diesel         NaN\n",
              "59128  16614   nissan  qashqai  ...          7     petrol         NaN\n",
              "59129  16615  hyundai      i30  ...       None     petrol         NaN\n",
              "\n",
              "[59130 rows x 17 columns]"
            ]
          },
          "metadata": {
            "tags": []
          },
          "execution_count": 70
        }
      ]
    },
    {
      "cell_type": "code",
      "metadata": {
        "id": "CcoBO0j5JiHm",
        "colab_type": "code",
        "colab": {}
      },
      "source": [
        "id = df['Id']"
      ],
      "execution_count": 71,
      "outputs": []
    },
    {
      "cell_type": "code",
      "metadata": {
        "id": "5aF6e_U4P2RF",
        "colab_type": "code",
        "colab": {}
      },
      "source": [
        "df.drop('Id', 1, inplace = True)"
      ],
      "execution_count": 72,
      "outputs": []
    },
    {
      "cell_type": "code",
      "metadata": {
        "id": "VSH0w9wSP5tv",
        "colab_type": "code",
        "colab": {
          "base_uri": "https://localhost:8080/",
          "height": 292
        },
        "outputId": "91e9b73d-0413-405b-a633-6e8ef205dc46"
      },
      "source": [
        "df.head()"
      ],
      "execution_count": 73,
      "outputs": [
        {
          "output_type": "execute_result",
          "data": {
            "text/html": [
              "<div>\n",
              "<style scoped>\n",
              "    .dataframe tbody tr th:only-of-type {\n",
              "        vertical-align: middle;\n",
              "    }\n",
              "\n",
              "    .dataframe tbody tr th {\n",
              "        vertical-align: top;\n",
              "    }\n",
              "\n",
              "    .dataframe thead th {\n",
              "        text-align: right;\n",
              "    }\n",
              "</style>\n",
              "<table border=\"1\" class=\"dataframe\">\n",
              "  <thead>\n",
              "    <tr style=\"text-align: right;\">\n",
              "      <th></th>\n",
              "      <th>Maker</th>\n",
              "      <th>model</th>\n",
              "      <th>Location</th>\n",
              "      <th>Distance</th>\n",
              "      <th>Owner Type</th>\n",
              "      <th>manufacture_year</th>\n",
              "      <th>Age of car</th>\n",
              "      <th>engine_displacement</th>\n",
              "      <th>engine_power</th>\n",
              "      <th>body_type</th>\n",
              "      <th>Vroom Audit Rating</th>\n",
              "      <th>transmission</th>\n",
              "      <th>door_count</th>\n",
              "      <th>seat_count</th>\n",
              "      <th>fuel_type</th>\n",
              "      <th>Price</th>\n",
              "    </tr>\n",
              "  </thead>\n",
              "  <tbody>\n",
              "    <tr>\n",
              "      <th>0</th>\n",
              "      <td>skoda</td>\n",
              "      <td>octavia</td>\n",
              "      <td>Ahmedabad</td>\n",
              "      <td>NaN</td>\n",
              "      <td>Second</td>\n",
              "      <td>1964</td>\n",
              "      <td>55</td>\n",
              "      <td>1964</td>\n",
              "      <td>147.0</td>\n",
              "      <td>compact</td>\n",
              "      <td>8</td>\n",
              "      <td>man</td>\n",
              "      <td>None</td>\n",
              "      <td>None</td>\n",
              "      <td>petrol</td>\n",
              "      <td>543764.25</td>\n",
              "    </tr>\n",
              "    <tr>\n",
              "      <th>1</th>\n",
              "      <td>fiat</td>\n",
              "      <td>panda</td>\n",
              "      <td>Ahmedabad</td>\n",
              "      <td>27750.0</td>\n",
              "      <td>Third</td>\n",
              "      <td>2012</td>\n",
              "      <td>7</td>\n",
              "      <td>1242</td>\n",
              "      <td>51.0</td>\n",
              "      <td>NaN</td>\n",
              "      <td>6</td>\n",
              "      <td>man</td>\n",
              "      <td>4</td>\n",
              "      <td>4</td>\n",
              "      <td>petrol</td>\n",
              "      <td>401819.25</td>\n",
              "    </tr>\n",
              "    <tr>\n",
              "      <th>2</th>\n",
              "      <td>bmw</td>\n",
              "      <td>x1</td>\n",
              "      <td>Hyderabad</td>\n",
              "      <td>46000.0</td>\n",
              "      <td>Third</td>\n",
              "      <td>2014</td>\n",
              "      <td>5</td>\n",
              "      <td>1995</td>\n",
              "      <td>105.0</td>\n",
              "      <td>NaN</td>\n",
              "      <td>7</td>\n",
              "      <td>auto</td>\n",
              "      <td>4</td>\n",
              "      <td>5</td>\n",
              "      <td>diesel</td>\n",
              "      <td>2392855.50</td>\n",
              "    </tr>\n",
              "    <tr>\n",
              "      <th>3</th>\n",
              "      <td>nissan</td>\n",
              "      <td>juke</td>\n",
              "      <td>Mumbai</td>\n",
              "      <td>43949.0</td>\n",
              "      <td>Third</td>\n",
              "      <td>2011</td>\n",
              "      <td>8</td>\n",
              "      <td>1618</td>\n",
              "      <td>140.0</td>\n",
              "      <td>NaN</td>\n",
              "      <td>7</td>\n",
              "      <td>man</td>\n",
              "      <td>4</td>\n",
              "      <td>5</td>\n",
              "      <td>petrol</td>\n",
              "      <td>958606.50</td>\n",
              "    </tr>\n",
              "    <tr>\n",
              "      <th>4</th>\n",
              "      <td>bmw</td>\n",
              "      <td>x5</td>\n",
              "      <td>Jaipur</td>\n",
              "      <td>59524.0</td>\n",
              "      <td>Fourth &amp; Above</td>\n",
              "      <td>2012</td>\n",
              "      <td>7</td>\n",
              "      <td>2993</td>\n",
              "      <td>180.0</td>\n",
              "      <td>NaN</td>\n",
              "      <td>7</td>\n",
              "      <td>auto</td>\n",
              "      <td>4</td>\n",
              "      <td>5</td>\n",
              "      <td>diesel</td>\n",
              "      <td>3085561.50</td>\n",
              "    </tr>\n",
              "  </tbody>\n",
              "</table>\n",
              "</div>"
            ],
            "text/plain": [
              "    Maker    model   Location  ...  seat_count fuel_type       Price\n",
              "0   skoda  octavia  Ahmedabad  ...        None    petrol   543764.25\n",
              "1    fiat    panda  Ahmedabad  ...           4    petrol   401819.25\n",
              "2     bmw       x1  Hyderabad  ...           5    diesel  2392855.50\n",
              "3  nissan     juke     Mumbai  ...           5    petrol   958606.50\n",
              "4     bmw       x5     Jaipur  ...           5    diesel  3085561.50\n",
              "\n",
              "[5 rows x 16 columns]"
            ]
          },
          "metadata": {
            "tags": []
          },
          "execution_count": 73
        }
      ]
    },
    {
      "cell_type": "code",
      "metadata": {
        "id": "R6veJCsGQL77",
        "colab_type": "code",
        "colab": {
          "base_uri": "https://localhost:8080/",
          "height": 297
        },
        "outputId": "1ec18d12-92c2-4572-eb94-b66e3c49d51e"
      },
      "source": [
        "df.describe()"
      ],
      "execution_count": 74,
      "outputs": [
        {
          "output_type": "execute_result",
          "data": {
            "text/html": [
              "<div>\n",
              "<style scoped>\n",
              "    .dataframe tbody tr th:only-of-type {\n",
              "        vertical-align: middle;\n",
              "    }\n",
              "\n",
              "    .dataframe tbody tr th {\n",
              "        vertical-align: top;\n",
              "    }\n",
              "\n",
              "    .dataframe thead th {\n",
              "        text-align: right;\n",
              "    }\n",
              "</style>\n",
              "<table border=\"1\" class=\"dataframe\">\n",
              "  <thead>\n",
              "    <tr style=\"text-align: right;\">\n",
              "      <th></th>\n",
              "      <th>Distance</th>\n",
              "      <th>manufacture_year</th>\n",
              "      <th>Age of car</th>\n",
              "      <th>engine_displacement</th>\n",
              "      <th>engine_power</th>\n",
              "      <th>Vroom Audit Rating</th>\n",
              "      <th>Price</th>\n",
              "    </tr>\n",
              "  </thead>\n",
              "  <tbody>\n",
              "    <tr>\n",
              "      <th>count</th>\n",
              "      <td>5.779100e+04</td>\n",
              "      <td>59130.000000</td>\n",
              "      <td>59130.000000</td>\n",
              "      <td>59130.000000</td>\n",
              "      <td>57523.000000</td>\n",
              "      <td>59130.000000</td>\n",
              "      <td>5.351500e+04</td>\n",
              "    </tr>\n",
              "    <tr>\n",
              "      <th>mean</th>\n",
              "      <td>9.467385e+04</td>\n",
              "      <td>2010.415660</td>\n",
              "      <td>8.584340</td>\n",
              "      <td>1901.370184</td>\n",
              "      <td>100.356136</td>\n",
              "      <td>5.998089</td>\n",
              "      <td>1.098084e+06</td>\n",
              "    </tr>\n",
              "    <tr>\n",
              "      <th>std</th>\n",
              "      <td>2.788909e+05</td>\n",
              "      <td>4.658657</td>\n",
              "      <td>4.658657</td>\n",
              "      <td>1487.932696</td>\n",
              "      <td>45.345649</td>\n",
              "      <td>1.416501</td>\n",
              "      <td>8.441565e+05</td>\n",
              "    </tr>\n",
              "    <tr>\n",
              "      <th>min</th>\n",
              "      <td>0.000000e+00</td>\n",
              "      <td>1934.000000</td>\n",
              "      <td>3.000000</td>\n",
              "      <td>14.000000</td>\n",
              "      <td>10.000000</td>\n",
              "      <td>4.000000</td>\n",
              "      <td>3.000000e+00</td>\n",
              "    </tr>\n",
              "    <tr>\n",
              "      <th>25%</th>\n",
              "      <td>1.536000e+04</td>\n",
              "      <td>2008.000000</td>\n",
              "      <td>5.000000</td>\n",
              "      <td>1395.000000</td>\n",
              "      <td>73.000000</td>\n",
              "      <td>5.000000</td>\n",
              "      <td>5.051812e+05</td>\n",
              "    </tr>\n",
              "    <tr>\n",
              "      <th>50%</th>\n",
              "      <td>6.530000e+04</td>\n",
              "      <td>2011.000000</td>\n",
              "      <td>8.000000</td>\n",
              "      <td>1896.000000</td>\n",
              "      <td>91.000000</td>\n",
              "      <td>6.000000</td>\n",
              "      <td>8.854552e+05</td>\n",
              "    </tr>\n",
              "    <tr>\n",
              "      <th>75%</th>\n",
              "      <td>1.351120e+05</td>\n",
              "      <td>2014.000000</td>\n",
              "      <td>11.000000</td>\n",
              "      <td>1995.000000</td>\n",
              "      <td>125.000000</td>\n",
              "      <td>7.000000</td>\n",
              "      <td>1.477829e+06</td>\n",
              "    </tr>\n",
              "    <tr>\n",
              "      <th>max</th>\n",
              "      <td>9.899800e+06</td>\n",
              "      <td>2016.000000</td>\n",
              "      <td>85.000000</td>\n",
              "      <td>32000.000000</td>\n",
              "      <td>968.000000</td>\n",
              "      <td>8.000000</td>\n",
              "      <td>2.212078e+07</td>\n",
              "    </tr>\n",
              "  </tbody>\n",
              "</table>\n",
              "</div>"
            ],
            "text/plain": [
              "          Distance   manufacture_year  ...  Vroom Audit Rating         Price\n",
              "count  5.779100e+04      59130.000000  ...        59130.000000  5.351500e+04\n",
              "mean   9.467385e+04       2010.415660  ...            5.998089  1.098084e+06\n",
              "std    2.788909e+05          4.658657  ...            1.416501  8.441565e+05\n",
              "min    0.000000e+00       1934.000000  ...            4.000000  3.000000e+00\n",
              "25%    1.536000e+04       2008.000000  ...            5.000000  5.051812e+05\n",
              "50%    6.530000e+04       2011.000000  ...            6.000000  8.854552e+05\n",
              "75%    1.351120e+05       2014.000000  ...            7.000000  1.477829e+06\n",
              "max    9.899800e+06       2016.000000  ...            8.000000  2.212078e+07\n",
              "\n",
              "[8 rows x 7 columns]"
            ]
          },
          "metadata": {
            "tags": []
          },
          "execution_count": 74
        }
      ]
    },
    {
      "cell_type": "code",
      "metadata": {
        "id": "Yl5fnKBvSNOf",
        "colab_type": "code",
        "colab": {
          "base_uri": "https://localhost:8080/",
          "height": 306
        },
        "outputId": "055ccaf7-b128-45f6-cbe8-865748e252b3"
      },
      "source": [
        "df.isna().sum()"
      ],
      "execution_count": 75,
      "outputs": [
        {
          "output_type": "execute_result",
          "data": {
            "text/plain": [
              "Maker                      0\n",
              "model                      0\n",
              "Location                   0\n",
              "Distance                1339\n",
              "Owner Type                 0\n",
              "manufacture_year           0\n",
              "Age of car                 0\n",
              "engine_displacement        0\n",
              "engine_power            1607\n",
              "body_type              54572\n",
              "Vroom Audit Rating         0\n",
              "transmission               0\n",
              "door_count                 0\n",
              "seat_count                 0\n",
              "fuel_type                  0\n",
              "Price                   5615\n",
              "dtype: int64"
            ]
          },
          "metadata": {
            "tags": []
          },
          "execution_count": 75
        }
      ]
    },
    {
      "cell_type": "code",
      "metadata": {
        "id": "tEnAE5QXTG37",
        "colab_type": "code",
        "colab": {
          "base_uri": "https://localhost:8080/",
          "height": 102
        },
        "outputId": "1e230a9f-85a2-40ff-ae14-d62828c843df"
      },
      "source": [
        "df.columns"
      ],
      "execution_count": 76,
      "outputs": [
        {
          "output_type": "execute_result",
          "data": {
            "text/plain": [
              "Index(['Maker', 'model', 'Location', 'Distance ', 'Owner Type',\n",
              "       'manufacture_year', 'Age of car', 'engine_displacement', 'engine_power',\n",
              "       'body_type', 'Vroom Audit Rating', 'transmission', 'door_count',\n",
              "       'seat_count', 'fuel_type', 'Price'],\n",
              "      dtype='object')"
            ]
          },
          "metadata": {
            "tags": []
          },
          "execution_count": 76
        }
      ]
    },
    {
      "cell_type": "code",
      "metadata": {
        "id": "_vSLdLFuSvF-",
        "colab_type": "code",
        "colab": {
          "base_uri": "https://localhost:8080/",
          "height": 296
        },
        "outputId": "5ce0bb1e-c641-4ce6-fb9b-7f93ff17866d"
      },
      "source": [
        "sns.scatterplot(x = 'Distance ', y = 'Age of car', data = df)"
      ],
      "execution_count": 77,
      "outputs": [
        {
          "output_type": "execute_result",
          "data": {
            "text/plain": [
              "<matplotlib.axes._subplots.AxesSubplot at 0x7f8897e873c8>"
            ]
          },
          "metadata": {
            "tags": []
          },
          "execution_count": 77
        },
        {
          "output_type": "display_data",
          "data": {
            "image/png": "[encoded data removed]",
            "text/plain": [
              "<Figure size 432x288 with 1 Axes>"
            ]
          },
          "metadata": {
            "tags": [],
            "needs_background": "light"
          }
        }
      ]
    },
    {
      "cell_type": "code",
      "metadata": {
        "id": "Z_0d251qTPQb",
        "colab_type": "code",
        "colab": {
          "base_uri": "https://localhost:8080/",
          "height": 307
        },
        "outputId": "c8ab2dc6-0389-430e-dba7-44e2c6fadc86"
      },
      "source": [
        "sns.distplot(df['Distance '])"
      ],
      "execution_count": 78,
      "outputs": [
        {
          "output_type": "execute_result",
          "data": {
            "text/plain": [
              "<matplotlib.axes._subplots.AxesSubplot at 0x7f8897eed320>"
            ]
          },
          "metadata": {
            "tags": []
          },
          "execution_count": 78
        },
        {
          "output_type": "display_data",
          "data": {
            "image/png": "[encoded data removed]",
            "text/plain": [
              "<Figure size 432x288 with 1 Axes>"
            ]
          },
          "metadata": {
            "tags": [],
            "needs_background": "light"
          }
        }
      ]
    },
    {
      "cell_type": "code",
      "metadata": {
        "id": "mEEsqThMTmwV",
        "colab_type": "code",
        "colab": {
          "base_uri": "https://localhost:8080/",
          "height": 307
        },
        "outputId": "d76df886-c17d-4160-d565-38942a122a00"
      },
      "source": [
        "sns.scatterplot('Distance ', 'Price', data = df)"
      ],
      "execution_count": 79,
      "outputs": [
        {
          "output_type": "execute_result",
          "data": {
            "text/plain": [
              "<matplotlib.axes._subplots.AxesSubplot at 0x7f8897da0198>"
            ]
          },
          "metadata": {
            "tags": []
          },
          "execution_count": 79
        },
        {
          "output_type": "display_data",
          "data": {
            "image/png": "[encoded data removed]",
            "text/plain": [
              "<Figure size 432x288 with 1 Axes>"
            ]
          },
          "metadata": {
            "tags": [],
            "needs_background": "light"
          }
        }
      ]
    },
    {
      "cell_type": "code",
      "metadata": {
        "id": "zq6fHuzPUWhT",
        "colab_type": "code",
        "colab": {}
      },
      "source": [
        "df['Distance'] = df['Distance ']\n",
        "df.drop('Distance ', 1, inplace = True)"
      ],
      "execution_count": 80,
      "outputs": []
    },
    {
      "cell_type": "code",
      "metadata": {
        "id": "AOk4ZoQjUlJe",
        "colab_type": "code",
        "colab": {}
      },
      "source": [
        "df['Distance'].fillna(df['Distance'].median(), inplace = True)"
      ],
      "execution_count": 81,
      "outputs": []
    },
    {
      "cell_type": "code",
      "metadata": {
        "id": "D5Vzu8uXTxNB",
        "colab_type": "code",
        "colab": {
          "base_uri": "https://localhost:8080/",
          "height": 297
        },
        "outputId": "a28e8aaa-4aad-4811-c8d3-c0ea30ae4ad7"
      },
      "source": [
        "sns.distplot(df['engine_power'])"
      ],
      "execution_count": 82,
      "outputs": [
        {
          "output_type": "execute_result",
          "data": {
            "text/plain": [
              "<matplotlib.axes._subplots.AxesSubplot at 0x7f8897cf8588>"
            ]
          },
          "metadata": {
            "tags": []
          },
          "execution_count": 82
        },
        {
          "output_type": "display_data",
          "data": {
            "image/png": "[encoded data removed]",
            "text/plain": [
              "<Figure size 432x288 with 1 Axes>"
            ]
          },
          "metadata": {
            "tags": [],
            "needs_background": "light"
          }
        }
      ]
    },
    {
      "cell_type": "code",
      "metadata": {
        "id": "LDdZWkghUNzn",
        "colab_type": "code",
        "colab": {
          "base_uri": "https://localhost:8080/",
          "height": 308
        },
        "outputId": "b9f68a2b-c4dd-4e66-d09a-cfd517bdf650"
      },
      "source": [
        "sns.scatterplot('engine_power', 'Price', data = df)"
      ],
      "execution_count": 83,
      "outputs": [
        {
          "output_type": "execute_result",
          "data": {
            "text/plain": [
              "<matplotlib.axes._subplots.AxesSubplot at 0x7f8897c6e6a0>"
            ]
          },
          "metadata": {
            "tags": []
          },
          "execution_count": 83
        },
        {
          "output_type": "display_data",
          "data": {
            "image/png": "[encoded data removed]",
            "text/plain": [
              "<Figure size 432x288 with 1 Axes>"
            ]
          },
          "metadata": {
            "tags": [],
            "needs_background": "light"
          }
        }
      ]
    },
    {
      "cell_type": "code",
      "metadata": {
        "id": "Ns_FuOmYUu2u",
        "colab_type": "code",
        "colab": {}
      },
      "source": [
        "df['engine_power'].fillna(df['engine_power'].median(), inplace = True)"
      ],
      "execution_count": 84,
      "outputs": []
    },
    {
      "cell_type": "code",
      "metadata": {
        "id": "g2LSlkbXRNl5",
        "colab_type": "code",
        "colab": {
          "base_uri": "https://localhost:8080/",
          "height": 173
        },
        "outputId": "37c33004-2a64-49ac-8b73-781710d4ce61"
      },
      "source": [
        "df.describe(include = 'O')"
      ],
      "execution_count": 85,
      "outputs": [
        {
          "output_type": "execute_result",
          "data": {
            "text/html": [
              "<div>\n",
              "<style scoped>\n",
              "    .dataframe tbody tr th:only-of-type {\n",
              "        vertical-align: middle;\n",
              "    }\n",
              "\n",
              "    .dataframe tbody tr th {\n",
              "        vertical-align: top;\n",
              "    }\n",
              "\n",
              "    .dataframe thead th {\n",
              "        text-align: right;\n",
              "    }\n",
              "</style>\n",
              "<table border=\"1\" class=\"dataframe\">\n",
              "  <thead>\n",
              "    <tr style=\"text-align: right;\">\n",
              "      <th></th>\n",
              "      <th>Maker</th>\n",
              "      <th>model</th>\n",
              "      <th>Location</th>\n",
              "      <th>Owner Type</th>\n",
              "      <th>body_type</th>\n",
              "      <th>transmission</th>\n",
              "      <th>door_count</th>\n",
              "      <th>seat_count</th>\n",
              "      <th>fuel_type</th>\n",
              "    </tr>\n",
              "  </thead>\n",
              "  <tbody>\n",
              "    <tr>\n",
              "      <th>count</th>\n",
              "      <td>59130</td>\n",
              "      <td>59130</td>\n",
              "      <td>59130</td>\n",
              "      <td>59130</td>\n",
              "      <td>4558</td>\n",
              "      <td>59130</td>\n",
              "      <td>59130</td>\n",
              "      <td>59130</td>\n",
              "      <td>59130</td>\n",
              "    </tr>\n",
              "    <tr>\n",
              "      <th>unique</th>\n",
              "      <td>8</td>\n",
              "      <td>23</td>\n",
              "      <td>11</td>\n",
              "      <td>4</td>\n",
              "      <td>2</td>\n",
              "      <td>2</td>\n",
              "      <td>7</td>\n",
              "      <td>10</td>\n",
              "      <td>2</td>\n",
              "    </tr>\n",
              "    <tr>\n",
              "      <th>top</th>\n",
              "      <td>skoda</td>\n",
              "      <td>octavia</td>\n",
              "      <td>Kochi</td>\n",
              "      <td>First</td>\n",
              "      <td>compact</td>\n",
              "      <td>man</td>\n",
              "      <td>4</td>\n",
              "      <td>5</td>\n",
              "      <td>diesel</td>\n",
              "    </tr>\n",
              "    <tr>\n",
              "      <th>freq</th>\n",
              "      <td>23814</td>\n",
              "      <td>13952</td>\n",
              "      <td>5507</td>\n",
              "      <td>14897</td>\n",
              "      <td>4548</td>\n",
              "      <td>40627</td>\n",
              "      <td>37391</td>\n",
              "      <td>42924</td>\n",
              "      <td>30442</td>\n",
              "    </tr>\n",
              "  </tbody>\n",
              "</table>\n",
              "</div>"
            ],
            "text/plain": [
              "        Maker    model Location  ... door_count seat_count fuel_type\n",
              "count   59130    59130    59130  ...      59130      59130     59130\n",
              "unique      8       23       11  ...          7         10         2\n",
              "top     skoda  octavia    Kochi  ...          4          5    diesel\n",
              "freq    23814    13952     5507  ...      37391      42924     30442\n",
              "\n",
              "[4 rows x 9 columns]"
            ]
          },
          "metadata": {
            "tags": []
          },
          "execution_count": 85
        }
      ]
    },
    {
      "cell_type": "code",
      "metadata": {
        "id": "YTnNArXQSbmS",
        "colab_type": "code",
        "colab": {
          "base_uri": "https://localhost:8080/",
          "height": 170
        },
        "outputId": "2e91f387-000e-4b93-e2c8-9cd362471383"
      },
      "source": [
        "df['Maker'].value_counts()"
      ],
      "execution_count": 86,
      "outputs": [
        {
          "output_type": "execute_result",
          "data": {
            "text/plain": [
              "skoda       23814\n",
              "toyota       8691\n",
              "audi         8073\n",
              "bmw          7882\n",
              "nissan       6082\n",
              "hyundai      2500\n",
              "fiat         2045\n",
              "maserati       43\n",
              "Name: Maker, dtype: int64"
            ]
          },
          "metadata": {
            "tags": []
          },
          "execution_count": 86
        }
      ]
    },
    {
      "cell_type": "code",
      "metadata": {
        "id": "KbhI_Qu5Sb4r",
        "colab_type": "code",
        "colab": {
          "base_uri": "https://localhost:8080/",
          "height": 425
        },
        "outputId": "6df1d8d7-4f5e-4a4f-e922-2fbbed6b0c4d"
      },
      "source": [
        "df['model'].value_counts()"
      ],
      "execution_count": 87,
      "outputs": [
        {
          "output_type": "execute_result",
          "data": {
            "text/plain": [
              "octavia     13952\n",
              "superb       3536\n",
              "yaris        3517\n",
              "qashqai      3155\n",
              "x3           3061\n",
              "x1           2660\n",
              "i30          2276\n",
              "q5           2248\n",
              "x5           2161\n",
              "yeti         2078\n",
              "panda        1964\n",
              "q3           1915\n",
              "coupe        1884\n",
              "micra        1871\n",
              "auris        1842\n",
              "avensis      1697\n",
              "aygo         1635\n",
              "rapid        1568\n",
              "roomster     1462\n",
              "q7           1368\n",
              "citigo       1218\n",
              "juke         1056\n",
              "tt           1006\n",
              "Name: model, dtype: int64"
            ]
          },
          "metadata": {
            "tags": []
          },
          "execution_count": 87
        }
      ]
    },
    {
      "cell_type": "code",
      "metadata": {
        "id": "GDcBrjEZScc1",
        "colab_type": "code",
        "colab": {
          "base_uri": "https://localhost:8080/",
          "height": 221
        },
        "outputId": "581c81c5-5778-4f2d-844f-9071ad03ffb7"
      },
      "source": [
        "df['Location'].value_counts()"
      ],
      "execution_count": 88,
      "outputs": [
        {
          "output_type": "execute_result",
          "data": {
            "text/plain": [
              "Kochi         5507\n",
              "Coimbatore    5473\n",
              "Bangalore     5410\n",
              "Kolkata       5384\n",
              "Mumbai        5375\n",
              "Jaipur        5362\n",
              "Delhi         5341\n",
              "Pune          5336\n",
              "Chennai       5324\n",
              "Hyderabad     5320\n",
              "Ahmedabad     5298\n",
              "Name: Location, dtype: int64"
            ]
          },
          "metadata": {
            "tags": []
          },
          "execution_count": 88
        }
      ]
    },
    {
      "cell_type": "code",
      "metadata": {
        "id": "qV9_QujERU2H",
        "colab_type": "code",
        "colab": {
          "base_uri": "https://localhost:8080/",
          "height": 102
        },
        "outputId": "1c89cb54-8afb-4af3-ee33-cf39869e30fe"
      },
      "source": [
        "df['Owner Type'].value_counts()"
      ],
      "execution_count": 89,
      "outputs": [
        {
          "output_type": "execute_result",
          "data": {
            "text/plain": [
              "First             14897\n",
              "Third             14808\n",
              "Fourth & Above    14725\n",
              "Second            14700\n",
              "Name: Owner Type, dtype: int64"
            ]
          },
          "metadata": {
            "tags": []
          },
          "execution_count": 89
        }
      ]
    },
    {
      "cell_type": "code",
      "metadata": {
        "id": "Ru_6mjLsRah1",
        "colab_type": "code",
        "colab": {}
      },
      "source": [
        "df['Owner Type'] = df['Owner Type'].replace({'First' : 1,\n",
        "                                             'Second' : 2,\n",
        "                                             'Third' : 3,\n",
        "                                             'Fourth & Above' : 4})"
      ],
      "execution_count": 90,
      "outputs": []
    },
    {
      "cell_type": "code",
      "metadata": {
        "id": "kH08xOevRlm8",
        "colab_type": "code",
        "colab": {}
      },
      "source": [
        "df.drop('body_type', 1, inplace = True)"
      ],
      "execution_count": 91,
      "outputs": []
    },
    {
      "cell_type": "code",
      "metadata": {
        "id": "zwjejVE3SZCp",
        "colab_type": "code",
        "colab": {
          "base_uri": "https://localhost:8080/",
          "height": 68
        },
        "outputId": "902a012a-e15d-4aac-cd85-9daccc817b91"
      },
      "source": [
        "df['transmission'].value_counts()"
      ],
      "execution_count": 92,
      "outputs": [
        {
          "output_type": "execute_result",
          "data": {
            "text/plain": [
              "man     40627\n",
              "auto    18503\n",
              "Name: transmission, dtype: int64"
            ]
          },
          "metadata": {
            "tags": []
          },
          "execution_count": 92
        }
      ]
    },
    {
      "cell_type": "code",
      "metadata": {
        "id": "AMOWWtYQVABs",
        "colab_type": "code",
        "colab": {
          "base_uri": "https://localhost:8080/",
          "height": 153
        },
        "outputId": "78e3f843-3902-4883-b9c0-fef77cdffe0a"
      },
      "source": [
        "df['door_count'].value_counts()"
      ],
      "execution_count": 93,
      "outputs": [
        {
          "output_type": "execute_result",
          "data": {
            "text/plain": [
              "4       37391\n",
              "5        8405\n",
              "None     8340\n",
              "2        4779\n",
              "3         204\n",
              "6           9\n",
              "1           2\n",
              "Name: door_count, dtype: int64"
            ]
          },
          "metadata": {
            "tags": []
          },
          "execution_count": 93
        }
      ]
    },
    {
      "cell_type": "code",
      "metadata": {
        "id": "Fdqj90LrVGOr",
        "colab_type": "code",
        "colab": {}
      },
      "source": [
        "df['door_count'] = df['door_count'].replace({'None' : 0}).astype('int64')"
      ],
      "execution_count": 94,
      "outputs": []
    },
    {
      "cell_type": "code",
      "metadata": {
        "id": "w9gZgCSRVToc",
        "colab_type": "code",
        "colab": {
          "base_uri": "https://localhost:8080/",
          "height": 204
        },
        "outputId": "0f486d76-83ef-499d-b5b1-c56004ad08dd"
      },
      "source": [
        "df['seat_count'].value_counts()"
      ],
      "execution_count": 95,
      "outputs": [
        {
          "output_type": "execute_result",
          "data": {
            "text/plain": [
              "5       42924\n",
              "None     9402\n",
              "4        4922\n",
              "7         934\n",
              "2         804\n",
              "3         117\n",
              "6          23\n",
              "9           2\n",
              "1           1\n",
              "8           1\n",
              "Name: seat_count, dtype: int64"
            ]
          },
          "metadata": {
            "tags": []
          },
          "execution_count": 95
        }
      ]
    },
    {
      "cell_type": "code",
      "metadata": {
        "id": "Ul-qvRgXVYkl",
        "colab_type": "code",
        "colab": {}
      },
      "source": [
        "df['seat_count'] = df['seat_count'].replace({'None' : 0}).astype('int64')"
      ],
      "execution_count": 96,
      "outputs": []
    },
    {
      "cell_type": "code",
      "metadata": {
        "id": "0PwSpKK8VcIr",
        "colab_type": "code",
        "colab": {
          "base_uri": "https://localhost:8080/",
          "height": 68
        },
        "outputId": "379e5b2a-c64e-484d-9e3f-f1a9716f81b1"
      },
      "source": [
        "df['fuel_type'].value_counts()"
      ],
      "execution_count": 97,
      "outputs": [
        {
          "output_type": "execute_result",
          "data": {
            "text/plain": [
              "diesel    30442\n",
              "petrol    28688\n",
              "Name: fuel_type, dtype: int64"
            ]
          },
          "metadata": {
            "tags": []
          },
          "execution_count": 97
        }
      ]
    },
    {
      "cell_type": "code",
      "metadata": {
        "id": "avTv_jYOVgeZ",
        "colab_type": "code",
        "colab": {
          "base_uri": "https://localhost:8080/",
          "height": 391
        },
        "outputId": "ca63015e-baf8-4966-bfc5-efc48c776731"
      },
      "source": [
        "df.info()"
      ],
      "execution_count": 98,
      "outputs": [
        {
          "output_type": "stream",
          "text": [
            "<class 'pandas.core.frame.DataFrame'>\n",
            "RangeIndex: 59130 entries, 0 to 59129\n",
            "Data columns (total 15 columns):\n",
            " #   Column               Non-Null Count  Dtype  \n",
            "---  ------               --------------  -----  \n",
            " 0   Maker                59130 non-null  object \n",
            " 1   model                59130 non-null  object \n",
            " 2   Location             59130 non-null  object \n",
            " 3   Owner Type           59130 non-null  int64  \n",
            " 4   manufacture_year     59130 non-null  int64  \n",
            " 5   Age of car           59130 non-null  int64  \n",
            " 6   engine_displacement  59130 non-null  int64  \n",
            " 7   engine_power         59130 non-null  float64\n",
            " 8   Vroom Audit Rating   59130 non-null  int64  \n",
            " 9   transmission         59130 non-null  object \n",
            " 10  door_count           59130 non-null  int64  \n",
            " 11  seat_count           59130 non-null  int64  \n",
            " 12  fuel_type            59130 non-null  object \n",
            " 13  Price                53515 non-null  float64\n",
            " 14  Distance             59130 non-null  float64\n",
            "dtypes: float64(3), int64(7), object(5)\n",
            "memory usage: 6.8+ MB\n"
          ],
          "name": "stdout"
        }
      ]
    },
    {
      "cell_type": "code",
      "metadata": {
        "id": "d0Fj8_WSVh41",
        "colab_type": "code",
        "colab": {
          "base_uri": "https://localhost:8080/",
          "height": 289
        },
        "outputId": "a3878ca9-45c3-4fdb-e770-c56642287e41"
      },
      "source": [
        "df.isna().sum()"
      ],
      "execution_count": 99,
      "outputs": [
        {
          "output_type": "execute_result",
          "data": {
            "text/plain": [
              "Maker                     0\n",
              "model                     0\n",
              "Location                  0\n",
              "Owner Type                0\n",
              "manufacture_year          0\n",
              "Age of car                0\n",
              "engine_displacement       0\n",
              "engine_power              0\n",
              "Vroom Audit Rating        0\n",
              "transmission              0\n",
              "door_count                0\n",
              "seat_count                0\n",
              "fuel_type                 0\n",
              "Price                  5615\n",
              "Distance                  0\n",
              "dtype: int64"
            ]
          },
          "metadata": {
            "tags": []
          },
          "execution_count": 99
        }
      ]
    },
    {
      "cell_type": "code",
      "metadata": {
        "id": "kR2ltoreVjLT",
        "colab_type": "code",
        "colab": {
          "base_uri": "https://localhost:8080/",
          "height": 85
        },
        "outputId": "ebd7b291-df7f-4f66-8b5c-d9345ce2c947"
      },
      "source": [
        "num = df.select_dtypes(exclude = 'O').columns\n",
        "num"
      ],
      "execution_count": 100,
      "outputs": [
        {
          "output_type": "execute_result",
          "data": {
            "text/plain": [
              "Index(['Owner Type', 'manufacture_year', 'Age of car', 'engine_displacement',\n",
              "       'engine_power', 'Vroom Audit Rating', 'door_count', 'seat_count',\n",
              "       'Price', 'Distance'],\n",
              "      dtype='object')"
            ]
          },
          "metadata": {
            "tags": []
          },
          "execution_count": 100
        }
      ]
    },
    {
      "cell_type": "code",
      "metadata": {
        "id": "oKkTgQcaV5ve",
        "colab_type": "code",
        "colab": {
          "base_uri": "https://localhost:8080/",
          "height": 1000
        },
        "outputId": "b39b73b0-9357-4eca-c236-0f0b702c76fa"
      },
      "source": [
        "for i in num:\n",
        "    sns.boxplot(df[i])\n",
        "    plt.show()"
      ],
      "execution_count": 101,
      "outputs": [
        {
          "output_type": "display_data",
          "data": {
            "image/png": "[encoded data removed]",
            "text/plain": [
              "<Figure size 432x288 with 1 Axes>"
            ]
          },
          "metadata": {
            "tags": [],
            "needs_background": "light"
          }
        },
        {
          "output_type": "display_data",
          "data": {
            "image/png": "[encoded data removed]",
            "text/plain": [
              "<Figure size 432x288 with 1 Axes>"
            ]
          },
          "metadata": {
            "tags": [],
            "needs_background": "light"
          }
        },
        {
          "output_type": "display_data",
          "data": {
            "image/png": "[encoded data removed]",
            "text/plain": [
              "<Figure size 432x288 with 1 Axes>"
            ]
          },
          "metadata": {
            "tags": [],
            "needs_background": "light"
          }
        },
        {
          "output_type": "display_data",
          "data": {
            "image/png": "[encoded data removed]",
            "text/plain": [
              "<Figure size 432x288 with 1 Axes>"
            ]
          },
          "metadata": {
            "tags": [],
            "needs_background": "light"
          }
        },
        {
          "output_type": "display_data",
          "data": {
            "image/png": "[encoded data removed]",
            "text/plain": [
              "<Figure size 432x288 with 1 Axes>"
            ]
          },
          "metadata": {
            "tags": [],
            "needs_background": "light"
          }
        },
        {
          "output_type": "display_data",
          "data": {
            "image/png": "[encoded data removed]",
            "text/plain": [
              "<Figure size 432x288 with 1 Axes>"
            ]
          },
          "metadata": {
            "tags": [],
            "needs_background": "light"
          }
        },
        {
          "output_type": "display_data",
          "data": {
            "image/png": "[encoded data removed]",
            "text/plain": [
              "<Figure size 432x288 with 1 Axes>"
            ]
          },
          "metadata": {
            "tags": [],
            "needs_background": "light"
          }
        },
        {
          "output_type": "display_data",
          "data": {
            "image/png": "[encoded data removed]",
            "text/plain": [
              "<Figure size 432x288 with 1 Axes>"
            ]
          },
          "metadata": {
            "tags": [],
            "needs_background": "light"
          }
        },
        {
          "output_type": "display_data",
          "data": {
            "image/png": "[encoded data removed]",
            "text/plain": [
              "<Figure size 432x288 with 1 Axes>"
            ]
          },
          "metadata": {
            "tags": [],
            "needs_background": "light"
          }
        },
        {
          "output_type": "display_data",
          "data": {
            "image/png": "[encoded data removed]",
            "text/plain": [
              "<Figure size 432x288 with 1 Axes>"
            ]
          },
          "metadata": {
            "tags": [],
            "needs_background": "light"
          }
        }
      ]
    },
    {
      "cell_type": "code",
      "metadata": {
        "id": "tV-Hf8zFWjLr",
        "colab_type": "code",
        "colab": {
          "base_uri": "https://localhost:8080/",
          "height": 1000
        },
        "outputId": "7f787586-3b91-4f48-bbfc-90e3ababdb91"
      },
      "source": [
        "sns.pairplot(df)"
      ],
      "execution_count": 102,
      "outputs": [
        {
          "output_type": "execute_result",
          "data": {
            "text/plain": [
              "<seaborn.axisgrid.PairGrid at 0x7f8897bce588>"
            ]
          },
          "metadata": {
            "tags": []
          },
          "execution_count": 102
        },
        {
          "output_type": "display_data",
          "data": {
            "image/png": "[encoded data removed]",
            "text/plain": [
              "<Figure size 1800x1800 with 110 Axes>"
            ]
          },
          "metadata": {
            "tags": [],
            "needs_background": "light"
          }
        }
      ]
    },
    {
      "cell_type": "code",
      "metadata": {
        "id": "Y7BhgUu6XpXb",
        "colab_type": "code",
        "colab": {}
      },
      "source": [
        "df.drop('manufacture_year', 1, inplace = True)"
      ],
      "execution_count": 103,
      "outputs": []
    },
    {
      "cell_type": "code",
      "metadata": {
        "id": "f1LFpuHAYGQd",
        "colab_type": "code",
        "colab": {}
      },
      "source": [
        "df['door_count'] = df['door_count'].replace({0 : '<4',\n",
        "                                             1 : '<4',\n",
        "                                             2 : '<4',\n",
        "                                             3 : '<4',\n",
        "                                             4 : '4',\n",
        "                                             5 : '>4',\n",
        "                                             6 : '>4'})"
      ],
      "execution_count": 104,
      "outputs": []
    },
    {
      "cell_type": "code",
      "metadata": {
        "id": "fHGT_QjscXrs",
        "colab_type": "code",
        "colab": {
          "base_uri": "https://localhost:8080/",
          "height": 85
        },
        "outputId": "9f65b962-d655-4254-99b3-5c9421f17ac1"
      },
      "source": [
        "df['door_count'].value_counts()"
      ],
      "execution_count": 105,
      "outputs": [
        {
          "output_type": "execute_result",
          "data": {
            "text/plain": [
              "4     37391\n",
              "<4    13325\n",
              ">4     8414\n",
              "Name: door_count, dtype: int64"
            ]
          },
          "metadata": {
            "tags": []
          },
          "execution_count": 105
        }
      ]
    },
    {
      "cell_type": "code",
      "metadata": {
        "id": "gsJQ73BKdioa",
        "colab_type": "code",
        "colab": {
          "base_uri": "https://localhost:8080/",
          "height": 85
        },
        "outputId": "181612ff-66fa-4565-ac43-b041b7321e64"
      },
      "source": [
        "df['seat_count'] = df['seat_count'].replace({0 : '<5',\n",
        "                                             1 : '<5',\n",
        "                                             2 : '<5',\n",
        "                                             3 : '<5',\n",
        "                                             4 : '<5',\n",
        "                                             5 : '5',\n",
        "                                             6 : '>5',\n",
        "                                             7 : '>5',\n",
        "                                             8 : '>5',\n",
        "                                             9 : '>5'})\n",
        "df['seat_count'].value_counts()"
      ],
      "execution_count": 106,
      "outputs": [
        {
          "output_type": "execute_result",
          "data": {
            "text/plain": [
              "5     42924\n",
              "<5    15246\n",
              ">5      960\n",
              "Name: seat_count, dtype: int64"
            ]
          },
          "metadata": {
            "tags": []
          },
          "execution_count": 106
        }
      ]
    },
    {
      "cell_type": "code",
      "metadata": {
        "id": "PJ2vS-s3eSg7",
        "colab_type": "code",
        "colab": {
          "base_uri": "https://localhost:8080/",
          "height": 34
        },
        "outputId": "7cacaf89-f979-4390-e7e4-8227cc9b2ce5"
      },
      "source": [
        "from statsmodels.stats.outliers_influence import variance_inflation_factor as vif\n",
        "X = df.drop('Price', 1)\n",
        "X.shape"
      ],
      "execution_count": 107,
      "outputs": [
        {
          "output_type": "execute_result",
          "data": {
            "text/plain": [
              "(59130, 13)"
            ]
          },
          "metadata": {
            "tags": []
          },
          "execution_count": 107
        }
      ]
    },
    {
      "cell_type": "code",
      "metadata": {
        "id": "uiSySkHiemX9",
        "colab_type": "code",
        "colab": {
          "base_uri": "https://localhost:8080/",
          "height": 357
        },
        "outputId": "64c7aa53-8cc6-4fe1-98e1-a042fe7975d4"
      },
      "source": [
        "X.info()"
      ],
      "execution_count": 108,
      "outputs": [
        {
          "output_type": "stream",
          "text": [
            "<class 'pandas.core.frame.DataFrame'>\n",
            "RangeIndex: 59130 entries, 0 to 59129\n",
            "Data columns (total 13 columns):\n",
            " #   Column               Non-Null Count  Dtype  \n",
            "---  ------               --------------  -----  \n",
            " 0   Maker                59130 non-null  object \n",
            " 1   model                59130 non-null  object \n",
            " 2   Location             59130 non-null  object \n",
            " 3   Owner Type           59130 non-null  int64  \n",
            " 4   Age of car           59130 non-null  int64  \n",
            " 5   engine_displacement  59130 non-null  int64  \n",
            " 6   engine_power         59130 non-null  float64\n",
            " 7   Vroom Audit Rating   59130 non-null  int64  \n",
            " 8   transmission         59130 non-null  object \n",
            " 9   door_count           59130 non-null  object \n",
            " 10  seat_count           59130 non-null  object \n",
            " 11  fuel_type            59130 non-null  object \n",
            " 12  Distance             59130 non-null  float64\n",
            "dtypes: float64(2), int64(4), object(7)\n",
            "memory usage: 5.9+ MB\n"
          ],
          "name": "stdout"
        }
      ]
    },
    {
      "cell_type": "code",
      "metadata": {
        "id": "S_xPbylceseB",
        "colab_type": "code",
        "colab": {}
      },
      "source": [
        "X_dum = pd.get_dummies(X, drop_first = True)"
      ],
      "execution_count": 109,
      "outputs": []
    },
    {
      "cell_type": "code",
      "metadata": {
        "id": "ZcuAUfISgJqS",
        "colab_type": "code",
        "colab": {
          "base_uri": "https://localhost:8080/",
          "height": 258
        },
        "outputId": "ee472f57-ff55-4d29-9bff-0fc565a85108"
      },
      "source": [
        "X_dum.head()"
      ],
      "execution_count": 111,
      "outputs": [
        {
          "output_type": "execute_result",
          "data": {
            "text/html": [
              "<div>\n",
              "<style scoped>\n",
              "    .dataframe tbody tr th:only-of-type {\n",
              "        vertical-align: middle;\n",
              "    }\n",
              "\n",
              "    .dataframe tbody tr th {\n",
              "        vertical-align: top;\n",
              "    }\n",
              "\n",
              "    .dataframe thead th {\n",
              "        text-align: right;\n",
              "    }\n",
              "</style>\n",
              "<table border=\"1\" class=\"dataframe\">\n",
              "  <thead>\n",
              "    <tr style=\"text-align: right;\">\n",
              "      <th></th>\n",
              "      <th>Owner Type</th>\n",
              "      <th>Age of car</th>\n",
              "      <th>engine_displacement</th>\n",
              "      <th>engine_power</th>\n",
              "      <th>Vroom Audit Rating</th>\n",
              "      <th>Distance</th>\n",
              "      <th>Maker_bmw</th>\n",
              "      <th>Maker_fiat</th>\n",
              "      <th>Maker_hyundai</th>\n",
              "      <th>Maker_maserati</th>\n",
              "      <th>Maker_nissan</th>\n",
              "      <th>Maker_skoda</th>\n",
              "      <th>Maker_toyota</th>\n",
              "      <th>model_avensis</th>\n",
              "      <th>model_aygo</th>\n",
              "      <th>model_citigo</th>\n",
              "      <th>model_coupe</th>\n",
              "      <th>model_i30</th>\n",
              "      <th>model_juke</th>\n",
              "      <th>model_micra</th>\n",
              "      <th>model_octavia</th>\n",
              "      <th>model_panda</th>\n",
              "      <th>model_q3</th>\n",
              "      <th>model_q5</th>\n",
              "      <th>model_q7</th>\n",
              "      <th>model_qashqai</th>\n",
              "      <th>model_rapid</th>\n",
              "      <th>model_roomster</th>\n",
              "      <th>model_superb</th>\n",
              "      <th>model_tt</th>\n",
              "      <th>model_x1</th>\n",
              "      <th>model_x3</th>\n",
              "      <th>model_x5</th>\n",
              "      <th>model_yaris</th>\n",
              "      <th>model_yeti</th>\n",
              "      <th>Location_Bangalore</th>\n",
              "      <th>Location_Chennai</th>\n",
              "      <th>Location_Coimbatore</th>\n",
              "      <th>Location_Delhi</th>\n",
              "      <th>Location_Hyderabad</th>\n",
              "      <th>Location_Jaipur</th>\n",
              "      <th>Location_Kochi</th>\n",
              "      <th>Location_Kolkata</th>\n",
              "      <th>Location_Mumbai</th>\n",
              "      <th>Location_Pune</th>\n",
              "      <th>transmission_man</th>\n",
              "      <th>door_count_&lt;4</th>\n",
              "      <th>door_count_&gt;4</th>\n",
              "      <th>seat_count_&lt;5</th>\n",
              "      <th>seat_count_&gt;5</th>\n",
              "      <th>fuel_type_petrol</th>\n",
              "    </tr>\n",
              "  </thead>\n",
              "  <tbody>\n",
              "    <tr>\n",
              "      <th>0</th>\n",
              "      <td>2</td>\n",
              "      <td>55</td>\n",
              "      <td>1964</td>\n",
              "      <td>147.0</td>\n",
              "      <td>8</td>\n",
              "      <td>65300.0</td>\n",
              "      <td>0</td>\n",
              "      <td>0</td>\n",
              "      <td>0</td>\n",
              "      <td>0</td>\n",
              "      <td>0</td>\n",
              "      <td>1</td>\n",
              "      <td>0</td>\n",
              "      <td>0</td>\n",
              "      <td>0</td>\n",
              "      <td>0</td>\n",
              "      <td>0</td>\n",
              "      <td>0</td>\n",
              "      <td>0</td>\n",
              "      <td>0</td>\n",
              "      <td>1</td>\n",
              "      <td>0</td>\n",
              "      <td>0</td>\n",
              "      <td>0</td>\n",
              "      <td>0</td>\n",
              "      <td>0</td>\n",
              "      <td>0</td>\n",
              "      <td>0</td>\n",
              "      <td>0</td>\n",
              "      <td>0</td>\n",
              "      <td>0</td>\n",
              "      <td>0</td>\n",
              "      <td>0</td>\n",
              "      <td>0</td>\n",
              "      <td>0</td>\n",
              "      <td>0</td>\n",
              "      <td>0</td>\n",
              "      <td>0</td>\n",
              "      <td>0</td>\n",
              "      <td>0</td>\n",
              "      <td>0</td>\n",
              "      <td>0</td>\n",
              "      <td>0</td>\n",
              "      <td>0</td>\n",
              "      <td>0</td>\n",
              "      <td>1</td>\n",
              "      <td>1</td>\n",
              "      <td>0</td>\n",
              "      <td>1</td>\n",
              "      <td>0</td>\n",
              "      <td>1</td>\n",
              "    </tr>\n",
              "    <tr>\n",
              "      <th>1</th>\n",
              "      <td>3</td>\n",
              "      <td>7</td>\n",
              "      <td>1242</td>\n",
              "      <td>51.0</td>\n",
              "      <td>6</td>\n",
              "      <td>27750.0</td>\n",
              "      <td>0</td>\n",
              "      <td>1</td>\n",
              "      <td>0</td>\n",
              "      <td>0</td>\n",
              "      <td>0</td>\n",
              "      <td>0</td>\n",
              "      <td>0</td>\n",
              "      <td>0</td>\n",
              "      <td>0</td>\n",
              "      <td>0</td>\n",
              "      <td>0</td>\n",
              "      <td>0</td>\n",
              "      <td>0</td>\n",
              "      <td>0</td>\n",
              "      <td>0</td>\n",
              "      <td>1</td>\n",
              "      <td>0</td>\n",
              "      <td>0</td>\n",
              "      <td>0</td>\n",
              "      <td>0</td>\n",
              "      <td>0</td>\n",
              "      <td>0</td>\n",
              "      <td>0</td>\n",
              "      <td>0</td>\n",
              "      <td>0</td>\n",
              "      <td>0</td>\n",
              "      <td>0</td>\n",
              "      <td>0</td>\n",
              "      <td>0</td>\n",
              "      <td>0</td>\n",
              "      <td>0</td>\n",
              "      <td>0</td>\n",
              "      <td>0</td>\n",
              "      <td>0</td>\n",
              "      <td>0</td>\n",
              "      <td>0</td>\n",
              "      <td>0</td>\n",
              "      <td>0</td>\n",
              "      <td>0</td>\n",
              "      <td>1</td>\n",
              "      <td>0</td>\n",
              "      <td>0</td>\n",
              "      <td>1</td>\n",
              "      <td>0</td>\n",
              "      <td>1</td>\n",
              "    </tr>\n",
              "    <tr>\n",
              "      <th>2</th>\n",
              "      <td>3</td>\n",
              "      <td>5</td>\n",
              "      <td>1995</td>\n",
              "      <td>105.0</td>\n",
              "      <td>7</td>\n",
              "      <td>46000.0</td>\n",
              "      <td>1</td>\n",
              "      <td>0</td>\n",
              "      <td>0</td>\n",
              "      <td>0</td>\n",
              "      <td>0</td>\n",
              "      <td>0</td>\n",
              "      <td>0</td>\n",
              "      <td>0</td>\n",
              "      <td>0</td>\n",
              "      <td>0</td>\n",
              "      <td>0</td>\n",
              "      <td>0</td>\n",
              "      <td>0</td>\n",
              "      <td>0</td>\n",
              "      <td>0</td>\n",
              "      <td>0</td>\n",
              "      <td>0</td>\n",
              "      <td>0</td>\n",
              "      <td>0</td>\n",
              "      <td>0</td>\n",
              "      <td>0</td>\n",
              "      <td>0</td>\n",
              "      <td>0</td>\n",
              "      <td>0</td>\n",
              "      <td>1</td>\n",
              "      <td>0</td>\n",
              "      <td>0</td>\n",
              "      <td>0</td>\n",
              "      <td>0</td>\n",
              "      <td>0</td>\n",
              "      <td>0</td>\n",
              "      <td>0</td>\n",
              "      <td>0</td>\n",
              "      <td>1</td>\n",
              "      <td>0</td>\n",
              "      <td>0</td>\n",
              "      <td>0</td>\n",
              "      <td>0</td>\n",
              "      <td>0</td>\n",
              "      <td>0</td>\n",
              "      <td>0</td>\n",
              "      <td>0</td>\n",
              "      <td>0</td>\n",
              "      <td>0</td>\n",
              "      <td>0</td>\n",
              "    </tr>\n",
              "    <tr>\n",
              "      <th>3</th>\n",
              "      <td>3</td>\n",
              "      <td>8</td>\n",
              "      <td>1618</td>\n",
              "      <td>140.0</td>\n",
              "      <td>7</td>\n",
              "      <td>43949.0</td>\n",
              "      <td>0</td>\n",
              "      <td>0</td>\n",
              "      <td>0</td>\n",
              "      <td>0</td>\n",
              "      <td>1</td>\n",
              "      <td>0</td>\n",
              "      <td>0</td>\n",
              "      <td>0</td>\n",
              "      <td>0</td>\n",
              "      <td>0</td>\n",
              "      <td>0</td>\n",
              "      <td>0</td>\n",
              "      <td>1</td>\n",
              "      <td>0</td>\n",
              "      <td>0</td>\n",
              "      <td>0</td>\n",
              "      <td>0</td>\n",
              "      <td>0</td>\n",
              "      <td>0</td>\n",
              "      <td>0</td>\n",
              "      <td>0</td>\n",
              "      <td>0</td>\n",
              "      <td>0</td>\n",
              "      <td>0</td>\n",
              "      <td>0</td>\n",
              "      <td>0</td>\n",
              "      <td>0</td>\n",
              "      <td>0</td>\n",
              "      <td>0</td>\n",
              "      <td>0</td>\n",
              "      <td>0</td>\n",
              "      <td>0</td>\n",
              "      <td>0</td>\n",
              "      <td>0</td>\n",
              "      <td>0</td>\n",
              "      <td>0</td>\n",
              "      <td>0</td>\n",
              "      <td>1</td>\n",
              "      <td>0</td>\n",
              "      <td>1</td>\n",
              "      <td>0</td>\n",
              "      <td>0</td>\n",
              "      <td>0</td>\n",
              "      <td>0</td>\n",
              "      <td>1</td>\n",
              "    </tr>\n",
              "    <tr>\n",
              "      <th>4</th>\n",
              "      <td>4</td>\n",
              "      <td>7</td>\n",
              "      <td>2993</td>\n",
              "      <td>180.0</td>\n",
              "      <td>7</td>\n",
              "      <td>59524.0</td>\n",
              "      <td>1</td>\n",
              "      <td>0</td>\n",
              "      <td>0</td>\n",
              "      <td>0</td>\n",
              "      <td>0</td>\n",
              "      <td>0</td>\n",
              "      <td>0</td>\n",
              "      <td>0</td>\n",
              "      <td>0</td>\n",
              "      <td>0</td>\n",
              "      <td>0</td>\n",
              "      <td>0</td>\n",
              "      <td>0</td>\n",
              "      <td>0</td>\n",
              "      <td>0</td>\n",
              "      <td>0</td>\n",
              "      <td>0</td>\n",
              "      <td>0</td>\n",
              "      <td>0</td>\n",
              "      <td>0</td>\n",
              "      <td>0</td>\n",
              "      <td>0</td>\n",
              "      <td>0</td>\n",
              "      <td>0</td>\n",
              "      <td>0</td>\n",
              "      <td>0</td>\n",
              "      <td>1</td>\n",
              "      <td>0</td>\n",
              "      <td>0</td>\n",
              "      <td>0</td>\n",
              "      <td>0</td>\n",
              "      <td>0</td>\n",
              "      <td>0</td>\n",
              "      <td>0</td>\n",
              "      <td>1</td>\n",
              "      <td>0</td>\n",
              "      <td>0</td>\n",
              "      <td>0</td>\n",
              "      <td>0</td>\n",
              "      <td>0</td>\n",
              "      <td>0</td>\n",
              "      <td>0</td>\n",
              "      <td>0</td>\n",
              "      <td>0</td>\n",
              "      <td>0</td>\n",
              "    </tr>\n",
              "  </tbody>\n",
              "</table>\n",
              "</div>"
            ],
            "text/plain": [
              "   Owner Type  Age of car  ...  seat_count_>5  fuel_type_petrol\n",
              "0           2          55  ...              0                 1\n",
              "1           3           7  ...              0                 1\n",
              "2           3           5  ...              0                 0\n",
              "3           3           8  ...              0                 1\n",
              "4           4           7  ...              0                 0\n",
              "\n",
              "[5 rows x 51 columns]"
            ]
          },
          "metadata": {
            "tags": []
          },
          "execution_count": 111
        }
      ]
    },
    {
      "cell_type": "code",
      "metadata": {
        "id": "Yr6mxKUjezwq",
        "colab_type": "code",
        "colab": {
          "base_uri": "https://localhost:8080/",
          "height": 168
        },
        "outputId": "f7b6581f-4bb7-4230-c911-6705e2589e50"
      },
      "source": [
        "VIF = [vif(X_dum.values, i) for i in range(X_dum.shape[1])]\n",
        "pd.DataFrame({'vif': VIF}, index=X_dum.columns).T"
      ],
      "execution_count": 112,
      "outputs": [
        {
          "output_type": "stream",
          "text": [
            "/usr/local/lib/python3.6/dist-packages/statsmodels/stats/outliers_influence.py:185: RuntimeWarning: divide by zero encountered in double_scalars\n",
            "  vif = 1. / (1. - r_squared_i)\n"
          ],
          "name": "stderr"
        },
        {
          "output_type": "execute_result",
          "data": {
            "text/html": [
              "<div>\n",
              "<style scoped>\n",
              "    .dataframe tbody tr th:only-of-type {\n",
              "        vertical-align: middle;\n",
              "    }\n",
              "\n",
              "    .dataframe tbody tr th {\n",
              "        vertical-align: top;\n",
              "    }\n",
              "\n",
              "    .dataframe thead th {\n",
              "        text-align: right;\n",
              "    }\n",
              "</style>\n",
              "<table border=\"1\" class=\"dataframe\">\n",
              "  <thead>\n",
              "    <tr style=\"text-align: right;\">\n",
              "      <th></th>\n",
              "      <th>Owner Type</th>\n",
              "      <th>Age of car</th>\n",
              "      <th>engine_displacement</th>\n",
              "      <th>engine_power</th>\n",
              "      <th>Vroom Audit Rating</th>\n",
              "      <th>Distance</th>\n",
              "      <th>Maker_bmw</th>\n",
              "      <th>Maker_fiat</th>\n",
              "      <th>Maker_hyundai</th>\n",
              "      <th>Maker_maserati</th>\n",
              "      <th>Maker_nissan</th>\n",
              "      <th>Maker_skoda</th>\n",
              "      <th>Maker_toyota</th>\n",
              "      <th>model_avensis</th>\n",
              "      <th>model_aygo</th>\n",
              "      <th>model_citigo</th>\n",
              "      <th>model_coupe</th>\n",
              "      <th>model_i30</th>\n",
              "      <th>model_juke</th>\n",
              "      <th>model_micra</th>\n",
              "      <th>model_octavia</th>\n",
              "      <th>model_panda</th>\n",
              "      <th>model_q3</th>\n",
              "      <th>model_q5</th>\n",
              "      <th>model_q7</th>\n",
              "      <th>model_qashqai</th>\n",
              "      <th>model_rapid</th>\n",
              "      <th>model_roomster</th>\n",
              "      <th>model_superb</th>\n",
              "      <th>model_tt</th>\n",
              "      <th>model_x1</th>\n",
              "      <th>model_x3</th>\n",
              "      <th>model_x5</th>\n",
              "      <th>model_yaris</th>\n",
              "      <th>model_yeti</th>\n",
              "      <th>Location_Bangalore</th>\n",
              "      <th>Location_Chennai</th>\n",
              "      <th>Location_Coimbatore</th>\n",
              "      <th>Location_Delhi</th>\n",
              "      <th>Location_Hyderabad</th>\n",
              "      <th>Location_Jaipur</th>\n",
              "      <th>Location_Kochi</th>\n",
              "      <th>Location_Kolkata</th>\n",
              "      <th>Location_Mumbai</th>\n",
              "      <th>Location_Pune</th>\n",
              "      <th>transmission_man</th>\n",
              "      <th>door_count_&lt;4</th>\n",
              "      <th>door_count_&gt;4</th>\n",
              "      <th>seat_count_&lt;5</th>\n",
              "      <th>seat_count_&gt;5</th>\n",
              "      <th>fuel_type_petrol</th>\n",
              "    </tr>\n",
              "  </thead>\n",
              "  <tbody>\n",
              "    <tr>\n",
              "      <th>vif</th>\n",
              "      <td>1.001034</td>\n",
              "      <td>1.448161</td>\n",
              "      <td>1.206008</td>\n",
              "      <td>3.341888</td>\n",
              "      <td>1.00091</td>\n",
              "      <td>1.077165</td>\n",
              "      <td>inf</td>\n",
              "      <td>26.311701</td>\n",
              "      <td>12.583449</td>\n",
              "      <td>1.048945</td>\n",
              "      <td>inf</td>\n",
              "      <td>inf</td>\n",
              "      <td>12.99291</td>\n",
              "      <td>1.972933</td>\n",
              "      <td>2.016432</td>\n",
              "      <td>inf</td>\n",
              "      <td>4.621307</td>\n",
              "      <td>15.681642</td>\n",
              "      <td>inf</td>\n",
              "      <td>inf</td>\n",
              "      <td>inf</td>\n",
              "      <td>28.674589</td>\n",
              "      <td>3.079268</td>\n",
              "      <td>3.864712</td>\n",
              "      <td>3.594961</td>\n",
              "      <td>inf</td>\n",
              "      <td>inf</td>\n",
              "      <td>inf</td>\n",
              "      <td>inf</td>\n",
              "      <td>2.781865</td>\n",
              "      <td>inf</td>\n",
              "      <td>inf</td>\n",
              "      <td>inf</td>\n",
              "      <td>2.817256</td>\n",
              "      <td>inf</td>\n",
              "      <td>1.837257</td>\n",
              "      <td>1.825434</td>\n",
              "      <td>1.846002</td>\n",
              "      <td>1.82809</td>\n",
              "      <td>1.824995</td>\n",
              "      <td>1.830878</td>\n",
              "      <td>1.850314</td>\n",
              "      <td>1.833583</td>\n",
              "      <td>1.832371</td>\n",
              "      <td>1.827563</td>\n",
              "      <td>1.553302</td>\n",
              "      <td>1.968589</td>\n",
              "      <td>1.30868</td>\n",
              "      <td>2.076798</td>\n",
              "      <td>1.262123</td>\n",
              "      <td>1.51633</td>\n",
              "    </tr>\n",
              "  </tbody>\n",
              "</table>\n",
              "</div>"
            ],
            "text/plain": [
              "     Owner Type  Age of car  ...  seat_count_>5  fuel_type_petrol\n",
              "vif    1.001034    1.448161  ...       1.262123           1.51633\n",
              "\n",
              "[1 rows x 51 columns]"
            ]
          },
          "metadata": {
            "tags": []
          },
          "execution_count": 112
        }
      ]
    },
    {
      "cell_type": "code",
      "metadata": {
        "id": "tx6GWhqagE-M",
        "colab_type": "code",
        "colab": {
          "base_uri": "https://localhost:8080/",
          "height": 134
        },
        "outputId": "776ac18f-bba3-4ee8-c418-c8e5008f2f80"
      },
      "source": [
        "X_1 = X.drop(['Maker'], 1)\n",
        "X_1_dum = pd.get_dummies(X_1, drop_first = True)\n",
        "VIF = [vif(X_1_dum.values, i) for i in range(X_1_dum.shape[1])]\n",
        "pd.DataFrame({'vif': VIF}, index=X_1_dum.columns).T"
      ],
      "execution_count": 114,
      "outputs": [
        {
          "output_type": "execute_result",
          "data": {
            "text/html": [
              "<div>\n",
              "<style scoped>\n",
              "    .dataframe tbody tr th:only-of-type {\n",
              "        vertical-align: middle;\n",
              "    }\n",
              "\n",
              "    .dataframe tbody tr th {\n",
              "        vertical-align: top;\n",
              "    }\n",
              "\n",
              "    .dataframe thead th {\n",
              "        text-align: right;\n",
              "    }\n",
              "</style>\n",
              "<table border=\"1\" class=\"dataframe\">\n",
              "  <thead>\n",
              "    <tr style=\"text-align: right;\">\n",
              "      <th></th>\n",
              "      <th>Owner Type</th>\n",
              "      <th>Age of car</th>\n",
              "      <th>engine_displacement</th>\n",
              "      <th>engine_power</th>\n",
              "      <th>Vroom Audit Rating</th>\n",
              "      <th>Distance</th>\n",
              "      <th>model_avensis</th>\n",
              "      <th>model_aygo</th>\n",
              "      <th>model_citigo</th>\n",
              "      <th>model_coupe</th>\n",
              "      <th>model_i30</th>\n",
              "      <th>model_juke</th>\n",
              "      <th>model_micra</th>\n",
              "      <th>model_octavia</th>\n",
              "      <th>model_panda</th>\n",
              "      <th>model_q3</th>\n",
              "      <th>model_q5</th>\n",
              "      <th>model_q7</th>\n",
              "      <th>model_qashqai</th>\n",
              "      <th>model_rapid</th>\n",
              "      <th>model_roomster</th>\n",
              "      <th>model_superb</th>\n",
              "      <th>model_tt</th>\n",
              "      <th>model_x1</th>\n",
              "      <th>model_x3</th>\n",
              "      <th>model_x5</th>\n",
              "      <th>model_yaris</th>\n",
              "      <th>model_yeti</th>\n",
              "      <th>Location_Bangalore</th>\n",
              "      <th>Location_Chennai</th>\n",
              "      <th>Location_Coimbatore</th>\n",
              "      <th>Location_Delhi</th>\n",
              "      <th>Location_Hyderabad</th>\n",
              "      <th>Location_Jaipur</th>\n",
              "      <th>Location_Kochi</th>\n",
              "      <th>Location_Kolkata</th>\n",
              "      <th>Location_Mumbai</th>\n",
              "      <th>Location_Pune</th>\n",
              "      <th>transmission_man</th>\n",
              "      <th>door_count_&lt;4</th>\n",
              "      <th>door_count_&gt;4</th>\n",
              "      <th>seat_count_&lt;5</th>\n",
              "      <th>seat_count_&gt;5</th>\n",
              "      <th>fuel_type_petrol</th>\n",
              "    </tr>\n",
              "  </thead>\n",
              "  <tbody>\n",
              "    <tr>\n",
              "      <th>vif</th>\n",
              "      <td>5.653654</td>\n",
              "      <td>6.099117</td>\n",
              "      <td>3.155137</td>\n",
              "      <td>16.11084</td>\n",
              "      <td>15.147165</td>\n",
              "      <td>1.201173</td>\n",
              "      <td>1.787266</td>\n",
              "      <td>1.695044</td>\n",
              "      <td>1.546685</td>\n",
              "      <td>2.470381</td>\n",
              "      <td>1.829395</td>\n",
              "      <td>1.387569</td>\n",
              "      <td>1.755317</td>\n",
              "      <td>7.062557</td>\n",
              "      <td>1.860045</td>\n",
              "      <td>1.82982</td>\n",
              "      <td>2.230565</td>\n",
              "      <td>2.363044</td>\n",
              "      <td>2.25635</td>\n",
              "      <td>1.560509</td>\n",
              "      <td>1.547718</td>\n",
              "      <td>2.555183</td>\n",
              "      <td>1.783204</td>\n",
              "      <td>2.168226</td>\n",
              "      <td>2.616313</td>\n",
              "      <td>2.84961</td>\n",
              "      <td>2.249051</td>\n",
              "      <td>1.765096</td>\n",
              "      <td>1.897862</td>\n",
              "      <td>1.887757</td>\n",
              "      <td>1.907519</td>\n",
              "      <td>1.88693</td>\n",
              "      <td>1.881242</td>\n",
              "      <td>1.891045</td>\n",
              "      <td>1.914903</td>\n",
              "      <td>1.890317</td>\n",
              "      <td>1.893621</td>\n",
              "      <td>1.890705</td>\n",
              "      <td>4.682986</td>\n",
              "      <td>2.522616</td>\n",
              "      <td>1.522496</td>\n",
              "      <td>2.796571</td>\n",
              "      <td>1.282718</td>\n",
              "      <td>2.854387</td>\n",
              "    </tr>\n",
              "  </tbody>\n",
              "</table>\n",
              "</div>"
            ],
            "text/plain": [
              "     Owner Type  Age of car  ...  seat_count_>5  fuel_type_petrol\n",
              "vif    5.653654    6.099117  ...       1.282718          2.854387\n",
              "\n",
              "[1 rows x 44 columns]"
            ]
          },
          "metadata": {
            "tags": []
          },
          "execution_count": 114
        }
      ]
    },
    {
      "cell_type": "code",
      "metadata": {
        "id": "WdgpyECxhH1D",
        "colab_type": "code",
        "colab": {
          "base_uri": "https://localhost:8080/",
          "height": 134
        },
        "outputId": "93a06102-39b9-4b68-c3ca-214dd7a35eb0"
      },
      "source": [
        "X_1 = X.drop(['model'], 1)\n",
        "X_1_dum = pd.get_dummies(X_1, drop_first = True)\n",
        "VIF = [vif(X_1_dum.values, i) for i in range(X_1_dum.shape[1])]\n",
        "pd.DataFrame({'vif': VIF}, index=X_1_dum.columns).T"
      ],
      "execution_count": 115,
      "outputs": [
        {
          "output_type": "execute_result",
          "data": {
            "text/html": [
              "<div>\n",
              "<style scoped>\n",
              "    .dataframe tbody tr th:only-of-type {\n",
              "        vertical-align: middle;\n",
              "    }\n",
              "\n",
              "    .dataframe tbody tr th {\n",
              "        vertical-align: top;\n",
              "    }\n",
              "\n",
              "    .dataframe thead th {\n",
              "        text-align: right;\n",
              "    }\n",
              "</style>\n",
              "<table border=\"1\" class=\"dataframe\">\n",
              "  <thead>\n",
              "    <tr style=\"text-align: right;\">\n",
              "      <th></th>\n",
              "      <th>Owner Type</th>\n",
              "      <th>Age of car</th>\n",
              "      <th>engine_displacement</th>\n",
              "      <th>engine_power</th>\n",
              "      <th>Vroom Audit Rating</th>\n",
              "      <th>Distance</th>\n",
              "      <th>Maker_bmw</th>\n",
              "      <th>Maker_fiat</th>\n",
              "      <th>Maker_hyundai</th>\n",
              "      <th>Maker_maserati</th>\n",
              "      <th>Maker_nissan</th>\n",
              "      <th>Maker_skoda</th>\n",
              "      <th>Maker_toyota</th>\n",
              "      <th>Location_Bangalore</th>\n",
              "      <th>Location_Chennai</th>\n",
              "      <th>Location_Coimbatore</th>\n",
              "      <th>Location_Delhi</th>\n",
              "      <th>Location_Hyderabad</th>\n",
              "      <th>Location_Jaipur</th>\n",
              "      <th>Location_Kochi</th>\n",
              "      <th>Location_Kolkata</th>\n",
              "      <th>Location_Mumbai</th>\n",
              "      <th>Location_Pune</th>\n",
              "      <th>transmission_man</th>\n",
              "      <th>door_count_&lt;4</th>\n",
              "      <th>door_count_&gt;4</th>\n",
              "      <th>seat_count_&lt;5</th>\n",
              "      <th>seat_count_&gt;5</th>\n",
              "      <th>fuel_type_petrol</th>\n",
              "    </tr>\n",
              "  </thead>\n",
              "  <tbody>\n",
              "    <tr>\n",
              "      <th>vif</th>\n",
              "      <td>5.574626</td>\n",
              "      <td>5.128764</td>\n",
              "      <td>3.067442</td>\n",
              "      <td>8.73046</td>\n",
              "      <td>14.234741</td>\n",
              "      <td>1.192444</td>\n",
              "      <td>1.931758</td>\n",
              "      <td>1.551826</td>\n",
              "      <td>1.408052</td>\n",
              "      <td>1.021433</td>\n",
              "      <td>1.972789</td>\n",
              "      <td>4.645434</td>\n",
              "      <td>2.487411</td>\n",
              "      <td>1.872773</td>\n",
              "      <td>1.861799</td>\n",
              "      <td>1.884125</td>\n",
              "      <td>1.861433</td>\n",
              "      <td>1.861291</td>\n",
              "      <td>1.869624</td>\n",
              "      <td>1.890194</td>\n",
              "      <td>1.865641</td>\n",
              "      <td>1.872239</td>\n",
              "      <td>1.865145</td>\n",
              "      <td>4.315138</td>\n",
              "      <td>2.263504</td>\n",
              "      <td>1.483246</td>\n",
              "      <td>2.359615</td>\n",
              "      <td>1.089319</td>\n",
              "      <td>2.50963</td>\n",
              "    </tr>\n",
              "  </tbody>\n",
              "</table>\n",
              "</div>"
            ],
            "text/plain": [
              "     Owner Type  Age of car  ...  seat_count_>5  fuel_type_petrol\n",
              "vif    5.574626    5.128764  ...       1.089319           2.50963\n",
              "\n",
              "[1 rows x 29 columns]"
            ]
          },
          "metadata": {
            "tags": []
          },
          "execution_count": 115
        }
      ]
    },
    {
      "cell_type": "code",
      "metadata": {
        "id": "qGc511pChg1J",
        "colab_type": "code",
        "colab": {
          "base_uri": "https://localhost:8080/",
          "height": 134
        },
        "outputId": "ba574661-3402-46a1-ab20-edfd90c59cc5"
      },
      "source": [
        "X_1 = X.drop(['Maker', 'model'], 1)\n",
        "X_1_dum = pd.get_dummies(X_1, drop_first = True)\n",
        "VIF = [vif(X_1_dum.values, i) for i in range(X_1_dum.shape[1])]\n",
        "pd.DataFrame({'vif': VIF}, index=X_1_dum.columns).T"
      ],
      "execution_count": 116,
      "outputs": [
        {
          "output_type": "execute_result",
          "data": {
            "text/html": [
              "<div>\n",
              "<style scoped>\n",
              "    .dataframe tbody tr th:only-of-type {\n",
              "        vertical-align: middle;\n",
              "    }\n",
              "\n",
              "    .dataframe tbody tr th {\n",
              "        vertical-align: top;\n",
              "    }\n",
              "\n",
              "    .dataframe thead th {\n",
              "        text-align: right;\n",
              "    }\n",
              "</style>\n",
              "<table border=\"1\" class=\"dataframe\">\n",
              "  <thead>\n",
              "    <tr style=\"text-align: right;\">\n",
              "      <th></th>\n",
              "      <th>Owner Type</th>\n",
              "      <th>Age of car</th>\n",
              "      <th>engine_displacement</th>\n",
              "      <th>engine_power</th>\n",
              "      <th>Vroom Audit Rating</th>\n",
              "      <th>Distance</th>\n",
              "      <th>Location_Bangalore</th>\n",
              "      <th>Location_Chennai</th>\n",
              "      <th>Location_Coimbatore</th>\n",
              "      <th>Location_Delhi</th>\n",
              "      <th>Location_Hyderabad</th>\n",
              "      <th>Location_Jaipur</th>\n",
              "      <th>Location_Kochi</th>\n",
              "      <th>Location_Kolkata</th>\n",
              "      <th>Location_Mumbai</th>\n",
              "      <th>Location_Pune</th>\n",
              "      <th>transmission_man</th>\n",
              "      <th>door_count_&lt;4</th>\n",
              "      <th>door_count_&gt;4</th>\n",
              "      <th>seat_count_&lt;5</th>\n",
              "      <th>seat_count_&gt;5</th>\n",
              "      <th>fuel_type_petrol</th>\n",
              "    </tr>\n",
              "  </thead>\n",
              "  <tbody>\n",
              "    <tr>\n",
              "      <th>vif</th>\n",
              "      <td>5.422248</td>\n",
              "      <td>4.944884</td>\n",
              "      <td>3.029131</td>\n",
              "      <td>7.216419</td>\n",
              "      <td>12.54641</td>\n",
              "      <td>1.185272</td>\n",
              "      <td>1.816415</td>\n",
              "      <td>1.807625</td>\n",
              "      <td>1.82318</td>\n",
              "      <td>1.805342</td>\n",
              "      <td>1.801881</td>\n",
              "      <td>1.808447</td>\n",
              "      <td>1.832847</td>\n",
              "      <td>1.806195</td>\n",
              "      <td>1.815004</td>\n",
              "      <td>1.806724</td>\n",
              "      <td>3.83944</td>\n",
              "      <td>2.124669</td>\n",
              "      <td>1.308954</td>\n",
              "      <td>2.08789</td>\n",
              "      <td>1.0535</td>\n",
              "      <td>2.246626</td>\n",
              "    </tr>\n",
              "  </tbody>\n",
              "</table>\n",
              "</div>"
            ],
            "text/plain": [
              "     Owner Type  Age of car  ...  seat_count_>5  fuel_type_petrol\n",
              "vif    5.422248    4.944884  ...         1.0535          2.246626\n",
              "\n",
              "[1 rows x 22 columns]"
            ]
          },
          "metadata": {
            "tags": []
          },
          "execution_count": 116
        }
      ]
    },
    {
      "cell_type": "code",
      "metadata": {
        "id": "6iJJrD35hsY6",
        "colab_type": "code",
        "colab": {
          "base_uri": "https://localhost:8080/",
          "height": 117
        },
        "outputId": "6a60fb58-fe36-45c1-fa9b-0509a67d2d7c"
      },
      "source": [
        "X_1 = X.drop(['model', 'Vroom Audit Rating'], 1)\n",
        "X_1_dum = pd.get_dummies(X_1, drop_first = True)\n",
        "VIF = [vif(X_1_dum.values, i) for i in range(X_1_dum.shape[1])]\n",
        "pd.DataFrame({'vif': VIF}, index=X_1_dum.columns).T"
      ],
      "execution_count": 120,
      "outputs": [
        {
          "output_type": "execute_result",
          "data": {
            "text/html": [
              "<div>\n",
              "<style scoped>\n",
              "    .dataframe tbody tr th:only-of-type {\n",
              "        vertical-align: middle;\n",
              "    }\n",
              "\n",
              "    .dataframe tbody tr th {\n",
              "        vertical-align: top;\n",
              "    }\n",
              "\n",
              "    .dataframe thead th {\n",
              "        text-align: right;\n",
              "    }\n",
              "</style>\n",
              "<table border=\"1\" class=\"dataframe\">\n",
              "  <thead>\n",
              "    <tr style=\"text-align: right;\">\n",
              "      <th></th>\n",
              "      <th>Owner Type</th>\n",
              "      <th>Age of car</th>\n",
              "      <th>engine_displacement</th>\n",
              "      <th>engine_power</th>\n",
              "      <th>Distance</th>\n",
              "      <th>Maker_bmw</th>\n",
              "      <th>Maker_fiat</th>\n",
              "      <th>Maker_hyundai</th>\n",
              "      <th>Maker_maserati</th>\n",
              "      <th>Maker_nissan</th>\n",
              "      <th>Maker_skoda</th>\n",
              "      <th>Maker_toyota</th>\n",
              "      <th>Location_Bangalore</th>\n",
              "      <th>Location_Chennai</th>\n",
              "      <th>Location_Coimbatore</th>\n",
              "      <th>Location_Delhi</th>\n",
              "      <th>Location_Hyderabad</th>\n",
              "      <th>Location_Jaipur</th>\n",
              "      <th>Location_Kochi</th>\n",
              "      <th>Location_Kolkata</th>\n",
              "      <th>Location_Mumbai</th>\n",
              "      <th>Location_Pune</th>\n",
              "      <th>transmission_man</th>\n",
              "      <th>door_count_&lt;4</th>\n",
              "      <th>door_count_&gt;4</th>\n",
              "      <th>seat_count_&lt;5</th>\n",
              "      <th>seat_count_&gt;5</th>\n",
              "      <th>fuel_type_petrol</th>\n",
              "    </tr>\n",
              "  </thead>\n",
              "  <tbody>\n",
              "    <tr>\n",
              "      <th>vif</th>\n",
              "      <td>5.449655</td>\n",
              "      <td>5.102643</td>\n",
              "      <td>3.063196</td>\n",
              "      <td>7.182837</td>\n",
              "      <td>1.191906</td>\n",
              "      <td>1.869188</td>\n",
              "      <td>1.489077</td>\n",
              "      <td>1.360529</td>\n",
              "      <td>1.02055</td>\n",
              "      <td>1.843716</td>\n",
              "      <td>4.203028</td>\n",
              "      <td>2.282973</td>\n",
              "      <td>1.816947</td>\n",
              "      <td>1.805193</td>\n",
              "      <td>1.830103</td>\n",
              "      <td>1.808383</td>\n",
              "      <td>1.812046</td>\n",
              "      <td>1.817738</td>\n",
              "      <td>1.838679</td>\n",
              "      <td>1.815372</td>\n",
              "      <td>1.820004</td>\n",
              "      <td>1.812805</td>\n",
              "      <td>4.204979</td>\n",
              "      <td>2.259204</td>\n",
              "      <td>1.483044</td>\n",
              "      <td>2.359413</td>\n",
              "      <td>1.089277</td>\n",
              "      <td>2.502835</td>\n",
              "    </tr>\n",
              "  </tbody>\n",
              "</table>\n",
              "</div>"
            ],
            "text/plain": [
              "     Owner Type  Age of car  ...  seat_count_>5  fuel_type_petrol\n",
              "vif    5.449655    5.102643  ...       1.089277          2.502835\n",
              "\n",
              "[1 rows x 28 columns]"
            ]
          },
          "metadata": {
            "tags": []
          },
          "execution_count": 120
        }
      ]
    },
    {
      "cell_type": "code",
      "metadata": {
        "id": "ng_XbNRFiGpX",
        "colab_type": "code",
        "colab": {}
      },
      "source": [
        "df = df.drop(['model', 'Vroom Audit Rating'],1)"
      ],
      "execution_count": 121,
      "outputs": []
    },
    {
      "cell_type": "code",
      "metadata": {
        "id": "uyBLC_fOin2G",
        "colab_type": "code",
        "colab": {
          "base_uri": "https://localhost:8080/",
          "height": 204
        },
        "outputId": "d740da3e-8f07-4b7a-d4d1-08f9834787f3"
      },
      "source": [
        "df.head()"
      ],
      "execution_count": 122,
      "outputs": [
        {
          "output_type": "execute_result",
          "data": {
            "text/html": [
              "<div>\n",
              "<style scoped>\n",
              "    .dataframe tbody tr th:only-of-type {\n",
              "        vertical-align: middle;\n",
              "    }\n",
              "\n",
              "    .dataframe tbody tr th {\n",
              "        vertical-align: top;\n",
              "    }\n",
              "\n",
              "    .dataframe thead th {\n",
              "        text-align: right;\n",
              "    }\n",
              "</style>\n",
              "<table border=\"1\" class=\"dataframe\">\n",
              "  <thead>\n",
              "    <tr style=\"text-align: right;\">\n",
              "      <th></th>\n",
              "      <th>Maker</th>\n",
              "      <th>Location</th>\n",
              "      <th>Owner Type</th>\n",
              "      <th>Age of car</th>\n",
              "      <th>engine_displacement</th>\n",
              "      <th>engine_power</th>\n",
              "      <th>transmission</th>\n",
              "      <th>door_count</th>\n",
              "      <th>seat_count</th>\n",
              "      <th>fuel_type</th>\n",
              "      <th>Price</th>\n",
              "      <th>Distance</th>\n",
              "    </tr>\n",
              "  </thead>\n",
              "  <tbody>\n",
              "    <tr>\n",
              "      <th>0</th>\n",
              "      <td>skoda</td>\n",
              "      <td>Ahmedabad</td>\n",
              "      <td>2</td>\n",
              "      <td>55</td>\n",
              "      <td>1964</td>\n",
              "      <td>147.0</td>\n",
              "      <td>man</td>\n",
              "      <td>&lt;4</td>\n",
              "      <td>&lt;5</td>\n",
              "      <td>petrol</td>\n",
              "      <td>543764.25</td>\n",
              "      <td>65300.0</td>\n",
              "    </tr>\n",
              "    <tr>\n",
              "      <th>1</th>\n",
              "      <td>fiat</td>\n",
              "      <td>Ahmedabad</td>\n",
              "      <td>3</td>\n",
              "      <td>7</td>\n",
              "      <td>1242</td>\n",
              "      <td>51.0</td>\n",
              "      <td>man</td>\n",
              "      <td>4</td>\n",
              "      <td>&lt;5</td>\n",
              "      <td>petrol</td>\n",
              "      <td>401819.25</td>\n",
              "      <td>27750.0</td>\n",
              "    </tr>\n",
              "    <tr>\n",
              "      <th>2</th>\n",
              "      <td>bmw</td>\n",
              "      <td>Hyderabad</td>\n",
              "      <td>3</td>\n",
              "      <td>5</td>\n",
              "      <td>1995</td>\n",
              "      <td>105.0</td>\n",
              "      <td>auto</td>\n",
              "      <td>4</td>\n",
              "      <td>5</td>\n",
              "      <td>diesel</td>\n",
              "      <td>2392855.50</td>\n",
              "      <td>46000.0</td>\n",
              "    </tr>\n",
              "    <tr>\n",
              "      <th>3</th>\n",
              "      <td>nissan</td>\n",
              "      <td>Mumbai</td>\n",
              "      <td>3</td>\n",
              "      <td>8</td>\n",
              "      <td>1618</td>\n",
              "      <td>140.0</td>\n",
              "      <td>man</td>\n",
              "      <td>4</td>\n",
              "      <td>5</td>\n",
              "      <td>petrol</td>\n",
              "      <td>958606.50</td>\n",
              "      <td>43949.0</td>\n",
              "    </tr>\n",
              "    <tr>\n",
              "      <th>4</th>\n",
              "      <td>bmw</td>\n",
              "      <td>Jaipur</td>\n",
              "      <td>4</td>\n",
              "      <td>7</td>\n",
              "      <td>2993</td>\n",
              "      <td>180.0</td>\n",
              "      <td>auto</td>\n",
              "      <td>4</td>\n",
              "      <td>5</td>\n",
              "      <td>diesel</td>\n",
              "      <td>3085561.50</td>\n",
              "      <td>59524.0</td>\n",
              "    </tr>\n",
              "  </tbody>\n",
              "</table>\n",
              "</div>"
            ],
            "text/plain": [
              "    Maker   Location  Owner Type  ...  fuel_type       Price  Distance\n",
              "0   skoda  Ahmedabad           2  ...     petrol   543764.25   65300.0\n",
              "1    fiat  Ahmedabad           3  ...     petrol   401819.25   27750.0\n",
              "2     bmw  Hyderabad           3  ...     diesel  2392855.50   46000.0\n",
              "3  nissan     Mumbai           3  ...     petrol   958606.50   43949.0\n",
              "4     bmw     Jaipur           4  ...     diesel  3085561.50   59524.0\n",
              "\n",
              "[5 rows x 12 columns]"
            ]
          },
          "metadata": {
            "tags": []
          },
          "execution_count": 122
        }
      ]
    },
    {
      "cell_type": "code",
      "metadata": {
        "id": "I7sE4lYGiosU",
        "colab_type": "code",
        "colab": {
          "base_uri": "https://localhost:8080/",
          "height": 340
        },
        "outputId": "4155413c-cda4-4576-c613-6c22537646b6"
      },
      "source": [
        "df.info()"
      ],
      "execution_count": 123,
      "outputs": [
        {
          "output_type": "stream",
          "text": [
            "<class 'pandas.core.frame.DataFrame'>\n",
            "RangeIndex: 59130 entries, 0 to 59129\n",
            "Data columns (total 12 columns):\n",
            " #   Column               Non-Null Count  Dtype  \n",
            "---  ------               --------------  -----  \n",
            " 0   Maker                59130 non-null  object \n",
            " 1   Location             59130 non-null  object \n",
            " 2   Owner Type           59130 non-null  int64  \n",
            " 3   Age of car           59130 non-null  int64  \n",
            " 4   engine_displacement  59130 non-null  int64  \n",
            " 5   engine_power         59130 non-null  float64\n",
            " 6   transmission         59130 non-null  object \n",
            " 7   door_count           59130 non-null  object \n",
            " 8   seat_count           59130 non-null  object \n",
            " 9   fuel_type            59130 non-null  object \n",
            " 10  Price                53515 non-null  float64\n",
            " 11  Distance             59130 non-null  float64\n",
            "dtypes: float64(3), int64(3), object(6)\n",
            "memory usage: 5.4+ MB\n"
          ],
          "name": "stdout"
        }
      ]
    },
    {
      "cell_type": "code",
      "metadata": {
        "id": "KtFcjbrxirem",
        "colab_type": "code",
        "colab": {
          "base_uri": "https://localhost:8080/",
          "height": 1000
        },
        "outputId": "393450de-cb59-4293-c445-1948902f3930"
      },
      "source": [
        "num = df.select_dtypes(exclude = 'O').columns\n",
        "for i in num:\n",
        "    sns.boxplot(df[i])\n",
        "    plt.show()"
      ],
      "execution_count": 124,
      "outputs": [
        {
          "output_type": "display_data",
          "data": {
            "image/png": "[encoded data removed]",
            "text/plain": [
              "<Figure size 432x288 with 1 Axes>"
            ]
          },
          "metadata": {
            "tags": [],
            "needs_background": "light"
          }
        },
        {
          "output_type": "display_data",
          "data": {
            "image/png": "[encoded data removed]",
            "text/plain": [
              "<Figure size 432x288 with 1 Axes>"
            ]
          },
          "metadata": {
            "tags": [],
            "needs_background": "light"
          }
        },
        {
          "output_type": "display_data",
          "data": {
            "image/png": "[encoded data removed]",
            "text/plain": [
              "<Figure size 432x288 with 1 Axes>"
            ]
          },
          "metadata": {
            "tags": [],
            "needs_background": "light"
          }
        },
        {
          "output_type": "display_data",
          "data": {
            "image/png": "[encoded data removed]",
            "text/plain": [
              "<Figure size 432x288 with 1 Axes>"
            ]
          },
          "metadata": {
            "tags": [],
            "needs_background": "light"
          }
        },
        {
          "output_type": "display_data",
          "data": {
            "image/png": "[encoded data removed]",
            "text/plain": [
              "<Figure size 432x288 with 1 Axes>"
            ]
          },
          "metadata": {
            "tags": [],
            "needs_background": "light"
          }
        },
        {
          "output_type": "display_data",
          "data": {
            "image/png": "[encoded data removed]",
            "text/plain": [
              "<Figure size 432x288 with 1 Axes>"
            ]
          },
          "metadata": {
            "tags": [],
            "needs_background": "light"
          }
        }
      ]
    },
    {
      "cell_type": "code",
      "metadata": {
        "id": "X__l6C_NjVOd",
        "colab_type": "code",
        "colab": {}
      },
      "source": [
        "df.columns = ['maker', 'location', 'owner_type', 'age', 'engine_displacement',\n",
        "       'engine_power', 'transmission', 'door_count', 'seat_count', 'fuel_type',\n",
        "       'price', 'distance']"
      ],
      "execution_count": 127,
      "outputs": []
    },
    {
      "cell_type": "code",
      "metadata": {
        "id": "TMBJF7UikodR",
        "colab_type": "code",
        "colab": {
          "base_uri": "https://localhost:8080/",
          "height": 204
        },
        "outputId": "c2b0d4a3-1038-4358-8f9a-36856414ebf3"
      },
      "source": [
        "df.head()"
      ],
      "execution_count": 128,
      "outputs": [
        {
          "output_type": "execute_result",
          "data": {
            "text/html": [
              "<div>\n",
              "<style scoped>\n",
              "    .dataframe tbody tr th:only-of-type {\n",
              "        vertical-align: middle;\n",
              "    }\n",
              "\n",
              "    .dataframe tbody tr th {\n",
              "        vertical-align: top;\n",
              "    }\n",
              "\n",
              "    .dataframe thead th {\n",
              "        text-align: right;\n",
              "    }\n",
              "</style>\n",
              "<table border=\"1\" class=\"dataframe\">\n",
              "  <thead>\n",
              "    <tr style=\"text-align: right;\">\n",
              "      <th></th>\n",
              "      <th>maker</th>\n",
              "      <th>location</th>\n",
              "      <th>owner_type</th>\n",
              "      <th>age</th>\n",
              "      <th>engine_displacement</th>\n",
              "      <th>engine_power</th>\n",
              "      <th>transmission</th>\n",
              "      <th>door_count</th>\n",
              "      <th>seat_count</th>\n",
              "      <th>fuel_type</th>\n",
              "      <th>price</th>\n",
              "      <th>distance</th>\n",
              "    </tr>\n",
              "  </thead>\n",
              "  <tbody>\n",
              "    <tr>\n",
              "      <th>0</th>\n",
              "      <td>skoda</td>\n",
              "      <td>Ahmedabad</td>\n",
              "      <td>2</td>\n",
              "      <td>55</td>\n",
              "      <td>1964</td>\n",
              "      <td>147.0</td>\n",
              "      <td>man</td>\n",
              "      <td>&lt;4</td>\n",
              "      <td>&lt;5</td>\n",
              "      <td>petrol</td>\n",
              "      <td>543764.25</td>\n",
              "      <td>65300.0</td>\n",
              "    </tr>\n",
              "    <tr>\n",
              "      <th>1</th>\n",
              "      <td>fiat</td>\n",
              "      <td>Ahmedabad</td>\n",
              "      <td>3</td>\n",
              "      <td>7</td>\n",
              "      <td>1242</td>\n",
              "      <td>51.0</td>\n",
              "      <td>man</td>\n",
              "      <td>4</td>\n",
              "      <td>&lt;5</td>\n",
              "      <td>petrol</td>\n",
              "      <td>401819.25</td>\n",
              "      <td>27750.0</td>\n",
              "    </tr>\n",
              "    <tr>\n",
              "      <th>2</th>\n",
              "      <td>bmw</td>\n",
              "      <td>Hyderabad</td>\n",
              "      <td>3</td>\n",
              "      <td>5</td>\n",
              "      <td>1995</td>\n",
              "      <td>105.0</td>\n",
              "      <td>auto</td>\n",
              "      <td>4</td>\n",
              "      <td>5</td>\n",
              "      <td>diesel</td>\n",
              "      <td>2392855.50</td>\n",
              "      <td>46000.0</td>\n",
              "    </tr>\n",
              "    <tr>\n",
              "      <th>3</th>\n",
              "      <td>nissan</td>\n",
              "      <td>Mumbai</td>\n",
              "      <td>3</td>\n",
              "      <td>8</td>\n",
              "      <td>1618</td>\n",
              "      <td>140.0</td>\n",
              "      <td>man</td>\n",
              "      <td>4</td>\n",
              "      <td>5</td>\n",
              "      <td>petrol</td>\n",
              "      <td>958606.50</td>\n",
              "      <td>43949.0</td>\n",
              "    </tr>\n",
              "    <tr>\n",
              "      <th>4</th>\n",
              "      <td>bmw</td>\n",
              "      <td>Jaipur</td>\n",
              "      <td>4</td>\n",
              "      <td>7</td>\n",
              "      <td>2993</td>\n",
              "      <td>180.0</td>\n",
              "      <td>auto</td>\n",
              "      <td>4</td>\n",
              "      <td>5</td>\n",
              "      <td>diesel</td>\n",
              "      <td>3085561.50</td>\n",
              "      <td>59524.0</td>\n",
              "    </tr>\n",
              "  </tbody>\n",
              "</table>\n",
              "</div>"
            ],
            "text/plain": [
              "    maker   location  owner_type  ...  fuel_type       price  distance\n",
              "0   skoda  Ahmedabad           2  ...     petrol   543764.25   65300.0\n",
              "1    fiat  Ahmedabad           3  ...     petrol   401819.25   27750.0\n",
              "2     bmw  Hyderabad           3  ...     diesel  2392855.50   46000.0\n",
              "3  nissan     Mumbai           3  ...     petrol   958606.50   43949.0\n",
              "4     bmw     Jaipur           4  ...     diesel  3085561.50   59524.0\n",
              "\n",
              "[5 rows x 12 columns]"
            ]
          },
          "metadata": {
            "tags": []
          },
          "execution_count": 128
        }
      ]
    },
    {
      "cell_type": "code",
      "metadata": {
        "id": "tKdyc9zUk1eo",
        "colab_type": "code",
        "colab": {
          "base_uri": "https://localhost:8080/",
          "height": 34
        },
        "outputId": "d850c505-8f31-4de2-eb64-0f6c3d1a7c9b"
      },
      "source": [
        "X = pd.get_dummies(df.drop('price', 1), drop_first = True)\n",
        "y = df['price']\n",
        "X_train = X[:53515]\n",
        "y_train = y[:53515]\n",
        "X_test = X[53515:]\n",
        "y_test = y[53515:]\n",
        "X_train.shape, y_train.shape, X_test.shape, y_test.shape"
      ],
      "execution_count": 147,
      "outputs": [
        {
          "output_type": "execute_result",
          "data": {
            "text/plain": [
              "((53515, 28), (53515,), (5615, 28), (5615,))"
            ]
          },
          "metadata": {
            "tags": []
          },
          "execution_count": 147
        }
      ]
    },
    {
      "cell_type": "code",
      "metadata": {
        "id": "7BCZUF69li78",
        "colab_type": "code",
        "colab": {
          "base_uri": "https://localhost:8080/",
          "height": 34
        },
        "outputId": "df1cf88a-e018-4e6e-ed2a-d7a60963f52e"
      },
      "source": [
        "y_test.isna().sum()"
      ],
      "execution_count": 148,
      "outputs": [
        {
          "output_type": "execute_result",
          "data": {
            "text/plain": [
              "5615"
            ]
          },
          "metadata": {
            "tags": []
          },
          "execution_count": 148
        }
      ]
    },
    {
      "cell_type": "code",
      "metadata": {
        "id": "IdYyLxPTlnLg",
        "colab_type": "code",
        "colab": {
          "base_uri": "https://localhost:8080/",
          "height": 510
        },
        "outputId": "e2b91675-e0b3-4fd7-9cda-4d59d8ab39af"
      },
      "source": [
        "X_test.isna().sum()"
      ],
      "execution_count": 149,
      "outputs": [
        {
          "output_type": "execute_result",
          "data": {
            "text/plain": [
              "owner_type             0\n",
              "age                    0\n",
              "engine_displacement    0\n",
              "engine_power           0\n",
              "distance               0\n",
              "maker_bmw              0\n",
              "maker_fiat             0\n",
              "maker_hyundai          0\n",
              "maker_maserati         0\n",
              "maker_nissan           0\n",
              "maker_skoda            0\n",
              "maker_toyota           0\n",
              "location_Bangalore     0\n",
              "location_Chennai       0\n",
              "location_Coimbatore    0\n",
              "location_Delhi         0\n",
              "location_Hyderabad     0\n",
              "location_Jaipur        0\n",
              "location_Kochi         0\n",
              "location_Kolkata       0\n",
              "location_Mumbai        0\n",
              "location_Pune          0\n",
              "transmission_man       0\n",
              "door_count_<4          0\n",
              "door_count_>4          0\n",
              "seat_count_<5          0\n",
              "seat_count_>5          0\n",
              "fuel_type_petrol       0\n",
              "dtype: int64"
            ]
          },
          "metadata": {
            "tags": []
          },
          "execution_count": 149
        }
      ]
    },
    {
      "cell_type": "code",
      "metadata": {
        "id": "AduuChmZlrUO",
        "colab_type": "code",
        "colab": {
          "base_uri": "https://localhost:8080/",
          "height": 34
        },
        "outputId": "7a19a0d8-0702-42c2-d3bd-46b69cfe37ee"
      },
      "source": [
        "y_train.isna().sum()"
      ],
      "execution_count": 150,
      "outputs": [
        {
          "output_type": "execute_result",
          "data": {
            "text/plain": [
              "0"
            ]
          },
          "metadata": {
            "tags": []
          },
          "execution_count": 150
        }
      ]
    },
    {
      "cell_type": "code",
      "metadata": {
        "id": "wRuOWWzAlvPS",
        "colab_type": "code",
        "colab": {
          "base_uri": "https://localhost:8080/",
          "height": 510
        },
        "outputId": "06607960-2dcd-4dfa-f3bf-be007b3542e7"
      },
      "source": [
        "X_train.isna().sum()"
      ],
      "execution_count": 151,
      "outputs": [
        {
          "output_type": "execute_result",
          "data": {
            "text/plain": [
              "owner_type             0\n",
              "age                    0\n",
              "engine_displacement    0\n",
              "engine_power           0\n",
              "distance               0\n",
              "maker_bmw              0\n",
              "maker_fiat             0\n",
              "maker_hyundai          0\n",
              "maker_maserati         0\n",
              "maker_nissan           0\n",
              "maker_skoda            0\n",
              "maker_toyota           0\n",
              "location_Bangalore     0\n",
              "location_Chennai       0\n",
              "location_Coimbatore    0\n",
              "location_Delhi         0\n",
              "location_Hyderabad     0\n",
              "location_Jaipur        0\n",
              "location_Kochi         0\n",
              "location_Kolkata       0\n",
              "location_Mumbai        0\n",
              "location_Pune          0\n",
              "transmission_man       0\n",
              "door_count_<4          0\n",
              "door_count_>4          0\n",
              "seat_count_<5          0\n",
              "seat_count_>5          0\n",
              "fuel_type_petrol       0\n",
              "dtype: int64"
            ]
          },
          "metadata": {
            "tags": []
          },
          "execution_count": 151
        }
      ]
    },
    {
      "cell_type": "code",
      "metadata": {
        "id": "Fh57Qo7Sly0B",
        "colab_type": "code",
        "colab": {}
      },
      "source": [
        "num = ['age', 'engine_displacement',\n",
        "       'engine_power', 'distance']"
      ],
      "execution_count": 152,
      "outputs": []
    },
    {
      "cell_type": "code",
      "metadata": {
        "id": "4dcljhvum-W_",
        "colab_type": "code",
        "colab": {
          "base_uri": "https://localhost:8080/",
          "height": 85
        },
        "outputId": "15b6cb2d-b6b5-40e1-e241-26dd4d90893a"
      },
      "source": [
        "for i in num:\n",
        "    print(X_train[i].skew(), X_test[i].skew())"
      ],
      "execution_count": 153,
      "outputs": [
        {
          "output_type": "stream",
          "text": [
            "1.9125557321371436 2.151668535955962\n",
            "12.730459629497304 13.087955583034667\n",
            "1.7912304691708218 2.719814064126615\n",
            "23.6028344559942 21.340080923951337\n"
          ],
          "name": "stdout"
        }
      ]
    },
    {
      "cell_type": "code",
      "metadata": {
        "id": "Gl6CRiDCmFVi",
        "colab_type": "code",
        "colab": {}
      },
      "source": [
        "from sklearn.preprocessing import PowerTransformer"
      ],
      "execution_count": 154,
      "outputs": []
    },
    {
      "cell_type": "code",
      "metadata": {
        "id": "AL7iFLnkmMpr",
        "colab_type": "code",
        "colab": {
          "base_uri": "https://localhost:8080/",
          "height": 493
        },
        "outputId": "431845a2-8334-4a90-95dc-de3ddaa45083"
      },
      "source": [
        "pt = PowerTransformer()\n",
        "X_train[num] = pt.fit_transform(X_train[num])\n",
        "X_test[num] = pt.transform(X_test[num])\n",
        "for i in num:\n",
        "    print(X_train[i].skew(), X_test[i].skew())"
      ],
      "execution_count": 155,
      "outputs": [
        {
          "output_type": "stream",
          "text": [
            "0.06116264135204408 0.11668922757025084\n",
            "-0.5373946116887601 0.19327299999902287\n",
            "0.0371132119835988 0.08618424627234243\n",
            "-0.18013216696249706 -0.0767746475452153\n"
          ],
          "name": "stdout"
        },
        {
          "output_type": "stream",
          "text": [
            "/usr/local/lib/python3.6/dist-packages/ipykernel_launcher.py:2: SettingWithCopyWarning: \n",
            "A value is trying to be set on a copy of a slice from a DataFrame.\n",
            "Try using .loc[row_indexer,col_indexer] = value instead\n",
            "\n",
            "See the caveats in the documentation: https://pandas.pydata.org/pandas-docs/stable/user_guide/indexing.html#returning-a-view-versus-a-copy\n",
            "  \n",
            "/usr/local/lib/python3.6/dist-packages/pandas/core/indexing.py:966: SettingWithCopyWarning: \n",
            "A value is trying to be set on a copy of a slice from a DataFrame.\n",
            "Try using .loc[row_indexer,col_indexer] = value instead\n",
            "\n",
            "See the caveats in the documentation: https://pandas.pydata.org/pandas-docs/stable/user_guide/indexing.html#returning-a-view-versus-a-copy\n",
            "  self.obj[item] = s\n",
            "/usr/local/lib/python3.6/dist-packages/ipykernel_launcher.py:3: SettingWithCopyWarning: \n",
            "A value is trying to be set on a copy of a slice from a DataFrame.\n",
            "Try using .loc[row_indexer,col_indexer] = value instead\n",
            "\n",
            "See the caveats in the documentation: https://pandas.pydata.org/pandas-docs/stable/user_guide/indexing.html#returning-a-view-versus-a-copy\n",
            "  This is separate from the ipykernel package so we can avoid doing imports until\n",
            "/usr/local/lib/python3.6/dist-packages/pandas/core/indexing.py:966: SettingWithCopyWarning: \n",
            "A value is trying to be set on a copy of a slice from a DataFrame.\n",
            "Try using .loc[row_indexer,col_indexer] = value instead\n",
            "\n",
            "See the caveats in the documentation: https://pandas.pydata.org/pandas-docs/stable/user_guide/indexing.html#returning-a-view-versus-a-copy\n",
            "  self.obj[item] = s\n"
          ],
          "name": "stderr"
        }
      ]
    },
    {
      "cell_type": "code",
      "metadata": {
        "id": "em2KlmvunIKc",
        "colab_type": "code",
        "colab": {
          "base_uri": "https://localhost:8080/",
          "height": 34
        },
        "outputId": "96b66cef-8dc0-4466-f686-96e563f77f88"
      },
      "source": [
        "y_train.skew()"
      ],
      "execution_count": 156,
      "outputs": [
        {
          "output_type": "execute_result",
          "data": {
            "text/plain": [
              "2.179996513287749"
            ]
          },
          "metadata": {
            "tags": []
          },
          "execution_count": 156
        }
      ]
    },
    {
      "cell_type": "code",
      "metadata": {
        "id": "ZRccjdxWn60W",
        "colab_type": "code",
        "colab": {
          "base_uri": "https://localhost:8080/",
          "height": 34
        },
        "outputId": "8ba9675a-e0f8-4066-d86b-26f817fa8742"
      },
      "source": [
        "y_train_4 = (y_train ** (1/4))\n",
        "y_train_4.skew()"
      ],
      "execution_count": 157,
      "outputs": [
        {
          "output_type": "execute_result",
          "data": {
            "text/plain": [
              "0.02320930313447336"
            ]
          },
          "metadata": {
            "tags": []
          },
          "execution_count": 157
        }
      ]
    },
    {
      "cell_type": "code",
      "metadata": {
        "id": "ZeKiCOErn-3B",
        "colab_type": "code",
        "colab": {
          "base_uri": "https://localhost:8080/",
          "height": 224
        },
        "outputId": "7dc0f57f-4720-4ff3-b169-54d4aaab5bf4"
      },
      "source": [
        "from sklearn.preprocessing import StandardScaler\n",
        "ss = StandardScaler()\n",
        "X_train_scaled = pd.DataFrame(ss.fit_transform(X_train), columns = X_train.columns)\n",
        "X_test_scaled = pd.DataFrame(ss.transform(X_test), columns = X_test.columns)\n",
        "X_train_scaled.head()"
      ],
      "execution_count": 158,
      "outputs": [
        {
          "output_type": "execute_result",
          "data": {
            "text/html": [
              "<div>\n",
              "<style scoped>\n",
              "    .dataframe tbody tr th:only-of-type {\n",
              "        vertical-align: middle;\n",
              "    }\n",
              "\n",
              "    .dataframe tbody tr th {\n",
              "        vertical-align: top;\n",
              "    }\n",
              "\n",
              "    .dataframe thead th {\n",
              "        text-align: right;\n",
              "    }\n",
              "</style>\n",
              "<table border=\"1\" class=\"dataframe\">\n",
              "  <thead>\n",
              "    <tr style=\"text-align: right;\">\n",
              "      <th></th>\n",
              "      <th>owner_type</th>\n",
              "      <th>age</th>\n",
              "      <th>engine_displacement</th>\n",
              "      <th>engine_power</th>\n",
              "      <th>distance</th>\n",
              "      <th>maker_bmw</th>\n",
              "      <th>maker_fiat</th>\n",
              "      <th>maker_hyundai</th>\n",
              "      <th>maker_maserati</th>\n",
              "      <th>maker_nissan</th>\n",
              "      <th>maker_skoda</th>\n",
              "      <th>maker_toyota</th>\n",
              "      <th>location_Bangalore</th>\n",
              "      <th>location_Chennai</th>\n",
              "      <th>location_Coimbatore</th>\n",
              "      <th>location_Delhi</th>\n",
              "      <th>location_Hyderabad</th>\n",
              "      <th>location_Jaipur</th>\n",
              "      <th>location_Kochi</th>\n",
              "      <th>location_Kolkata</th>\n",
              "      <th>location_Mumbai</th>\n",
              "      <th>location_Pune</th>\n",
              "      <th>transmission_man</th>\n",
              "      <th>door_count_&lt;4</th>\n",
              "      <th>door_count_&gt;4</th>\n",
              "      <th>seat_count_&lt;5</th>\n",
              "      <th>seat_count_&gt;5</th>\n",
              "      <th>fuel_type_petrol</th>\n",
              "    </tr>\n",
              "  </thead>\n",
              "  <tbody>\n",
              "    <tr>\n",
              "      <th>0</th>\n",
              "      <td>-0.446052</td>\n",
              "      <td>3.118585</td>\n",
              "      <td>0.393766</td>\n",
              "      <td>1.114821</td>\n",
              "      <td>0.217529</td>\n",
              "      <td>-0.393584</td>\n",
              "      <td>-0.188964</td>\n",
              "      <td>-0.209012</td>\n",
              "      <td>-0.026657</td>\n",
              "      <td>-0.337934</td>\n",
              "      <td>1.217291</td>\n",
              "      <td>-0.414304</td>\n",
              "      <td>-0.316692</td>\n",
              "      <td>-0.315118</td>\n",
              "      <td>-0.32018</td>\n",
              "      <td>-0.31476</td>\n",
              "      <td>-0.314042</td>\n",
              "      <td>-0.316406</td>\n",
              "      <td>-0.319932</td>\n",
              "      <td>-0.316335</td>\n",
              "      <td>-0.316049</td>\n",
              "      <td>-0.316121</td>\n",
              "      <td>0.675888</td>\n",
              "      <td>1.853129</td>\n",
              "      <td>-0.40803</td>\n",
              "      <td>1.695361</td>\n",
              "      <td>-0.129152</td>\n",
              "      <td>1.030417</td>\n",
              "    </tr>\n",
              "    <tr>\n",
              "      <th>1</th>\n",
              "      <td>0.448409</td>\n",
              "      <td>-0.101184</td>\n",
              "      <td>-0.989274</td>\n",
              "      <td>-1.332384</td>\n",
              "      <td>-0.279840</td>\n",
              "      <td>-0.393584</td>\n",
              "      <td>5.292015</td>\n",
              "      <td>-0.209012</td>\n",
              "      <td>-0.026657</td>\n",
              "      <td>-0.337934</td>\n",
              "      <td>-0.821496</td>\n",
              "      <td>-0.414304</td>\n",
              "      <td>-0.316692</td>\n",
              "      <td>-0.315118</td>\n",
              "      <td>-0.32018</td>\n",
              "      <td>-0.31476</td>\n",
              "      <td>-0.314042</td>\n",
              "      <td>-0.316406</td>\n",
              "      <td>-0.319932</td>\n",
              "      <td>-0.316335</td>\n",
              "      <td>-0.316049</td>\n",
              "      <td>-0.316121</td>\n",
              "      <td>0.675888</td>\n",
              "      <td>-0.539628</td>\n",
              "      <td>-0.40803</td>\n",
              "      <td>1.695361</td>\n",
              "      <td>-0.129152</td>\n",
              "      <td>1.030417</td>\n",
              "    </tr>\n",
              "    <tr>\n",
              "      <th>2</th>\n",
              "      <td>0.448409</td>\n",
              "      <td>-0.827254</td>\n",
              "      <td>0.437810</td>\n",
              "      <td>0.284840</td>\n",
              "      <td>-0.000941</td>\n",
              "      <td>2.540752</td>\n",
              "      <td>-0.188964</td>\n",
              "      <td>-0.209012</td>\n",
              "      <td>-0.026657</td>\n",
              "      <td>-0.337934</td>\n",
              "      <td>-0.821496</td>\n",
              "      <td>-0.414304</td>\n",
              "      <td>-0.316692</td>\n",
              "      <td>-0.315118</td>\n",
              "      <td>-0.32018</td>\n",
              "      <td>-0.31476</td>\n",
              "      <td>3.184286</td>\n",
              "      <td>-0.316406</td>\n",
              "      <td>-0.319932</td>\n",
              "      <td>-0.316335</td>\n",
              "      <td>-0.316049</td>\n",
              "      <td>-0.316121</td>\n",
              "      <td>-1.479535</td>\n",
              "      <td>-0.539628</td>\n",
              "      <td>-0.40803</td>\n",
              "      <td>-0.589845</td>\n",
              "      <td>-0.129152</td>\n",
              "      <td>-0.970481</td>\n",
              "    </tr>\n",
              "    <tr>\n",
              "      <th>3</th>\n",
              "      <td>0.448409</td>\n",
              "      <td>0.172800</td>\n",
              "      <td>-0.168405</td>\n",
              "      <td>0.991314</td>\n",
              "      <td>-0.027803</td>\n",
              "      <td>-0.393584</td>\n",
              "      <td>-0.188964</td>\n",
              "      <td>-0.209012</td>\n",
              "      <td>-0.026657</td>\n",
              "      <td>2.959157</td>\n",
              "      <td>-0.821496</td>\n",
              "      <td>-0.414304</td>\n",
              "      <td>-0.316692</td>\n",
              "      <td>-0.315118</td>\n",
              "      <td>-0.32018</td>\n",
              "      <td>-0.31476</td>\n",
              "      <td>-0.314042</td>\n",
              "      <td>-0.316406</td>\n",
              "      <td>-0.319932</td>\n",
              "      <td>-0.316335</td>\n",
              "      <td>3.164067</td>\n",
              "      <td>-0.316121</td>\n",
              "      <td>0.675888</td>\n",
              "      <td>-0.539628</td>\n",
              "      <td>-0.40803</td>\n",
              "      <td>-0.589845</td>\n",
              "      <td>-0.129152</td>\n",
              "      <td>1.030417</td>\n",
              "    </tr>\n",
              "    <tr>\n",
              "      <th>4</th>\n",
              "      <td>1.342870</td>\n",
              "      <td>-0.101184</td>\n",
              "      <td>1.510520</td>\n",
              "      <td>1.639240</td>\n",
              "      <td>0.157628</td>\n",
              "      <td>2.540752</td>\n",
              "      <td>-0.188964</td>\n",
              "      <td>-0.209012</td>\n",
              "      <td>-0.026657</td>\n",
              "      <td>-0.337934</td>\n",
              "      <td>-0.821496</td>\n",
              "      <td>-0.414304</td>\n",
              "      <td>-0.316692</td>\n",
              "      <td>-0.315118</td>\n",
              "      <td>-0.32018</td>\n",
              "      <td>-0.31476</td>\n",
              "      <td>-0.314042</td>\n",
              "      <td>3.160491</td>\n",
              "      <td>-0.319932</td>\n",
              "      <td>-0.316335</td>\n",
              "      <td>-0.316049</td>\n",
              "      <td>-0.316121</td>\n",
              "      <td>-1.479535</td>\n",
              "      <td>-0.539628</td>\n",
              "      <td>-0.40803</td>\n",
              "      <td>-0.589845</td>\n",
              "      <td>-0.129152</td>\n",
              "      <td>-0.970481</td>\n",
              "    </tr>\n",
              "  </tbody>\n",
              "</table>\n",
              "</div>"
            ],
            "text/plain": [
              "   owner_type       age  ...  seat_count_>5  fuel_type_petrol\n",
              "0   -0.446052  3.118585  ...      -0.129152          1.030417\n",
              "1    0.448409 -0.101184  ...      -0.129152          1.030417\n",
              "2    0.448409 -0.827254  ...      -0.129152         -0.970481\n",
              "3    0.448409  0.172800  ...      -0.129152          1.030417\n",
              "4    1.342870 -0.101184  ...      -0.129152         -0.970481\n",
              "\n",
              "[5 rows x 28 columns]"
            ]
          },
          "metadata": {
            "tags": []
          },
          "execution_count": 158
        }
      ]
    },
    {
      "cell_type": "code",
      "metadata": {
        "id": "CnntjU3HqqBk",
        "colab_type": "code",
        "colab": {
          "base_uri": "https://localhost:8080/",
          "height": 224
        },
        "outputId": "e03c67ea-a2ae-443b-88c3-db4f4e968c43"
      },
      "source": [
        "X_test_scaled.head()"
      ],
      "execution_count": 159,
      "outputs": [
        {
          "output_type": "execute_result",
          "data": {
            "text/html": [
              "<div>\n",
              "<style scoped>\n",
              "    .dataframe tbody tr th:only-of-type {\n",
              "        vertical-align: middle;\n",
              "    }\n",
              "\n",
              "    .dataframe tbody tr th {\n",
              "        vertical-align: top;\n",
              "    }\n",
              "\n",
              "    .dataframe thead th {\n",
              "        text-align: right;\n",
              "    }\n",
              "</style>\n",
              "<table border=\"1\" class=\"dataframe\">\n",
              "  <thead>\n",
              "    <tr style=\"text-align: right;\">\n",
              "      <th></th>\n",
              "      <th>owner_type</th>\n",
              "      <th>age</th>\n",
              "      <th>engine_displacement</th>\n",
              "      <th>engine_power</th>\n",
              "      <th>distance</th>\n",
              "      <th>maker_bmw</th>\n",
              "      <th>maker_fiat</th>\n",
              "      <th>maker_hyundai</th>\n",
              "      <th>maker_maserati</th>\n",
              "      <th>maker_nissan</th>\n",
              "      <th>maker_skoda</th>\n",
              "      <th>maker_toyota</th>\n",
              "      <th>location_Bangalore</th>\n",
              "      <th>location_Chennai</th>\n",
              "      <th>location_Coimbatore</th>\n",
              "      <th>location_Delhi</th>\n",
              "      <th>location_Hyderabad</th>\n",
              "      <th>location_Jaipur</th>\n",
              "      <th>location_Kochi</th>\n",
              "      <th>location_Kolkata</th>\n",
              "      <th>location_Mumbai</th>\n",
              "      <th>location_Pune</th>\n",
              "      <th>transmission_man</th>\n",
              "      <th>door_count_&lt;4</th>\n",
              "      <th>door_count_&gt;4</th>\n",
              "      <th>seat_count_&lt;5</th>\n",
              "      <th>seat_count_&gt;5</th>\n",
              "      <th>fuel_type_petrol</th>\n",
              "    </tr>\n",
              "  </thead>\n",
              "  <tbody>\n",
              "    <tr>\n",
              "      <th>0</th>\n",
              "      <td>-1.340514</td>\n",
              "      <td>0.949656</td>\n",
              "      <td>-0.211225</td>\n",
              "      <td>-0.495714</td>\n",
              "      <td>0.833076</td>\n",
              "      <td>-0.393584</td>\n",
              "      <td>-0.188964</td>\n",
              "      <td>-0.209012</td>\n",
              "      <td>-0.026657</td>\n",
              "      <td>-0.337934</td>\n",
              "      <td>1.217291</td>\n",
              "      <td>-0.414304</td>\n",
              "      <td>-0.316692</td>\n",
              "      <td>-0.315118</td>\n",
              "      <td>-0.320180</td>\n",
              "      <td>-0.314760</td>\n",
              "      <td>-0.314042</td>\n",
              "      <td>-0.316406</td>\n",
              "      <td>-0.319932</td>\n",
              "      <td>-0.316335</td>\n",
              "      <td>3.164067</td>\n",
              "      <td>-0.316121</td>\n",
              "      <td>0.675888</td>\n",
              "      <td>-0.539628</td>\n",
              "      <td>-0.408030</td>\n",
              "      <td>-0.589845</td>\n",
              "      <td>-0.129152</td>\n",
              "      <td>1.030417</td>\n",
              "    </tr>\n",
              "    <tr>\n",
              "      <th>1</th>\n",
              "      <td>0.448409</td>\n",
              "      <td>-0.827254</td>\n",
              "      <td>-0.205594</td>\n",
              "      <td>-0.436393</td>\n",
              "      <td>-0.250400</td>\n",
              "      <td>-0.393584</td>\n",
              "      <td>-0.188964</td>\n",
              "      <td>-0.209012</td>\n",
              "      <td>-0.026657</td>\n",
              "      <td>-0.337934</td>\n",
              "      <td>1.217291</td>\n",
              "      <td>-0.414304</td>\n",
              "      <td>-0.316692</td>\n",
              "      <td>-0.315118</td>\n",
              "      <td>3.123239</td>\n",
              "      <td>-0.314760</td>\n",
              "      <td>-0.314042</td>\n",
              "      <td>-0.316406</td>\n",
              "      <td>-0.319932</td>\n",
              "      <td>-0.316335</td>\n",
              "      <td>-0.316049</td>\n",
              "      <td>-0.316121</td>\n",
              "      <td>0.675888</td>\n",
              "      <td>-0.539628</td>\n",
              "      <td>-0.408030</td>\n",
              "      <td>-0.589845</td>\n",
              "      <td>-0.129152</td>\n",
              "      <td>-0.970481</td>\n",
              "    </tr>\n",
              "    <tr>\n",
              "      <th>2</th>\n",
              "      <td>-0.446052</td>\n",
              "      <td>-0.827254</td>\n",
              "      <td>0.399500</td>\n",
              "      <td>0.396594</td>\n",
              "      <td>-0.229634</td>\n",
              "      <td>-0.393584</td>\n",
              "      <td>-0.188964</td>\n",
              "      <td>-0.209012</td>\n",
              "      <td>-0.026657</td>\n",
              "      <td>-0.337934</td>\n",
              "      <td>1.217291</td>\n",
              "      <td>-0.414304</td>\n",
              "      <td>-0.316692</td>\n",
              "      <td>-0.315118</td>\n",
              "      <td>3.123239</td>\n",
              "      <td>-0.314760</td>\n",
              "      <td>-0.314042</td>\n",
              "      <td>-0.316406</td>\n",
              "      <td>-0.319932</td>\n",
              "      <td>-0.316335</td>\n",
              "      <td>-0.316049</td>\n",
              "      <td>-0.316121</td>\n",
              "      <td>0.675888</td>\n",
              "      <td>-0.539628</td>\n",
              "      <td>2.450799</td>\n",
              "      <td>-0.589845</td>\n",
              "      <td>-0.129152</td>\n",
              "      <td>-0.970481</td>\n",
              "    </tr>\n",
              "    <tr>\n",
              "      <th>3</th>\n",
              "      <td>1.342870</td>\n",
              "      <td>-1.332602</td>\n",
              "      <td>0.399500</td>\n",
              "      <td>0.396594</td>\n",
              "      <td>-0.787972</td>\n",
              "      <td>-0.393584</td>\n",
              "      <td>-0.188964</td>\n",
              "      <td>-0.209012</td>\n",
              "      <td>-0.026657</td>\n",
              "      <td>-0.337934</td>\n",
              "      <td>-0.821496</td>\n",
              "      <td>-0.414304</td>\n",
              "      <td>-0.316692</td>\n",
              "      <td>-0.315118</td>\n",
              "      <td>-0.320180</td>\n",
              "      <td>3.177025</td>\n",
              "      <td>-0.314042</td>\n",
              "      <td>-0.316406</td>\n",
              "      <td>-0.319932</td>\n",
              "      <td>-0.316335</td>\n",
              "      <td>-0.316049</td>\n",
              "      <td>-0.316121</td>\n",
              "      <td>-1.479535</td>\n",
              "      <td>-0.539628</td>\n",
              "      <td>-0.408030</td>\n",
              "      <td>-0.589845</td>\n",
              "      <td>-0.129152</td>\n",
              "      <td>-0.970481</td>\n",
              "    </tr>\n",
              "    <tr>\n",
              "      <th>4</th>\n",
              "      <td>0.448409</td>\n",
              "      <td>-1.332602</td>\n",
              "      <td>0.422284</td>\n",
              "      <td>1.473907</td>\n",
              "      <td>-0.893924</td>\n",
              "      <td>-0.393584</td>\n",
              "      <td>-0.188964</td>\n",
              "      <td>-0.209012</td>\n",
              "      <td>-0.026657</td>\n",
              "      <td>-0.337934</td>\n",
              "      <td>-0.821496</td>\n",
              "      <td>-0.414304</td>\n",
              "      <td>-0.316692</td>\n",
              "      <td>3.173412</td>\n",
              "      <td>-0.320180</td>\n",
              "      <td>-0.314760</td>\n",
              "      <td>-0.314042</td>\n",
              "      <td>-0.316406</td>\n",
              "      <td>-0.319932</td>\n",
              "      <td>-0.316335</td>\n",
              "      <td>-0.316049</td>\n",
              "      <td>-0.316121</td>\n",
              "      <td>-1.479535</td>\n",
              "      <td>1.853129</td>\n",
              "      <td>-0.408030</td>\n",
              "      <td>1.695361</td>\n",
              "      <td>-0.129152</td>\n",
              "      <td>1.030417</td>\n",
              "    </tr>\n",
              "  </tbody>\n",
              "</table>\n",
              "</div>"
            ],
            "text/plain": [
              "   owner_type       age  ...  seat_count_>5  fuel_type_petrol\n",
              "0   -1.340514  0.949656  ...      -0.129152          1.030417\n",
              "1    0.448409 -0.827254  ...      -0.129152         -0.970481\n",
              "2   -0.446052 -0.827254  ...      -0.129152         -0.970481\n",
              "3    1.342870 -1.332602  ...      -0.129152         -0.970481\n",
              "4    0.448409 -1.332602  ...      -0.129152          1.030417\n",
              "\n",
              "[5 rows x 28 columns]"
            ]
          },
          "metadata": {
            "tags": []
          },
          "execution_count": 159
        }
      ]
    },
    {
      "cell_type": "code",
      "metadata": {
        "id": "2d_vH3d4rXsd",
        "colab_type": "code",
        "colab": {
          "base_uri": "https://localhost:8080/",
          "height": 612
        },
        "outputId": "f9b938a5-149d-4ef5-9de6-9d5cb3523047"
      },
      "source": [
        "X_train_scaled.info()"
      ],
      "execution_count": 160,
      "outputs": [
        {
          "output_type": "stream",
          "text": [
            "<class 'pandas.core.frame.DataFrame'>\n",
            "RangeIndex: 53515 entries, 0 to 53514\n",
            "Data columns (total 28 columns):\n",
            " #   Column               Non-Null Count  Dtype  \n",
            "---  ------               --------------  -----  \n",
            " 0   owner_type           53515 non-null  float64\n",
            " 1   age                  53515 non-null  float64\n",
            " 2   engine_displacement  53515 non-null  float64\n",
            " 3   engine_power         53515 non-null  float64\n",
            " 4   distance             53515 non-null  float64\n",
            " 5   maker_bmw            53515 non-null  float64\n",
            " 6   maker_fiat           53515 non-null  float64\n",
            " 7   maker_hyundai        53515 non-null  float64\n",
            " 8   maker_maserati       53515 non-null  float64\n",
            " 9   maker_nissan         53515 non-null  float64\n",
            " 10  maker_skoda          53515 non-null  float64\n",
            " 11  maker_toyota         53515 non-null  float64\n",
            " 12  location_Bangalore   53515 non-null  float64\n",
            " 13  location_Chennai     53515 non-null  float64\n",
            " 14  location_Coimbatore  53515 non-null  float64\n",
            " 15  location_Delhi       53515 non-null  float64\n",
            " 16  location_Hyderabad   53515 non-null  float64\n",
            " 17  location_Jaipur      53515 non-null  float64\n",
            " 18  location_Kochi       53515 non-null  float64\n",
            " 19  location_Kolkata     53515 non-null  float64\n",
            " 20  location_Mumbai      53515 non-null  float64\n",
            " 21  location_Pune        53515 non-null  float64\n",
            " 22  transmission_man     53515 non-null  float64\n",
            " 23  door_count_<4        53515 non-null  float64\n",
            " 24  door_count_>4        53515 non-null  float64\n",
            " 25  seat_count_<5        53515 non-null  float64\n",
            " 26  seat_count_>5        53515 non-null  float64\n",
            " 27  fuel_type_petrol     53515 non-null  float64\n",
            "dtypes: float64(28)\n",
            "memory usage: 11.4 MB\n"
          ],
          "name": "stdout"
        }
      ]
    },
    {
      "cell_type": "code",
      "metadata": {
        "id": "Ia1VF71srayj",
        "colab_type": "code",
        "colab": {}
      },
      "source": [
        "from sklearn.linear_model import LinearRegression\n",
        "lr = LinearRegression()\n",
        "lr.fit(X_train_scaled, y_train_4)\n",
        "y_train_pred = lr.predict(X_train_scaled)\n",
        "y_test_pred = lr.predict(X_test_scaled)"
      ],
      "execution_count": 162,
      "outputs": []
    },
    {
      "cell_type": "code",
      "metadata": {
        "id": "Pvjkm0zSr5TC",
        "colab_type": "code",
        "colab": {}
      },
      "source": [
        "from sklearn.metrics import mean_squared_error, r2_score"
      ],
      "execution_count": 163,
      "outputs": []
    },
    {
      "cell_type": "code",
      "metadata": {
        "id": "YJZ4zWCHsDvv",
        "colab_type": "code",
        "colab": {
          "base_uri": "https://localhost:8080/",
          "height": 34
        },
        "outputId": "21aaf3ca-c9e1-4b2c-b246-82656cbd8476"
      },
      "source": [
        "np.sqrt(mean_squared_error(y_train_4, y_train_pred)), r2_score(y_train_4, y_train_pred)"
      ],
      "execution_count": 166,
      "outputs": [
        {
          "output_type": "execute_result",
          "data": {
            "text/plain": [
              "(2.2335683145611327, 0.861052705193123)"
            ]
          },
          "metadata": {
            "tags": []
          },
          "execution_count": 166
        }
      ]
    },
    {
      "cell_type": "code",
      "metadata": {
        "id": "Z7Yob33HsPCR",
        "colab_type": "code",
        "colab": {
          "base_uri": "https://localhost:8080/",
          "height": 204
        },
        "outputId": "c14127b2-d3bb-4d7a-cdd5-8b1aab29672f"
      },
      "source": [
        "sub = pd.read_csv('/content/drive/My Drive/PGPDSE/Hackathon/Sample Submission-1.csv')\n",
        "sub.head()"
      ],
      "execution_count": 167,
      "outputs": [
        {
          "output_type": "execute_result",
          "data": {
            "text/html": [
              "<div>\n",
              "<style scoped>\n",
              "    .dataframe tbody tr th:only-of-type {\n",
              "        vertical-align: middle;\n",
              "    }\n",
              "\n",
              "    .dataframe tbody tr th {\n",
              "        vertical-align: top;\n",
              "    }\n",
              "\n",
              "    .dataframe thead th {\n",
              "        text-align: right;\n",
              "    }\n",
              "</style>\n",
              "<table border=\"1\" class=\"dataframe\">\n",
              "  <thead>\n",
              "    <tr style=\"text-align: right;\">\n",
              "      <th></th>\n",
              "      <th>Unique Id</th>\n",
              "      <th>Price</th>\n",
              "    </tr>\n",
              "  </thead>\n",
              "  <tbody>\n",
              "    <tr>\n",
              "      <th>0</th>\n",
              "      <td>11001</td>\n",
              "      <td>375147.00</td>\n",
              "    </tr>\n",
              "    <tr>\n",
              "      <th>1</th>\n",
              "      <td>11002</td>\n",
              "      <td>1193368.50</td>\n",
              "    </tr>\n",
              "    <tr>\n",
              "      <th>2</th>\n",
              "      <td>11003</td>\n",
              "      <td>1523871.00</td>\n",
              "    </tr>\n",
              "    <tr>\n",
              "      <th>3</th>\n",
              "      <td>11004</td>\n",
              "      <td>2180268.00</td>\n",
              "    </tr>\n",
              "    <tr>\n",
              "      <th>4</th>\n",
              "      <td>11005</td>\n",
              "      <td>2704149.75</td>\n",
              "    </tr>\n",
              "  </tbody>\n",
              "</table>\n",
              "</div>"
            ],
            "text/plain": [
              "   Unique Id       Price\n",
              "0      11001   375147.00\n",
              "1      11002  1193368.50\n",
              "2      11003  1523871.00\n",
              "3      11004  2180268.00\n",
              "4      11005  2704149.75"
            ]
          },
          "metadata": {
            "tags": []
          },
          "execution_count": 167
        }
      ]
    },
    {
      "cell_type": "code",
      "metadata": {
        "id": "8--YGmZ3smiq",
        "colab_type": "code",
        "colab": {}
      },
      "source": [
        "sub['Price'] = y_test_pred ** 4"
      ],
      "execution_count": 168,
      "outputs": []
    },
    {
      "cell_type": "code",
      "metadata": {
        "id": "uNopqFEWsuuw",
        "colab_type": "code",
        "colab": {
          "base_uri": "https://localhost:8080/",
          "height": 204
        },
        "outputId": "893c35d8-e52f-42e5-943d-e6d3a3d725de"
      },
      "source": [
        "sub.head()"
      ],
      "execution_count": 169,
      "outputs": [
        {
          "output_type": "execute_result",
          "data": {
            "text/html": [
              "<div>\n",
              "<style scoped>\n",
              "    .dataframe tbody tr th:only-of-type {\n",
              "        vertical-align: middle;\n",
              "    }\n",
              "\n",
              "    .dataframe tbody tr th {\n",
              "        vertical-align: top;\n",
              "    }\n",
              "\n",
              "    .dataframe thead th {\n",
              "        text-align: right;\n",
              "    }\n",
              "</style>\n",
              "<table border=\"1\" class=\"dataframe\">\n",
              "  <thead>\n",
              "    <tr style=\"text-align: right;\">\n",
              "      <th></th>\n",
              "      <th>Unique Id</th>\n",
              "      <th>Price</th>\n",
              "    </tr>\n",
              "  </thead>\n",
              "  <tbody>\n",
              "    <tr>\n",
              "      <th>0</th>\n",
              "      <td>11001</td>\n",
              "      <td>3.620651e+05</td>\n",
              "    </tr>\n",
              "    <tr>\n",
              "      <th>1</th>\n",
              "      <td>11002</td>\n",
              "      <td>1.087441e+06</td>\n",
              "    </tr>\n",
              "    <tr>\n",
              "      <th>2</th>\n",
              "      <td>11003</td>\n",
              "      <td>1.291002e+06</td>\n",
              "    </tr>\n",
              "    <tr>\n",
              "      <th>3</th>\n",
              "      <td>11004</td>\n",
              "      <td>2.917898e+06</td>\n",
              "    </tr>\n",
              "    <tr>\n",
              "      <th>4</th>\n",
              "      <td>11005</td>\n",
              "      <td>2.916103e+06</td>\n",
              "    </tr>\n",
              "  </tbody>\n",
              "</table>\n",
              "</div>"
            ],
            "text/plain": [
              "   Unique Id         Price\n",
              "0      11001  3.620651e+05\n",
              "1      11002  1.087441e+06\n",
              "2      11003  1.291002e+06\n",
              "3      11004  2.917898e+06\n",
              "4      11005  2.916103e+06"
            ]
          },
          "metadata": {
            "tags": []
          },
          "execution_count": 169
        }
      ]
    },
    {
      "cell_type": "code",
      "metadata": {
        "id": "5LIsurIpswMA",
        "colab_type": "code",
        "colab": {}
      },
      "source": [
        "sub.to_csv('submit_1_LR.csv', index = False)"
      ],
      "execution_count": 170,
      "outputs": []
    },
    {
      "cell_type": "code",
      "metadata": {
        "id": "wWnr5zSRtFB9",
        "colab_type": "code",
        "colab": {}
      },
      "source": [
        "from sklearn.ensemble import RandomForestRegressor\n",
        "rfr = RandomForestRegressor(random_state = 0)"
      ],
      "execution_count": 171,
      "outputs": []
    },
    {
      "cell_type": "code",
      "metadata": {
        "id": "vh-N5RAYtnsE",
        "colab_type": "code",
        "colab": {
          "base_uri": "https://localhost:8080/",
          "height": 136
        },
        "outputId": "e98e8e97-ea83-490b-b790-2b42e84de1f8"
      },
      "source": [
        "rfr.fit(X_train_scaled, y_train_4)"
      ],
      "execution_count": 172,
      "outputs": [
        {
          "output_type": "execute_result",
          "data": {
            "text/plain": [
              "array([5.20543322e-03, 4.77313251e-01, 3.86300015e-02, 3.74367461e-01,\n",
              "       4.93056220e-02, 1.21080877e-02, 6.40862847e-04, 2.49695696e-03,\n",
              "       2.05623417e-05, 2.70110457e-03, 1.05251407e-02, 1.87172299e-03,\n",
              "       9.45726667e-04, 1.19798252e-03, 1.06458201e-03, 1.04249154e-03,\n",
              "       1.00459819e-03, 9.82277337e-04, 1.12496959e-03, 9.50043322e-04,\n",
              "       1.08620045e-03, 1.10500908e-03, 3.71613124e-03, 2.31383274e-03,\n",
              "       1.44644346e-03, 1.40819051e-03, 3.07685025e-04, 5.11762915e-03])"
            ]
          },
          "metadata": {
            "tags": []
          },
          "execution_count": 172
        }
      ]
    },
    {
      "cell_type": "code",
      "metadata": {
        "id": "8NpDJ0aSuI8O",
        "colab_type": "code",
        "colab": {
          "base_uri": "https://localhost:8080/",
          "height": 493
        },
        "outputId": "10a3a97f-3d28-4655-d78c-4e52df244b1f"
      },
      "source": [
        "sorted(zip(rfr.feature_importances_, X_train_scaled.columns))"
      ],
      "execution_count": 175,
      "outputs": [
        {
          "output_type": "execute_result",
          "data": {
            "text/plain": [
              "[(2.0562341688650536e-05, 'maker_maserati'),\n",
              " (0.00030768502508982354, 'seat_count_>5'),\n",
              " (0.0006408628465846714, 'maker_fiat'),\n",
              " (0.0009457266665521728, 'location_Bangalore'),\n",
              " (0.0009500433220691359, 'location_Kolkata'),\n",
              " (0.0009822773370926033, 'location_Jaipur'),\n",
              " (0.0010045981891782267, 'location_Hyderabad'),\n",
              " (0.0010424915369259418, 'location_Delhi'),\n",
              " (0.0010645820069842787, 'location_Coimbatore'),\n",
              " (0.001086200452670932, 'location_Mumbai'),\n",
              " (0.0011050090783290682, 'location_Pune'),\n",
              " (0.0011249695947815107, 'location_Kochi'),\n",
              " (0.0011979825224705547, 'location_Chennai'),\n",
              " (0.0014081905110640118, 'seat_count_<5'),\n",
              " (0.0014464434551690944, 'door_count_>4'),\n",
              " (0.0018717229880052734, 'maker_toyota'),\n",
              " (0.0023138327428458127, 'door_count_<4'),\n",
              " (0.0024969569567138716, 'maker_hyundai'),\n",
              " (0.0027011045714090804, 'maker_nissan'),\n",
              " (0.0037161312377140374, 'transmission_man'),\n",
              " (0.005117629154602675, 'fuel_type_petrol'),\n",
              " (0.005205433216942654, 'owner_type'),\n",
              " (0.010525140712813692, 'maker_skoda'),\n",
              " (0.01210808771460419, 'maker_bmw'),\n",
              " (0.0386300015170319, 'engine_displacement'),\n",
              " (0.04930562199675636, 'distance'),\n",
              " (0.3743674608039576, 'engine_power'),\n",
              " (0.4773132514999522, 'age')]"
            ]
          },
          "metadata": {
            "tags": []
          },
          "execution_count": 175
        }
      ]
    },
    {
      "cell_type": "code",
      "metadata": {
        "id": "-ZBaIPYduUlX",
        "colab_type": "code",
        "colab": {}
      },
      "source": [
        ""
      ],
      "execution_count": null,
      "outputs": []
    }
  ]
}