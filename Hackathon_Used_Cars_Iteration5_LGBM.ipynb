{
  "nbformat": 4,
  "nbformat_minor": 0,
  "metadata": {
    "colab": {
      "name": "Hackathon_Used_Cars_Iteration5_LGBM.ipynb",
      "provenance": [],
      "collapsed_sections": []
    },
    "kernelspec": {
      "name": "python3",
      "display_name": "Python 3"
    }
  },
  "cells": [
    {
      "cell_type": "code",
      "metadata": {
        "id": "tQd2Olf-IZ-O",
        "colab_type": "code",
        "colab": {}
      },
      "source": [
        "import numpy as np\n",
        "import pandas as pd\n",
        "import matplotlib.pyplot as plt\n",
        "import seaborn as sns\n",
        "from sklearn.model_selection import RandomizedSearchCV\n",
        "from scipy.stats import randint as sp_randint\n",
        "from scipy.stats import uniform as sp_uniform\n",
        "from sklearn.ensemble import RandomForestRegressor\n",
        "from sklearn.preprocessing import PowerTransformer, LabelEncoder\n",
        "from sklearn.metrics import mean_squared_error, r2_score\n",
        "import lightgbm as lgb\n",
        "from sklearn.feature_selection import SelectFromModel"
      ],
      "execution_count": 3,
      "outputs": []
    },
    {
      "cell_type": "code",
      "metadata": {
        "id": "v2489buZIxps",
        "colab_type": "code",
        "colab": {
          "base_uri": "https://localhost:8080/",
          "height": 34
        },
        "outputId": "cd98134d-53c1-4b69-eb02-ced0bf619caa"
      },
      "source": [
        "train = pd.read_csv('/content/drive/My Drive/PGPDSE/Hackathon/Training Data Set.csv')\n",
        "train.shape"
      ],
      "execution_count": 4,
      "outputs": [
        {
          "output_type": "execute_result",
          "data": {
            "text/plain": [
              "(53515, 17)"
            ]
          },
          "metadata": {
            "tags": []
          },
          "execution_count": 4
        }
      ]
    },
    {
      "cell_type": "code",
      "metadata": {
        "id": "HciDeBJ-I32e",
        "colab_type": "code",
        "colab": {
          "base_uri": "https://localhost:8080/",
          "height": 34
        },
        "outputId": "0e6bf02c-0a58-44b4-f177-96ad34758158"
      },
      "source": [
        "test = pd.read_csv('/content/drive/My Drive/PGPDSE/Hackathon/Test Data Set.csv')\n",
        "test.shape"
      ],
      "execution_count": 5,
      "outputs": [
        {
          "output_type": "execute_result",
          "data": {
            "text/plain": [
              "(5615, 16)"
            ]
          },
          "metadata": {
            "tags": []
          },
          "execution_count": 5
        }
      ]
    },
    {
      "cell_type": "code",
      "metadata": {
        "id": "bFRgn5KnI-KB",
        "colab_type": "code",
        "colab": {
          "base_uri": "https://localhost:8080/",
          "height": 34
        },
        "outputId": "e59aa57d-3386-46c7-bf43-16091bf46a32"
      },
      "source": [
        "df = pd.concat([train, test])\n",
        "df.shape"
      ],
      "execution_count": 6,
      "outputs": [
        {
          "output_type": "execute_result",
          "data": {
            "text/plain": [
              "(59130, 17)"
            ]
          },
          "metadata": {
            "tags": []
          },
          "execution_count": 6
        }
      ]
    },
    {
      "cell_type": "code",
      "metadata": {
        "id": "esFFYToYJIHC",
        "colab_type": "code",
        "colab": {
          "base_uri": "https://localhost:8080/",
          "height": 507
        },
        "outputId": "eee3a0fe-4bbd-4dc7-a328-ac3af324cd24"
      },
      "source": [
        "df = df.reset_index(drop = True)\n",
        "df"
      ],
      "execution_count": 7,
      "outputs": [
        {
          "output_type": "execute_result",
          "data": {
            "text/html": [
              "<div>\n",
              "<style scoped>\n",
              "    .dataframe tbody tr th:only-of-type {\n",
              "        vertical-align: middle;\n",
              "    }\n",
              "\n",
              "    .dataframe tbody tr th {\n",
              "        vertical-align: top;\n",
              "    }\n",
              "\n",
              "    .dataframe thead th {\n",
              "        text-align: right;\n",
              "    }\n",
              "</style>\n",
              "<table border=\"1\" class=\"dataframe\">\n",
              "  <thead>\n",
              "    <tr style=\"text-align: right;\">\n",
              "      <th></th>\n",
              "      <th>Id</th>\n",
              "      <th>Maker</th>\n",
              "      <th>model</th>\n",
              "      <th>Location</th>\n",
              "      <th>Distance</th>\n",
              "      <th>Owner Type</th>\n",
              "      <th>manufacture_year</th>\n",
              "      <th>Age of car</th>\n",
              "      <th>engine_displacement</th>\n",
              "      <th>engine_power</th>\n",
              "      <th>body_type</th>\n",
              "      <th>Vroom Audit Rating</th>\n",
              "      <th>transmission</th>\n",
              "      <th>door_count</th>\n",
              "      <th>seat_count</th>\n",
              "      <th>fuel_type</th>\n",
              "      <th>Price</th>\n",
              "    </tr>\n",
              "  </thead>\n",
              "  <tbody>\n",
              "    <tr>\n",
              "      <th>0</th>\n",
              "      <td>25001</td>\n",
              "      <td>skoda</td>\n",
              "      <td>octavia</td>\n",
              "      <td>Ahmedabad</td>\n",
              "      <td>NaN</td>\n",
              "      <td>Second</td>\n",
              "      <td>1964</td>\n",
              "      <td>55</td>\n",
              "      <td>1964</td>\n",
              "      <td>147.0</td>\n",
              "      <td>compact</td>\n",
              "      <td>8</td>\n",
              "      <td>man</td>\n",
              "      <td>None</td>\n",
              "      <td>None</td>\n",
              "      <td>petrol</td>\n",
              "      <td>543764.25</td>\n",
              "    </tr>\n",
              "    <tr>\n",
              "      <th>1</th>\n",
              "      <td>25002</td>\n",
              "      <td>fiat</td>\n",
              "      <td>panda</td>\n",
              "      <td>Ahmedabad</td>\n",
              "      <td>27750.0</td>\n",
              "      <td>Third</td>\n",
              "      <td>2012</td>\n",
              "      <td>7</td>\n",
              "      <td>1242</td>\n",
              "      <td>51.0</td>\n",
              "      <td>NaN</td>\n",
              "      <td>6</td>\n",
              "      <td>man</td>\n",
              "      <td>4</td>\n",
              "      <td>4</td>\n",
              "      <td>petrol</td>\n",
              "      <td>401819.25</td>\n",
              "    </tr>\n",
              "    <tr>\n",
              "      <th>2</th>\n",
              "      <td>25003</td>\n",
              "      <td>bmw</td>\n",
              "      <td>x1</td>\n",
              "      <td>Hyderabad</td>\n",
              "      <td>46000.0</td>\n",
              "      <td>Third</td>\n",
              "      <td>2014</td>\n",
              "      <td>5</td>\n",
              "      <td>1995</td>\n",
              "      <td>105.0</td>\n",
              "      <td>NaN</td>\n",
              "      <td>7</td>\n",
              "      <td>auto</td>\n",
              "      <td>4</td>\n",
              "      <td>5</td>\n",
              "      <td>diesel</td>\n",
              "      <td>2392855.50</td>\n",
              "    </tr>\n",
              "    <tr>\n",
              "      <th>3</th>\n",
              "      <td>25004</td>\n",
              "      <td>nissan</td>\n",
              "      <td>juke</td>\n",
              "      <td>Mumbai</td>\n",
              "      <td>43949.0</td>\n",
              "      <td>Third</td>\n",
              "      <td>2011</td>\n",
              "      <td>8</td>\n",
              "      <td>1618</td>\n",
              "      <td>140.0</td>\n",
              "      <td>NaN</td>\n",
              "      <td>7</td>\n",
              "      <td>man</td>\n",
              "      <td>4</td>\n",
              "      <td>5</td>\n",
              "      <td>petrol</td>\n",
              "      <td>958606.50</td>\n",
              "    </tr>\n",
              "    <tr>\n",
              "      <th>4</th>\n",
              "      <td>25005</td>\n",
              "      <td>bmw</td>\n",
              "      <td>x5</td>\n",
              "      <td>Jaipur</td>\n",
              "      <td>59524.0</td>\n",
              "      <td>Fourth &amp; Above</td>\n",
              "      <td>2012</td>\n",
              "      <td>7</td>\n",
              "      <td>2993</td>\n",
              "      <td>180.0</td>\n",
              "      <td>NaN</td>\n",
              "      <td>7</td>\n",
              "      <td>auto</td>\n",
              "      <td>4</td>\n",
              "      <td>5</td>\n",
              "      <td>diesel</td>\n",
              "      <td>3085561.50</td>\n",
              "    </tr>\n",
              "    <tr>\n",
              "      <th>...</th>\n",
              "      <td>...</td>\n",
              "      <td>...</td>\n",
              "      <td>...</td>\n",
              "      <td>...</td>\n",
              "      <td>...</td>\n",
              "      <td>...</td>\n",
              "      <td>...</td>\n",
              "      <td>...</td>\n",
              "      <td>...</td>\n",
              "      <td>...</td>\n",
              "      <td>...</td>\n",
              "      <td>...</td>\n",
              "      <td>...</td>\n",
              "      <td>...</td>\n",
              "      <td>...</td>\n",
              "      <td>...</td>\n",
              "      <td>...</td>\n",
              "    </tr>\n",
              "    <tr>\n",
              "      <th>59125</th>\n",
              "      <td>16611</td>\n",
              "      <td>skoda</td>\n",
              "      <td>octavia</td>\n",
              "      <td>Mumbai</td>\n",
              "      <td>149976.0</td>\n",
              "      <td>First</td>\n",
              "      <td>2011</td>\n",
              "      <td>8</td>\n",
              "      <td>1968</td>\n",
              "      <td>103.0</td>\n",
              "      <td>NaN</td>\n",
              "      <td>8</td>\n",
              "      <td>man</td>\n",
              "      <td>4</td>\n",
              "      <td>5</td>\n",
              "      <td>diesel</td>\n",
              "      <td>NaN</td>\n",
              "    </tr>\n",
              "    <tr>\n",
              "      <th>59126</th>\n",
              "      <td>16612</td>\n",
              "      <td>skoda</td>\n",
              "      <td>superb</td>\n",
              "      <td>Ahmedabad</td>\n",
              "      <td>332000.0</td>\n",
              "      <td>First</td>\n",
              "      <td>2005</td>\n",
              "      <td>14</td>\n",
              "      <td>1896</td>\n",
              "      <td>96.0</td>\n",
              "      <td>NaN</td>\n",
              "      <td>6</td>\n",
              "      <td>man</td>\n",
              "      <td>4</td>\n",
              "      <td>5</td>\n",
              "      <td>diesel</td>\n",
              "      <td>NaN</td>\n",
              "    </tr>\n",
              "    <tr>\n",
              "      <th>59127</th>\n",
              "      <td>16613</td>\n",
              "      <td>skoda</td>\n",
              "      <td>octavia</td>\n",
              "      <td>Bangalore</td>\n",
              "      <td>230800.0</td>\n",
              "      <td>Second</td>\n",
              "      <td>2005</td>\n",
              "      <td>14</td>\n",
              "      <td>1896</td>\n",
              "      <td>77.0</td>\n",
              "      <td>NaN</td>\n",
              "      <td>7</td>\n",
              "      <td>man</td>\n",
              "      <td>5</td>\n",
              "      <td>5</td>\n",
              "      <td>diesel</td>\n",
              "      <td>NaN</td>\n",
              "    </tr>\n",
              "    <tr>\n",
              "      <th>59128</th>\n",
              "      <td>16614</td>\n",
              "      <td>nissan</td>\n",
              "      <td>qashqai</td>\n",
              "      <td>Jaipur</td>\n",
              "      <td>63480.0</td>\n",
              "      <td>Third</td>\n",
              "      <td>2011</td>\n",
              "      <td>8</td>\n",
              "      <td>1997</td>\n",
              "      <td>104.0</td>\n",
              "      <td>NaN</td>\n",
              "      <td>5</td>\n",
              "      <td>man</td>\n",
              "      <td>4</td>\n",
              "      <td>7</td>\n",
              "      <td>petrol</td>\n",
              "      <td>NaN</td>\n",
              "    </tr>\n",
              "    <tr>\n",
              "      <th>59129</th>\n",
              "      <td>16615</td>\n",
              "      <td>hyundai</td>\n",
              "      <td>i30</td>\n",
              "      <td>Jaipur</td>\n",
              "      <td>75000.0</td>\n",
              "      <td>Second</td>\n",
              "      <td>2011</td>\n",
              "      <td>8</td>\n",
              "      <td>1396</td>\n",
              "      <td>80.0</td>\n",
              "      <td>NaN</td>\n",
              "      <td>4</td>\n",
              "      <td>man</td>\n",
              "      <td>None</td>\n",
              "      <td>None</td>\n",
              "      <td>petrol</td>\n",
              "      <td>NaN</td>\n",
              "    </tr>\n",
              "  </tbody>\n",
              "</table>\n",
              "<p>59130 rows × 17 columns</p>\n",
              "</div>"
            ],
            "text/plain": [
              "          Id    Maker    model  ... seat_count  fuel_type       Price\n",
              "0      25001    skoda  octavia  ...       None     petrol   543764.25\n",
              "1      25002     fiat    panda  ...          4     petrol   401819.25\n",
              "2      25003      bmw       x1  ...          5     diesel  2392855.50\n",
              "3      25004   nissan     juke  ...          5     petrol   958606.50\n",
              "4      25005      bmw       x5  ...          5     diesel  3085561.50\n",
              "...      ...      ...      ...  ...        ...        ...         ...\n",
              "59125  16611    skoda  octavia  ...          5     diesel         NaN\n",
              "59126  16612    skoda   superb  ...          5     diesel         NaN\n",
              "59127  16613    skoda  octavia  ...          5     diesel         NaN\n",
              "59128  16614   nissan  qashqai  ...          7     petrol         NaN\n",
              "59129  16615  hyundai      i30  ...       None     petrol         NaN\n",
              "\n",
              "[59130 rows x 17 columns]"
            ]
          },
          "metadata": {
            "tags": []
          },
          "execution_count": 7
        }
      ]
    },
    {
      "cell_type": "code",
      "metadata": {
        "id": "CcoBO0j5JiHm",
        "colab_type": "code",
        "colab": {}
      },
      "source": [
        "id = df['Id']"
      ],
      "execution_count": 8,
      "outputs": []
    },
    {
      "cell_type": "code",
      "metadata": {
        "id": "5aF6e_U4P2RF",
        "colab_type": "code",
        "colab": {}
      },
      "source": [
        "df.drop('Id', 1, inplace = True)"
      ],
      "execution_count": 9,
      "outputs": []
    },
    {
      "cell_type": "code",
      "metadata": {
        "id": "zq6fHuzPUWhT",
        "colab_type": "code",
        "colab": {}
      },
      "source": [
        "df['Distance'] = df['Distance ']\n",
        "df.drop('Distance ', 1, inplace = True)"
      ],
      "execution_count": 10,
      "outputs": []
    },
    {
      "cell_type": "code",
      "metadata": {
        "id": "0gdoZm64yses",
        "colab_type": "code",
        "colab": {
          "base_uri": "https://localhost:8080/",
          "height": 306
        },
        "outputId": "c88d8d0e-0f82-4ebd-98db-31536b76bf3e"
      },
      "source": [
        "df.isna().sum() / df.shape[0]"
      ],
      "execution_count": 11,
      "outputs": [
        {
          "output_type": "execute_result",
          "data": {
            "text/plain": [
              "Maker                  0.000000\n",
              "model                  0.000000\n",
              "Location               0.000000\n",
              "Owner Type             0.000000\n",
              "manufacture_year       0.000000\n",
              "Age of car             0.000000\n",
              "engine_displacement    0.000000\n",
              "engine_power           0.027177\n",
              "body_type              0.922916\n",
              "Vroom Audit Rating     0.000000\n",
              "transmission           0.000000\n",
              "door_count             0.000000\n",
              "seat_count             0.000000\n",
              "fuel_type              0.000000\n",
              "Price                  0.094960\n",
              "Distance               0.022645\n",
              "dtype: float64"
            ]
          },
          "metadata": {
            "tags": []
          },
          "execution_count": 11
        }
      ]
    },
    {
      "cell_type": "code",
      "metadata": {
        "id": "kH08xOevRlm8",
        "colab_type": "code",
        "colab": {}
      },
      "source": [
        "df.drop('body_type', 1, inplace = True)"
      ],
      "execution_count": 12,
      "outputs": []
    },
    {
      "cell_type": "code",
      "metadata": {
        "id": "AOk4ZoQjUlJe",
        "colab_type": "code",
        "colab": {}
      },
      "source": [
        "df['Distance'].fillna(df['Distance'].median(), inplace = True)"
      ],
      "execution_count": 13,
      "outputs": []
    },
    {
      "cell_type": "code",
      "metadata": {
        "id": "Ns_FuOmYUu2u",
        "colab_type": "code",
        "colab": {}
      },
      "source": [
        "df['engine_power'].fillna(df['engine_power'].median(), inplace = True)"
      ],
      "execution_count": 14,
      "outputs": []
    },
    {
      "cell_type": "code",
      "metadata": {
        "id": "JWCgITBIyQ6y",
        "colab_type": "code",
        "colab": {
          "base_uri": "https://localhost:8080/",
          "height": 153
        },
        "outputId": "5e219970-6c6d-4dca-ea5e-7cd93aa29870"
      },
      "source": [
        "df['door_count'].value_counts()"
      ],
      "execution_count": 15,
      "outputs": [
        {
          "output_type": "execute_result",
          "data": {
            "text/plain": [
              "4       37391\n",
              "5        8405\n",
              "None     8340\n",
              "2        4779\n",
              "3         204\n",
              "6           9\n",
              "1           2\n",
              "Name: door_count, dtype: int64"
            ]
          },
          "metadata": {
            "tags": []
          },
          "execution_count": 15
        }
      ]
    },
    {
      "cell_type": "code",
      "metadata": {
        "id": "Fdqj90LrVGOr",
        "colab_type": "code",
        "colab": {
          "base_uri": "https://localhost:8080/",
          "height": 136
        },
        "outputId": "6aa63982-2d6d-4eea-e49f-18f395ccafa2"
      },
      "source": [
        "df['door_count'] = df['door_count'].replace({'None' : np.nan})\n",
        "vc = df['door_count'].value_counts(normalize = True)\n",
        "miss = df['door_count'].isna()\n",
        "df.loc[miss, 'door_count'] = np.random.choice(vc.index, size = miss.sum(), p = vc.values)\n",
        "df['door_count'] = df['door_count'].astype('int64')\n",
        "df['door_count'].value_counts()"
      ],
      "execution_count": 16,
      "outputs": [
        {
          "output_type": "execute_result",
          "data": {
            "text/plain": [
              "4    43488\n",
              "5     9742\n",
              "2     5637\n",
              "3      250\n",
              "6       10\n",
              "1        3\n",
              "Name: door_count, dtype: int64"
            ]
          },
          "metadata": {
            "tags": []
          },
          "execution_count": 16
        }
      ]
    },
    {
      "cell_type": "code",
      "metadata": {
        "id": "_Z7-dj9gyb3Q",
        "colab_type": "code",
        "colab": {
          "base_uri": "https://localhost:8080/",
          "height": 204
        },
        "outputId": "e28dfcf2-1c90-4ec1-c692-33955aad240a"
      },
      "source": [
        " df['seat_count'].value_counts()"
      ],
      "execution_count": 17,
      "outputs": [
        {
          "output_type": "execute_result",
          "data": {
            "text/plain": [
              "5       42924\n",
              "None     9402\n",
              "4        4922\n",
              "7         934\n",
              "2         804\n",
              "3         117\n",
              "6          23\n",
              "9           2\n",
              "1           1\n",
              "8           1\n",
              "Name: seat_count, dtype: int64"
            ]
          },
          "metadata": {
            "tags": []
          },
          "execution_count": 17
        }
      ]
    },
    {
      "cell_type": "code",
      "metadata": {
        "id": "Ul-qvRgXVYkl",
        "colab_type": "code",
        "colab": {
          "base_uri": "https://localhost:8080/",
          "height": 187
        },
        "outputId": "0f110b76-f221-4d02-df5f-4b10eea2a01c"
      },
      "source": [
        "df['seat_count'] = df['seat_count'].replace({'None' : np.nan})\n",
        "vc = df['seat_count'].value_counts(normalize = True)\n",
        "miss = df['seat_count'].isna()\n",
        "df.loc[miss, 'seat_count'] = np.random.choice(vc.index, size = miss.sum(), p = vc.values)\n",
        "df['seat_count'] = df['seat_count'].astype('int64')\n",
        "df['seat_count'].value_counts()"
      ],
      "execution_count": 18,
      "outputs": [
        {
          "output_type": "execute_result",
          "data": {
            "text/plain": [
              "5    51006\n",
              "4     5871\n",
              "7     1122\n",
              "2      956\n",
              "3      143\n",
              "6       26\n",
              "9        3\n",
              "8        2\n",
              "1        1\n",
              "Name: seat_count, dtype: int64"
            ]
          },
          "metadata": {
            "tags": []
          },
          "execution_count": 18
        }
      ]
    },
    {
      "cell_type": "code",
      "metadata": {
        "id": "Y7BhgUu6XpXb",
        "colab_type": "code",
        "colab": {}
      },
      "source": [
        "df.drop('manufacture_year', 1, inplace = True)"
      ],
      "execution_count": 19,
      "outputs": []
    },
    {
      "cell_type": "code",
      "metadata": {
        "id": "KtFcjbrxirem",
        "colab_type": "code",
        "colab": {
          "base_uri": "https://localhost:8080/",
          "height": 1000
        },
        "outputId": "ca2ea5ac-e66a-4f04-be48-b80470e78828"
      },
      "source": [
        "num = df.select_dtypes(exclude = 'O').columns\n",
        "for i in num:\n",
        "    sns.boxplot(df[i])\n",
        "    plt.show()"
      ],
      "execution_count": 20,
      "outputs": [
        {
          "output_type": "display_data",
          "data": {
            "image/png": "[encoded data removed]",
            "text/plain": [
              "<Figure size 432x288 with 1 Axes>"
            ]
          },
          "metadata": {
            "tags": [],
            "needs_background": "light"
          }
        },
        {
          "output_type": "display_data",
          "data": {
            "image/png": "[encoded data removed]",
            "text/plain": [
              "<Figure size 432x288 with 1 Axes>"
            ]
          },
          "metadata": {
            "tags": [],
            "needs_background": "light"
          }
        },
        {
          "output_type": "display_data",
          "data": {
            "image/png": "[encoded data removed]",
            "text/plain": [
              "<Figure size 432x288 with 1 Axes>"
            ]
          },
          "metadata": {
            "tags": [],
            "needs_background": "light"
          }
        },
        {
          "output_type": "display_data",
          "data": {
            "image/png": "[encoded data removed]",
            "text/plain": [
              "<Figure size 432x288 with 1 Axes>"
            ]
          },
          "metadata": {
            "tags": [],
            "needs_background": "light"
          }
        },
        {
          "output_type": "display_data",
          "data": {
            "image/png": "[encoded data removed]",
            "text/plain": [
              "<Figure size 432x288 with 1 Axes>"
            ]
          },
          "metadata": {
            "tags": [],
            "needs_background": "light"
          }
        },
        {
          "output_type": "display_data",
          "data": {
            "image/png": "[encoded data removed]",
            "text/plain": [
              "<Figure size 432x288 with 1 Axes>"
            ]
          },
          "metadata": {
            "tags": [],
            "needs_background": "light"
          }
        },
        {
          "output_type": "display_data",
          "data": {
            "image/png": "[encoded data removed]",
            "text/plain": [
              "<Figure size 432x288 with 1 Axes>"
            ]
          },
          "metadata": {
            "tags": [],
            "needs_background": "light"
          }
        },
        {
          "output_type": "display_data",
          "data": {
            "image/png": "[encoded data removed]",
            "text/plain": [
              "<Figure size 432x288 with 1 Axes>"
            ]
          },
          "metadata": {
            "tags": [],
            "needs_background": "light"
          }
        }
      ]
    },
    {
      "cell_type": "code",
      "metadata": {
        "id": "B-C6_oXV41g-",
        "colab_type": "code",
        "colab": {
          "base_uri": "https://localhost:8080/",
          "height": 102
        },
        "outputId": "4948eeab-c396-44a7-adc7-fb109ee2a1d3"
      },
      "source": [
        "df.columns"
      ],
      "execution_count": 21,
      "outputs": [
        {
          "output_type": "execute_result",
          "data": {
            "text/plain": [
              "Index(['Maker', 'model', 'Location', 'Owner Type', 'Age of car',\n",
              "       'engine_displacement', 'engine_power', 'Vroom Audit Rating',\n",
              "       'transmission', 'door_count', 'seat_count', 'fuel_type', 'Price',\n",
              "       'Distance'],\n",
              "      dtype='object')"
            ]
          },
          "metadata": {
            "tags": []
          },
          "execution_count": 21
        }
      ]
    },
    {
      "cell_type": "code",
      "metadata": {
        "id": "X__l6C_NjVOd",
        "colab_type": "code",
        "colab": {}
      },
      "source": [
        "df.columns = ['maker', 'model', 'location', 'owner_type', 'age', 'engine_displacement',\n",
        "       'engine_power', 'rating', 'transmission', 'door_count', 'seat_count', 'fuel_type',\n",
        "       'price', 'distance']"
      ],
      "execution_count": 22,
      "outputs": []
    },
    {
      "cell_type": "code",
      "metadata": {
        "id": "TMBJF7UikodR",
        "colab_type": "code",
        "colab": {
          "base_uri": "https://localhost:8080/",
          "height": 241
        },
        "outputId": "b3cf7ba1-a893-4cdf-e9e8-da49ce3a16f4"
      },
      "source": [
        "df.head()"
      ],
      "execution_count": 23,
      "outputs": [
        {
          "output_type": "execute_result",
          "data": {
            "text/html": [
              "<div>\n",
              "<style scoped>\n",
              "    .dataframe tbody tr th:only-of-type {\n",
              "        vertical-align: middle;\n",
              "    }\n",
              "\n",
              "    .dataframe tbody tr th {\n",
              "        vertical-align: top;\n",
              "    }\n",
              "\n",
              "    .dataframe thead th {\n",
              "        text-align: right;\n",
              "    }\n",
              "</style>\n",
              "<table border=\"1\" class=\"dataframe\">\n",
              "  <thead>\n",
              "    <tr style=\"text-align: right;\">\n",
              "      <th></th>\n",
              "      <th>maker</th>\n",
              "      <th>model</th>\n",
              "      <th>location</th>\n",
              "      <th>owner_type</th>\n",
              "      <th>age</th>\n",
              "      <th>engine_displacement</th>\n",
              "      <th>engine_power</th>\n",
              "      <th>rating</th>\n",
              "      <th>transmission</th>\n",
              "      <th>door_count</th>\n",
              "      <th>seat_count</th>\n",
              "      <th>fuel_type</th>\n",
              "      <th>price</th>\n",
              "      <th>distance</th>\n",
              "    </tr>\n",
              "  </thead>\n",
              "  <tbody>\n",
              "    <tr>\n",
              "      <th>0</th>\n",
              "      <td>skoda</td>\n",
              "      <td>octavia</td>\n",
              "      <td>Ahmedabad</td>\n",
              "      <td>Second</td>\n",
              "      <td>55</td>\n",
              "      <td>1964</td>\n",
              "      <td>147.0</td>\n",
              "      <td>8</td>\n",
              "      <td>man</td>\n",
              "      <td>4</td>\n",
              "      <td>5</td>\n",
              "      <td>petrol</td>\n",
              "      <td>543764.25</td>\n",
              "      <td>65300.0</td>\n",
              "    </tr>\n",
              "    <tr>\n",
              "      <th>1</th>\n",
              "      <td>fiat</td>\n",
              "      <td>panda</td>\n",
              "      <td>Ahmedabad</td>\n",
              "      <td>Third</td>\n",
              "      <td>7</td>\n",
              "      <td>1242</td>\n",
              "      <td>51.0</td>\n",
              "      <td>6</td>\n",
              "      <td>man</td>\n",
              "      <td>4</td>\n",
              "      <td>4</td>\n",
              "      <td>petrol</td>\n",
              "      <td>401819.25</td>\n",
              "      <td>27750.0</td>\n",
              "    </tr>\n",
              "    <tr>\n",
              "      <th>2</th>\n",
              "      <td>bmw</td>\n",
              "      <td>x1</td>\n",
              "      <td>Hyderabad</td>\n",
              "      <td>Third</td>\n",
              "      <td>5</td>\n",
              "      <td>1995</td>\n",
              "      <td>105.0</td>\n",
              "      <td>7</td>\n",
              "      <td>auto</td>\n",
              "      <td>4</td>\n",
              "      <td>5</td>\n",
              "      <td>diesel</td>\n",
              "      <td>2392855.50</td>\n",
              "      <td>46000.0</td>\n",
              "    </tr>\n",
              "    <tr>\n",
              "      <th>3</th>\n",
              "      <td>nissan</td>\n",
              "      <td>juke</td>\n",
              "      <td>Mumbai</td>\n",
              "      <td>Third</td>\n",
              "      <td>8</td>\n",
              "      <td>1618</td>\n",
              "      <td>140.0</td>\n",
              "      <td>7</td>\n",
              "      <td>man</td>\n",
              "      <td>4</td>\n",
              "      <td>5</td>\n",
              "      <td>petrol</td>\n",
              "      <td>958606.50</td>\n",
              "      <td>43949.0</td>\n",
              "    </tr>\n",
              "    <tr>\n",
              "      <th>4</th>\n",
              "      <td>bmw</td>\n",
              "      <td>x5</td>\n",
              "      <td>Jaipur</td>\n",
              "      <td>Fourth &amp; Above</td>\n",
              "      <td>7</td>\n",
              "      <td>2993</td>\n",
              "      <td>180.0</td>\n",
              "      <td>7</td>\n",
              "      <td>auto</td>\n",
              "      <td>4</td>\n",
              "      <td>5</td>\n",
              "      <td>diesel</td>\n",
              "      <td>3085561.50</td>\n",
              "      <td>59524.0</td>\n",
              "    </tr>\n",
              "  </tbody>\n",
              "</table>\n",
              "</div>"
            ],
            "text/plain": [
              "    maker    model   location  ... fuel_type       price  distance\n",
              "0   skoda  octavia  Ahmedabad  ...    petrol   543764.25   65300.0\n",
              "1    fiat    panda  Ahmedabad  ...    petrol   401819.25   27750.0\n",
              "2     bmw       x1  Hyderabad  ...    diesel  2392855.50   46000.0\n",
              "3  nissan     juke     Mumbai  ...    petrol   958606.50   43949.0\n",
              "4     bmw       x5     Jaipur  ...    diesel  3085561.50   59524.0\n",
              "\n",
              "[5 rows x 14 columns]"
            ]
          },
          "metadata": {
            "tags": []
          },
          "execution_count": 23
        }
      ]
    },
    {
      "cell_type": "code",
      "metadata": {
        "id": "DWRb1HDU5Jwr",
        "colab_type": "code",
        "colab": {}
      },
      "source": [
        "df.reset_index(drop = True, inplace = True)"
      ],
      "execution_count": 24,
      "outputs": []
    },
    {
      "cell_type": "code",
      "metadata": {
        "id": "NrqsZ9DI5PL9",
        "colab_type": "code",
        "colab": {
          "base_uri": "https://localhost:8080/",
          "height": 456
        },
        "outputId": "decfa3b9-96dc-46e1-a480-a83e16b5babb"
      },
      "source": [
        "df[df['price'].isnull()]"
      ],
      "execution_count": 25,
      "outputs": [
        {
          "output_type": "execute_result",
          "data": {
            "text/html": [
              "<div>\n",
              "<style scoped>\n",
              "    .dataframe tbody tr th:only-of-type {\n",
              "        vertical-align: middle;\n",
              "    }\n",
              "\n",
              "    .dataframe tbody tr th {\n",
              "        vertical-align: top;\n",
              "    }\n",
              "\n",
              "    .dataframe thead th {\n",
              "        text-align: right;\n",
              "    }\n",
              "</style>\n",
              "<table border=\"1\" class=\"dataframe\">\n",
              "  <thead>\n",
              "    <tr style=\"text-align: right;\">\n",
              "      <th></th>\n",
              "      <th>maker</th>\n",
              "      <th>model</th>\n",
              "      <th>location</th>\n",
              "      <th>owner_type</th>\n",
              "      <th>age</th>\n",
              "      <th>engine_displacement</th>\n",
              "      <th>engine_power</th>\n",
              "      <th>rating</th>\n",
              "      <th>transmission</th>\n",
              "      <th>door_count</th>\n",
              "      <th>seat_count</th>\n",
              "      <th>fuel_type</th>\n",
              "      <th>price</th>\n",
              "      <th>distance</th>\n",
              "    </tr>\n",
              "  </thead>\n",
              "  <tbody>\n",
              "    <tr>\n",
              "      <th>53515</th>\n",
              "      <td>skoda</td>\n",
              "      <td>octavia</td>\n",
              "      <td>Mumbai</td>\n",
              "      <td>First</td>\n",
              "      <td>12</td>\n",
              "      <td>1595</td>\n",
              "      <td>75.0</td>\n",
              "      <td>5</td>\n",
              "      <td>man</td>\n",
              "      <td>4</td>\n",
              "      <td>5</td>\n",
              "      <td>petrol</td>\n",
              "      <td>NaN</td>\n",
              "      <td>150000.0</td>\n",
              "    </tr>\n",
              "    <tr>\n",
              "      <th>53516</th>\n",
              "      <td>skoda</td>\n",
              "      <td>rapid</td>\n",
              "      <td>Coimbatore</td>\n",
              "      <td>Third</td>\n",
              "      <td>5</td>\n",
              "      <td>1598</td>\n",
              "      <td>77.0</td>\n",
              "      <td>4</td>\n",
              "      <td>man</td>\n",
              "      <td>4</td>\n",
              "      <td>5</td>\n",
              "      <td>diesel</td>\n",
              "      <td>NaN</td>\n",
              "      <td>29376.0</td>\n",
              "    </tr>\n",
              "    <tr>\n",
              "      <th>53517</th>\n",
              "      <td>skoda</td>\n",
              "      <td>octavia</td>\n",
              "      <td>Coimbatore</td>\n",
              "      <td>Second</td>\n",
              "      <td>5</td>\n",
              "      <td>1968</td>\n",
              "      <td>110.0</td>\n",
              "      <td>5</td>\n",
              "      <td>man</td>\n",
              "      <td>5</td>\n",
              "      <td>5</td>\n",
              "      <td>diesel</td>\n",
              "      <td>NaN</td>\n",
              "      <td>30563.0</td>\n",
              "    </tr>\n",
              "    <tr>\n",
              "      <th>53518</th>\n",
              "      <td>audi</td>\n",
              "      <td>q3</td>\n",
              "      <td>Delhi</td>\n",
              "      <td>Fourth &amp; Above</td>\n",
              "      <td>4</td>\n",
              "      <td>1968</td>\n",
              "      <td>110.0</td>\n",
              "      <td>8</td>\n",
              "      <td>auto</td>\n",
              "      <td>4</td>\n",
              "      <td>5</td>\n",
              "      <td>diesel</td>\n",
              "      <td>NaN</td>\n",
              "      <td>8650.0</td>\n",
              "    </tr>\n",
              "    <tr>\n",
              "      <th>53519</th>\n",
              "      <td>audi</td>\n",
              "      <td>tt</td>\n",
              "      <td>Chennai</td>\n",
              "      <td>Third</td>\n",
              "      <td>4</td>\n",
              "      <td>1984</td>\n",
              "      <td>169.0</td>\n",
              "      <td>4</td>\n",
              "      <td>auto</td>\n",
              "      <td>2</td>\n",
              "      <td>5</td>\n",
              "      <td>petrol</td>\n",
              "      <td>NaN</td>\n",
              "      <td>6400.0</td>\n",
              "    </tr>\n",
              "    <tr>\n",
              "      <th>...</th>\n",
              "      <td>...</td>\n",
              "      <td>...</td>\n",
              "      <td>...</td>\n",
              "      <td>...</td>\n",
              "      <td>...</td>\n",
              "      <td>...</td>\n",
              "      <td>...</td>\n",
              "      <td>...</td>\n",
              "      <td>...</td>\n",
              "      <td>...</td>\n",
              "      <td>...</td>\n",
              "      <td>...</td>\n",
              "      <td>...</td>\n",
              "      <td>...</td>\n",
              "    </tr>\n",
              "    <tr>\n",
              "      <th>59125</th>\n",
              "      <td>skoda</td>\n",
              "      <td>octavia</td>\n",
              "      <td>Mumbai</td>\n",
              "      <td>First</td>\n",
              "      <td>8</td>\n",
              "      <td>1968</td>\n",
              "      <td>103.0</td>\n",
              "      <td>8</td>\n",
              "      <td>man</td>\n",
              "      <td>4</td>\n",
              "      <td>5</td>\n",
              "      <td>diesel</td>\n",
              "      <td>NaN</td>\n",
              "      <td>149976.0</td>\n",
              "    </tr>\n",
              "    <tr>\n",
              "      <th>59126</th>\n",
              "      <td>skoda</td>\n",
              "      <td>superb</td>\n",
              "      <td>Ahmedabad</td>\n",
              "      <td>First</td>\n",
              "      <td>14</td>\n",
              "      <td>1896</td>\n",
              "      <td>96.0</td>\n",
              "      <td>6</td>\n",
              "      <td>man</td>\n",
              "      <td>4</td>\n",
              "      <td>5</td>\n",
              "      <td>diesel</td>\n",
              "      <td>NaN</td>\n",
              "      <td>332000.0</td>\n",
              "    </tr>\n",
              "    <tr>\n",
              "      <th>59127</th>\n",
              "      <td>skoda</td>\n",
              "      <td>octavia</td>\n",
              "      <td>Bangalore</td>\n",
              "      <td>Second</td>\n",
              "      <td>14</td>\n",
              "      <td>1896</td>\n",
              "      <td>77.0</td>\n",
              "      <td>7</td>\n",
              "      <td>man</td>\n",
              "      <td>5</td>\n",
              "      <td>5</td>\n",
              "      <td>diesel</td>\n",
              "      <td>NaN</td>\n",
              "      <td>230800.0</td>\n",
              "    </tr>\n",
              "    <tr>\n",
              "      <th>59128</th>\n",
              "      <td>nissan</td>\n",
              "      <td>qashqai</td>\n",
              "      <td>Jaipur</td>\n",
              "      <td>Third</td>\n",
              "      <td>8</td>\n",
              "      <td>1997</td>\n",
              "      <td>104.0</td>\n",
              "      <td>5</td>\n",
              "      <td>man</td>\n",
              "      <td>4</td>\n",
              "      <td>7</td>\n",
              "      <td>petrol</td>\n",
              "      <td>NaN</td>\n",
              "      <td>63480.0</td>\n",
              "    </tr>\n",
              "    <tr>\n",
              "      <th>59129</th>\n",
              "      <td>hyundai</td>\n",
              "      <td>i30</td>\n",
              "      <td>Jaipur</td>\n",
              "      <td>Second</td>\n",
              "      <td>8</td>\n",
              "      <td>1396</td>\n",
              "      <td>80.0</td>\n",
              "      <td>4</td>\n",
              "      <td>man</td>\n",
              "      <td>2</td>\n",
              "      <td>5</td>\n",
              "      <td>petrol</td>\n",
              "      <td>NaN</td>\n",
              "      <td>75000.0</td>\n",
              "    </tr>\n",
              "  </tbody>\n",
              "</table>\n",
              "<p>5615 rows × 14 columns</p>\n",
              "</div>"
            ],
            "text/plain": [
              "         maker    model    location  ... fuel_type  price  distance\n",
              "53515    skoda  octavia      Mumbai  ...    petrol    NaN  150000.0\n",
              "53516    skoda    rapid  Coimbatore  ...    diesel    NaN   29376.0\n",
              "53517    skoda  octavia  Coimbatore  ...    diesel    NaN   30563.0\n",
              "53518     audi       q3       Delhi  ...    diesel    NaN    8650.0\n",
              "53519     audi       tt     Chennai  ...    petrol    NaN    6400.0\n",
              "...        ...      ...         ...  ...       ...    ...       ...\n",
              "59125    skoda  octavia      Mumbai  ...    diesel    NaN  149976.0\n",
              "59126    skoda   superb   Ahmedabad  ...    diesel    NaN  332000.0\n",
              "59127    skoda  octavia   Bangalore  ...    diesel    NaN  230800.0\n",
              "59128   nissan  qashqai      Jaipur  ...    petrol    NaN   63480.0\n",
              "59129  hyundai      i30      Jaipur  ...    petrol    NaN   75000.0\n",
              "\n",
              "[5615 rows x 14 columns]"
            ]
          },
          "metadata": {
            "tags": []
          },
          "execution_count": 25
        }
      ]
    },
    {
      "cell_type": "code",
      "metadata": {
        "id": "tKdyc9zUk1eo",
        "colab_type": "code",
        "colab": {
          "base_uri": "https://localhost:8080/",
          "height": 34
        },
        "outputId": "81aee6d0-2107-4890-b995-1888be43ff97"
      },
      "source": [
        "X = df.drop('price', 1)\n",
        "y = df['price']\n",
        "X_train = X[:53515]\n",
        "y_train = y[:53515]\n",
        "X_test = X[53515:]\n",
        "y_test = y[53515:]\n",
        "X_train.shape, y_train.shape, X_test.shape, y_test.shape"
      ],
      "execution_count": 26,
      "outputs": [
        {
          "output_type": "execute_result",
          "data": {
            "text/plain": [
              "((53515, 13), (53515,), (5615, 13), (5615,))"
            ]
          },
          "metadata": {
            "tags": []
          },
          "execution_count": 26
        }
      ]
    },
    {
      "cell_type": "code",
      "metadata": {
        "id": "Fh57Qo7Sly0B",
        "colab_type": "code",
        "colab": {}
      },
      "source": [
        "num = ['age', 'engine_displacement',\n",
        "       'engine_power', 'rating', 'door_count', 'seat_count', 'distance']"
      ],
      "execution_count": 27,
      "outputs": []
    },
    {
      "cell_type": "code",
      "metadata": {
        "id": "4dcljhvum-W_",
        "colab_type": "code",
        "colab": {
          "base_uri": "https://localhost:8080/",
          "height": 136
        },
        "outputId": "a10dd785-8e42-44a6-bdd4-0912078b49db"
      },
      "source": [
        "for i in num:\n",
        "    print(X_train[i].skew(), X_test[i].skew())"
      ],
      "execution_count": 28,
      "outputs": [
        {
          "output_type": "stream",
          "text": [
            "1.9125557321371436 2.151668535955962\n",
            "12.730459629497304 13.087955583034667\n",
            "1.7912304691708218 2.719814064126615\n",
            "0.0049910074172671666 0.005117383792680339\n",
            "-1.3512161297036762 -1.369542235247763\n",
            "-1.5749331866647478 -1.8746264590778843\n",
            "23.6028344559942 21.340080923951337\n"
          ],
          "name": "stdout"
        }
      ]
    },
    {
      "cell_type": "code",
      "metadata": {
        "id": "NuIIqZe57-n8",
        "colab_type": "code",
        "colab": {}
      },
      "source": [
        "tran = ['age', 'engine_displacement',\n",
        "       'engine_power', 'door_count', 'seat_count', 'distance']"
      ],
      "execution_count": 29,
      "outputs": []
    },
    {
      "cell_type": "code",
      "metadata": {
        "id": "AL7iFLnkmMpr",
        "colab_type": "code",
        "colab": {
          "base_uri": "https://localhost:8080/",
          "height": 564
        },
        "outputId": "17be3a1c-de34-4c1e-db2c-f3f269b9df35"
      },
      "source": [
        "pt = PowerTransformer()\n",
        "X_train[tran] = pt.fit_transform(X_train[tran])\n",
        "X_test[tran] = pt.transform(X_test[tran])\n",
        "for i in num:\n",
        "    print(X_train[i].skew(), X_test[i].skew())"
      ],
      "execution_count": 30,
      "outputs": [
        {
          "output_type": "stream",
          "text": [
            "0.06116264135204408 0.11668922757025084\n",
            "-0.5373946116887601 0.19327299999902287\n",
            "0.0371132119835988 0.08618424627234243\n",
            "0.0049910074172671666 0.005117383792680339\n",
            "0.06669949858820155 0.07823892400641984\n",
            "0.7847842968892992 0.4386496453364035\n",
            "-0.18013216696249706 -0.0767746475452153\n"
          ],
          "name": "stdout"
        },
        {
          "output_type": "stream",
          "text": [
            "/usr/local/lib/python3.6/dist-packages/ipykernel_launcher.py:2: SettingWithCopyWarning: \n",
            "A value is trying to be set on a copy of a slice from a DataFrame.\n",
            "Try using .loc[row_indexer,col_indexer] = value instead\n",
            "\n",
            "See the caveats in the documentation: https://pandas.pydata.org/pandas-docs/stable/user_guide/indexing.html#returning-a-view-versus-a-copy\n",
            "  \n",
            "/usr/local/lib/python3.6/dist-packages/pandas/core/indexing.py:966: SettingWithCopyWarning: \n",
            "A value is trying to be set on a copy of a slice from a DataFrame.\n",
            "Try using .loc[row_indexer,col_indexer] = value instead\n",
            "\n",
            "See the caveats in the documentation: https://pandas.pydata.org/pandas-docs/stable/user_guide/indexing.html#returning-a-view-versus-a-copy\n",
            "  self.obj[item] = s\n",
            "/usr/local/lib/python3.6/dist-packages/ipykernel_launcher.py:3: SettingWithCopyWarning: \n",
            "A value is trying to be set on a copy of a slice from a DataFrame.\n",
            "Try using .loc[row_indexer,col_indexer] = value instead\n",
            "\n",
            "See the caveats in the documentation: https://pandas.pydata.org/pandas-docs/stable/user_guide/indexing.html#returning-a-view-versus-a-copy\n",
            "  This is separate from the ipykernel package so we can avoid doing imports until\n",
            "/usr/local/lib/python3.6/dist-packages/pandas/core/indexing.py:966: SettingWithCopyWarning: \n",
            "A value is trying to be set on a copy of a slice from a DataFrame.\n",
            "Try using .loc[row_indexer,col_indexer] = value instead\n",
            "\n",
            "See the caveats in the documentation: https://pandas.pydata.org/pandas-docs/stable/user_guide/indexing.html#returning-a-view-versus-a-copy\n",
            "  self.obj[item] = s\n"
          ],
          "name": "stderr"
        }
      ]
    },
    {
      "cell_type": "code",
      "metadata": {
        "id": "hdEs-MIj8-S9",
        "colab_type": "code",
        "colab": {
          "base_uri": "https://localhost:8080/",
          "height": 241
        },
        "outputId": "7a459d64-3b90-4b66-a7f5-09d500146430"
      },
      "source": [
        "X_train.head()"
      ],
      "execution_count": 31,
      "outputs": [
        {
          "output_type": "execute_result",
          "data": {
            "text/html": [
              "<div>\n",
              "<style scoped>\n",
              "    .dataframe tbody tr th:only-of-type {\n",
              "        vertical-align: middle;\n",
              "    }\n",
              "\n",
              "    .dataframe tbody tr th {\n",
              "        vertical-align: top;\n",
              "    }\n",
              "\n",
              "    .dataframe thead th {\n",
              "        text-align: right;\n",
              "    }\n",
              "</style>\n",
              "<table border=\"1\" class=\"dataframe\">\n",
              "  <thead>\n",
              "    <tr style=\"text-align: right;\">\n",
              "      <th></th>\n",
              "      <th>maker</th>\n",
              "      <th>model</th>\n",
              "      <th>location</th>\n",
              "      <th>owner_type</th>\n",
              "      <th>age</th>\n",
              "      <th>engine_displacement</th>\n",
              "      <th>engine_power</th>\n",
              "      <th>rating</th>\n",
              "      <th>transmission</th>\n",
              "      <th>door_count</th>\n",
              "      <th>seat_count</th>\n",
              "      <th>fuel_type</th>\n",
              "      <th>distance</th>\n",
              "    </tr>\n",
              "  </thead>\n",
              "  <tbody>\n",
              "    <tr>\n",
              "      <th>0</th>\n",
              "      <td>skoda</td>\n",
              "      <td>octavia</td>\n",
              "      <td>Ahmedabad</td>\n",
              "      <td>Second</td>\n",
              "      <td>3.118585</td>\n",
              "      <td>0.393766</td>\n",
              "      <td>1.114821</td>\n",
              "      <td>8</td>\n",
              "      <td>man</td>\n",
              "      <td>-0.123481</td>\n",
              "      <td>0.155636</td>\n",
              "      <td>petrol</td>\n",
              "      <td>0.217529</td>\n",
              "    </tr>\n",
              "    <tr>\n",
              "      <th>1</th>\n",
              "      <td>fiat</td>\n",
              "      <td>panda</td>\n",
              "      <td>Ahmedabad</td>\n",
              "      <td>Third</td>\n",
              "      <td>-0.101184</td>\n",
              "      <td>-0.989274</td>\n",
              "      <td>-1.332384</td>\n",
              "      <td>6</td>\n",
              "      <td>man</td>\n",
              "      <td>-0.123481</td>\n",
              "      <td>-1.585828</td>\n",
              "      <td>petrol</td>\n",
              "      <td>-0.279840</td>\n",
              "    </tr>\n",
              "    <tr>\n",
              "      <th>2</th>\n",
              "      <td>bmw</td>\n",
              "      <td>x1</td>\n",
              "      <td>Hyderabad</td>\n",
              "      <td>Third</td>\n",
              "      <td>-0.827254</td>\n",
              "      <td>0.437810</td>\n",
              "      <td>0.284840</td>\n",
              "      <td>7</td>\n",
              "      <td>auto</td>\n",
              "      <td>-0.123481</td>\n",
              "      <td>0.155636</td>\n",
              "      <td>diesel</td>\n",
              "      <td>-0.000941</td>\n",
              "    </tr>\n",
              "    <tr>\n",
              "      <th>3</th>\n",
              "      <td>nissan</td>\n",
              "      <td>juke</td>\n",
              "      <td>Mumbai</td>\n",
              "      <td>Third</td>\n",
              "      <td>0.172800</td>\n",
              "      <td>-0.168405</td>\n",
              "      <td>0.991314</td>\n",
              "      <td>7</td>\n",
              "      <td>man</td>\n",
              "      <td>-0.123481</td>\n",
              "      <td>0.155636</td>\n",
              "      <td>petrol</td>\n",
              "      <td>-0.027803</td>\n",
              "    </tr>\n",
              "    <tr>\n",
              "      <th>4</th>\n",
              "      <td>bmw</td>\n",
              "      <td>x5</td>\n",
              "      <td>Jaipur</td>\n",
              "      <td>Fourth &amp; Above</td>\n",
              "      <td>-0.101184</td>\n",
              "      <td>1.510520</td>\n",
              "      <td>1.639240</td>\n",
              "      <td>7</td>\n",
              "      <td>auto</td>\n",
              "      <td>-0.123481</td>\n",
              "      <td>0.155636</td>\n",
              "      <td>diesel</td>\n",
              "      <td>0.157628</td>\n",
              "    </tr>\n",
              "  </tbody>\n",
              "</table>\n",
              "</div>"
            ],
            "text/plain": [
              "    maker    model   location  ... seat_count  fuel_type  distance\n",
              "0   skoda  octavia  Ahmedabad  ...   0.155636     petrol  0.217529\n",
              "1    fiat    panda  Ahmedabad  ...  -1.585828     petrol -0.279840\n",
              "2     bmw       x1  Hyderabad  ...   0.155636     diesel -0.000941\n",
              "3  nissan     juke     Mumbai  ...   0.155636     petrol -0.027803\n",
              "4     bmw       x5     Jaipur  ...   0.155636     diesel  0.157628\n",
              "\n",
              "[5 rows x 13 columns]"
            ]
          },
          "metadata": {
            "tags": []
          },
          "execution_count": 31
        }
      ]
    },
    {
      "cell_type": "code",
      "metadata": {
        "id": "GgDZmSrUIpgY",
        "colab_type": "code",
        "colab": {}
      },
      "source": [
        "obj = ['maker', 'model', 'location', 'owner_type', 'transmission', 'fuel_type']"
      ],
      "execution_count": 32,
      "outputs": []
    },
    {
      "cell_type": "code",
      "metadata": {
        "id": "MM3suaPpIzLy",
        "colab_type": "code",
        "colab": {
          "base_uri": "https://localhost:8080/",
          "height": 357
        },
        "outputId": "551eafb6-9edd-4417-b920-3afd8f71852b"
      },
      "source": [
        "X_train.info()"
      ],
      "execution_count": 33,
      "outputs": [
        {
          "output_type": "stream",
          "text": [
            "<class 'pandas.core.frame.DataFrame'>\n",
            "RangeIndex: 53515 entries, 0 to 53514\n",
            "Data columns (total 13 columns):\n",
            " #   Column               Non-Null Count  Dtype  \n",
            "---  ------               --------------  -----  \n",
            " 0   maker                53515 non-null  object \n",
            " 1   model                53515 non-null  object \n",
            " 2   location             53515 non-null  object \n",
            " 3   owner_type           53515 non-null  object \n",
            " 4   age                  53515 non-null  float64\n",
            " 5   engine_displacement  53515 non-null  float64\n",
            " 6   engine_power         53515 non-null  float64\n",
            " 7   rating               53515 non-null  int64  \n",
            " 8   transmission         53515 non-null  object \n",
            " 9   door_count           53515 non-null  float64\n",
            " 10  seat_count           53515 non-null  float64\n",
            " 11  fuel_type            53515 non-null  object \n",
            " 12  distance             53515 non-null  float64\n",
            "dtypes: float64(6), int64(1), object(6)\n",
            "memory usage: 5.3+ MB\n"
          ],
          "name": "stdout"
        }
      ]
    },
    {
      "cell_type": "code",
      "metadata": {
        "id": "ZeKiCOErn-3B",
        "colab_type": "code",
        "colab": {
          "base_uri": "https://localhost:8080/",
          "height": 428
        },
        "outputId": "3ea3a411-486c-4e1c-991b-52882f7fdf14"
      },
      "source": [
        "for i in obj:\n",
        "    le = LabelEncoder()\n",
        "    X_train[i] = le.fit_transform(X_train[i])\n",
        "    X_test[i] = le.transform(X_test[i])\n",
        "X_train.head()"
      ],
      "execution_count": 34,
      "outputs": [
        {
          "output_type": "stream",
          "text": [
            "/usr/local/lib/python3.6/dist-packages/ipykernel_launcher.py:3: SettingWithCopyWarning: \n",
            "A value is trying to be set on a copy of a slice from a DataFrame.\n",
            "Try using .loc[row_indexer,col_indexer] = value instead\n",
            "\n",
            "See the caveats in the documentation: https://pandas.pydata.org/pandas-docs/stable/user_guide/indexing.html#returning-a-view-versus-a-copy\n",
            "  This is separate from the ipykernel package so we can avoid doing imports until\n",
            "/usr/local/lib/python3.6/dist-packages/ipykernel_launcher.py:4: SettingWithCopyWarning: \n",
            "A value is trying to be set on a copy of a slice from a DataFrame.\n",
            "Try using .loc[row_indexer,col_indexer] = value instead\n",
            "\n",
            "See the caveats in the documentation: https://pandas.pydata.org/pandas-docs/stable/user_guide/indexing.html#returning-a-view-versus-a-copy\n",
            "  after removing the cwd from sys.path.\n"
          ],
          "name": "stderr"
        },
        {
          "output_type": "execute_result",
          "data": {
            "text/html": [
              "<div>\n",
              "<style scoped>\n",
              "    .dataframe tbody tr th:only-of-type {\n",
              "        vertical-align: middle;\n",
              "    }\n",
              "\n",
              "    .dataframe tbody tr th {\n",
              "        vertical-align: top;\n",
              "    }\n",
              "\n",
              "    .dataframe thead th {\n",
              "        text-align: right;\n",
              "    }\n",
              "</style>\n",
              "<table border=\"1\" class=\"dataframe\">\n",
              "  <thead>\n",
              "    <tr style=\"text-align: right;\">\n",
              "      <th></th>\n",
              "      <th>maker</th>\n",
              "      <th>model</th>\n",
              "      <th>location</th>\n",
              "      <th>owner_type</th>\n",
              "      <th>age</th>\n",
              "      <th>engine_displacement</th>\n",
              "      <th>engine_power</th>\n",
              "      <th>rating</th>\n",
              "      <th>transmission</th>\n",
              "      <th>door_count</th>\n",
              "      <th>seat_count</th>\n",
              "      <th>fuel_type</th>\n",
              "      <th>distance</th>\n",
              "    </tr>\n",
              "  </thead>\n",
              "  <tbody>\n",
              "    <tr>\n",
              "      <th>0</th>\n",
              "      <td>6</td>\n",
              "      <td>8</td>\n",
              "      <td>0</td>\n",
              "      <td>2</td>\n",
              "      <td>3.118585</td>\n",
              "      <td>0.393766</td>\n",
              "      <td>1.114821</td>\n",
              "      <td>8</td>\n",
              "      <td>1</td>\n",
              "      <td>-0.123481</td>\n",
              "      <td>0.155636</td>\n",
              "      <td>1</td>\n",
              "      <td>0.217529</td>\n",
              "    </tr>\n",
              "    <tr>\n",
              "      <th>1</th>\n",
              "      <td>2</td>\n",
              "      <td>9</td>\n",
              "      <td>0</td>\n",
              "      <td>3</td>\n",
              "      <td>-0.101184</td>\n",
              "      <td>-0.989274</td>\n",
              "      <td>-1.332384</td>\n",
              "      <td>6</td>\n",
              "      <td>1</td>\n",
              "      <td>-0.123481</td>\n",
              "      <td>-1.585828</td>\n",
              "      <td>1</td>\n",
              "      <td>-0.279840</td>\n",
              "    </tr>\n",
              "    <tr>\n",
              "      <th>2</th>\n",
              "      <td>1</td>\n",
              "      <td>18</td>\n",
              "      <td>5</td>\n",
              "      <td>3</td>\n",
              "      <td>-0.827254</td>\n",
              "      <td>0.437810</td>\n",
              "      <td>0.284840</td>\n",
              "      <td>7</td>\n",
              "      <td>0</td>\n",
              "      <td>-0.123481</td>\n",
              "      <td>0.155636</td>\n",
              "      <td>0</td>\n",
              "      <td>-0.000941</td>\n",
              "    </tr>\n",
              "    <tr>\n",
              "      <th>3</th>\n",
              "      <td>5</td>\n",
              "      <td>6</td>\n",
              "      <td>9</td>\n",
              "      <td>3</td>\n",
              "      <td>0.172800</td>\n",
              "      <td>-0.168405</td>\n",
              "      <td>0.991314</td>\n",
              "      <td>7</td>\n",
              "      <td>1</td>\n",
              "      <td>-0.123481</td>\n",
              "      <td>0.155636</td>\n",
              "      <td>1</td>\n",
              "      <td>-0.027803</td>\n",
              "    </tr>\n",
              "    <tr>\n",
              "      <th>4</th>\n",
              "      <td>1</td>\n",
              "      <td>20</td>\n",
              "      <td>6</td>\n",
              "      <td>1</td>\n",
              "      <td>-0.101184</td>\n",
              "      <td>1.510520</td>\n",
              "      <td>1.639240</td>\n",
              "      <td>7</td>\n",
              "      <td>0</td>\n",
              "      <td>-0.123481</td>\n",
              "      <td>0.155636</td>\n",
              "      <td>0</td>\n",
              "      <td>0.157628</td>\n",
              "    </tr>\n",
              "  </tbody>\n",
              "</table>\n",
              "</div>"
            ],
            "text/plain": [
              "   maker  model  location  ...  seat_count  fuel_type  distance\n",
              "0      6      8         0  ...    0.155636          1  0.217529\n",
              "1      2      9         0  ...   -1.585828          1 -0.279840\n",
              "2      1     18         5  ...    0.155636          0 -0.000941\n",
              "3      5      6         9  ...    0.155636          1 -0.027803\n",
              "4      1     20         6  ...    0.155636          0  0.157628\n",
              "\n",
              "[5 rows x 13 columns]"
            ]
          },
          "metadata": {
            "tags": []
          },
          "execution_count": 34
        }
      ]
    },
    {
      "cell_type": "code",
      "metadata": {
        "id": "jfCSok-GLBeJ",
        "colab_type": "code",
        "colab": {
          "base_uri": "https://localhost:8080/",
          "height": 357
        },
        "outputId": "5141aa84-f4c6-4cb1-9057-eb012236bc40"
      },
      "source": [
        "X_train.info()"
      ],
      "execution_count": 35,
      "outputs": [
        {
          "output_type": "stream",
          "text": [
            "<class 'pandas.core.frame.DataFrame'>\n",
            "RangeIndex: 53515 entries, 0 to 53514\n",
            "Data columns (total 13 columns):\n",
            " #   Column               Non-Null Count  Dtype  \n",
            "---  ------               --------------  -----  \n",
            " 0   maker                53515 non-null  int64  \n",
            " 1   model                53515 non-null  int64  \n",
            " 2   location             53515 non-null  int64  \n",
            " 3   owner_type           53515 non-null  int64  \n",
            " 4   age                  53515 non-null  float64\n",
            " 5   engine_displacement  53515 non-null  float64\n",
            " 6   engine_power         53515 non-null  float64\n",
            " 7   rating               53515 non-null  int64  \n",
            " 8   transmission         53515 non-null  int64  \n",
            " 9   door_count           53515 non-null  float64\n",
            " 10  seat_count           53515 non-null  float64\n",
            " 11  fuel_type            53515 non-null  int64  \n",
            " 12  distance             53515 non-null  float64\n",
            "dtypes: float64(6), int64(7)\n",
            "memory usage: 5.3 MB\n"
          ],
          "name": "stdout"
        }
      ]
    },
    {
      "cell_type": "code",
      "metadata": {
        "id": "wWnr5zSRtFB9",
        "colab_type": "code",
        "colab": {}
      },
      "source": [
        "rfr = RandomForestRegressor(random_state = 0)"
      ],
      "execution_count": 36,
      "outputs": []
    },
    {
      "cell_type": "code",
      "metadata": {
        "id": "vh-N5RAYtnsE",
        "colab_type": "code",
        "colab": {
          "base_uri": "https://localhost:8080/",
          "height": 34
        },
        "outputId": "6d56d479-3013-49a8-f4e4-1dbbb9a1707a"
      },
      "source": [
        "rfr.fit(X_train, y_train)\n",
        "y_train_pred = rfr.predict(X_train)\n",
        "np.sqrt(mean_squared_error(y_train, y_train_pred)), r2_score(y_train, y_train_pred)"
      ],
      "execution_count": 37,
      "outputs": [
        {
          "output_type": "execute_result",
          "data": {
            "text/plain": [
              "(88444.69832677238, 0.9890224416059095)"
            ]
          },
          "metadata": {
            "tags": []
          },
          "execution_count": 37
        }
      ]
    },
    {
      "cell_type": "code",
      "metadata": {
        "id": "8NpDJ0aSuI8O",
        "colab_type": "code",
        "colab": {
          "base_uri": "https://localhost:8080/",
          "height": 238
        },
        "outputId": "d10b9142-5f48-4582-efd7-602ce0483cc1"
      },
      "source": [
        "sorted(zip(rfr.feature_importances_, X_train.columns))"
      ],
      "execution_count": 38,
      "outputs": [
        {
          "output_type": "execute_result",
          "data": {
            "text/plain": [
              "[(0.0016656857417940245, 'seat_count'),\n",
              " (0.002071085524901595, 'door_count'),\n",
              " (0.004221164913510812, 'fuel_type'),\n",
              " (0.004897571126332381, 'owner_type'),\n",
              " (0.0050769351299483545, 'rating'),\n",
              " (0.006732782575340198, 'transmission'),\n",
              " (0.00783703020839013, 'location'),\n",
              " (0.019564111025699226, 'model'),\n",
              " (0.02735206494526001, 'engine_displacement'),\n",
              " (0.05945772962101549, 'distance'),\n",
              " (0.1494749676730904, 'engine_power'),\n",
              " (0.31641471151470124, 'age'),\n",
              " (0.39523416000001604, 'maker')]"
            ]
          },
          "metadata": {
            "tags": []
          },
          "execution_count": 38
        }
      ]
    },
    {
      "cell_type": "code",
      "metadata": {
        "colab_type": "code",
        "id": "fvf4rG4BT280",
        "colab": {
          "base_uri": "https://localhost:8080/",
          "height": 34
        },
        "outputId": "2da05767-4713-4aef-bce9-45a2792c0927"
      },
      "source": [
        "lgbmr = lgb.LGBMRegressor(random_state = 0)\n",
        "lgbmr.fit(X_train, y_train)\n",
        "lgbmr.score(X_train, y_train)"
      ],
      "execution_count": 39,
      "outputs": [
        {
          "output_type": "execute_result",
          "data": {
            "text/plain": [
              "0.9367290165693514"
            ]
          },
          "metadata": {
            "tags": []
          },
          "execution_count": 39
        }
      ]
    },
    {
      "cell_type": "code",
      "metadata": {
        "colab_type": "code",
        "id": "p8qzKA78T288",
        "colab": {
          "base_uri": "https://localhost:8080/",
          "height": 34
        },
        "outputId": "6e7cbfa9-bda7-40b2-e9ab-dec61e173741"
      },
      "source": [
        "lgbmr = lgb.LGBMRegressor(random_state = 0)\n",
        "\n",
        "params = {'n_estimators' : sp_randint(200, 300),\n",
        "         'max_depth' : sp_randint(1, 15),\n",
        "         'learning_rate' : sp_uniform(0, 0.5)}\n",
        "\n",
        "rsearch_lgbm = RandomizedSearchCV(lgbmr, param_distributions = params,\n",
        "                                 cv = 5, n_iter = 100, n_jobs = -1, random_state = 0)\n",
        "\n",
        "rsearch_lgbm.fit(X_train, y_train)\n",
        "print(rsearch_lgbm.best_params_)"
      ],
      "execution_count": 40,
      "outputs": [
        {
          "output_type": "stream",
          "text": [
            "{'learning_rate': 0.07948479182275986, 'max_depth': 14, 'n_estimators': 285}\n"
          ],
          "name": "stdout"
        }
      ]
    },
    {
      "cell_type": "code",
      "metadata": {
        "colab_type": "code",
        "id": "rD2SKrw4T29C",
        "colab": {
          "base_uri": "https://localhost:8080/",
          "height": 34
        },
        "outputId": "29079aa4-26c4-4bec-a971-b9e21da8cd4d"
      },
      "source": [
        "lgbmr = lgb.LGBMRegressor(**rsearch_lgbm.best_params_, random_state = 0)\n",
        "lgbmr.fit(X_train, y_train)\n",
        "lgbmr.score(X_train, y_train)"
      ],
      "execution_count": 41,
      "outputs": [
        {
          "output_type": "execute_result",
          "data": {
            "text/plain": [
              "0.9444476505626853"
            ]
          },
          "metadata": {
            "tags": []
          },
          "execution_count": 41
        }
      ]
    },
    {
      "cell_type": "code",
      "metadata": {
        "colab_type": "code",
        "id": "S_o_1yApT29Y",
        "colab": {}
      },
      "source": [
        "sub = pd.read_csv('/content/drive/My Drive/PGPDSE/Hackathon/Sample Submission-1.csv')\n",
        "sub['Price'] = lgbmr.predict(X_test)\n",
        "sub.to_csv('submit7_Tran_LE_LGBtuned_All.csv', index = False)"
      ],
      "execution_count": 42,
      "outputs": []
    },
    {
      "cell_type": "code",
      "metadata": {
        "id": "x0oCJY3YP_I-",
        "colab_type": "code",
        "colab": {
          "base_uri": "https://localhost:8080/",
          "height": 255
        },
        "outputId": "95fad9ed-6293-433e-ea0b-669f37abd440"
      },
      "source": [
        "sfm = SelectFromModel(rfr, threshold = 0.003)\n",
        "sfm.fit(X_train, y_train)"
      ],
      "execution_count": 43,
      "outputs": [
        {
          "output_type": "execute_result",
          "data": {
            "text/plain": [
              "SelectFromModel(estimator=RandomForestRegressor(bootstrap=True, ccp_alpha=0.0,\n",
              "                                                criterion='mse', max_depth=None,\n",
              "                                                max_features='auto',\n",
              "                                                max_leaf_nodes=None,\n",
              "                                                max_samples=None,\n",
              "                                                min_impurity_decrease=0.0,\n",
              "                                                min_impurity_split=None,\n",
              "                                                min_samples_leaf=1,\n",
              "                                                min_samples_split=2,\n",
              "                                                min_weight_fraction_leaf=0.0,\n",
              "                                                n_estimators=100, n_jobs=None,\n",
              "                                                oob_score=False, random_state=0,\n",
              "                                                verbose=0, warm_start=False),\n",
              "                max_features=None, norm_order=1, prefit=False, threshold=0.003)"
            ]
          },
          "metadata": {
            "tags": []
          },
          "execution_count": 43
        }
      ]
    },
    {
      "cell_type": "code",
      "metadata": {
        "id": "inOFjhHwSJPp",
        "colab_type": "code",
        "colab": {}
      },
      "source": [
        "feat_labels = list(X_train.columns)"
      ],
      "execution_count": 44,
      "outputs": []
    },
    {
      "cell_type": "code",
      "metadata": {
        "id": "A3SAq8HnP9pz",
        "colab_type": "code",
        "colab": {
          "base_uri": "https://localhost:8080/",
          "height": 204
        },
        "outputId": "a48ee097-5ba4-4681-92cf-f4431f102a86"
      },
      "source": [
        "for feature_list_index in sfm.get_support(indices=True):\n",
        "    print(feat_labels[feature_list_index])"
      ],
      "execution_count": 45,
      "outputs": [
        {
          "output_type": "stream",
          "text": [
            "maker\n",
            "model\n",
            "location\n",
            "owner_type\n",
            "age\n",
            "engine_displacement\n",
            "engine_power\n",
            "rating\n",
            "transmission\n",
            "fuel_type\n",
            "distance\n"
          ],
          "name": "stdout"
        }
      ]
    },
    {
      "cell_type": "code",
      "metadata": {
        "id": "sA4aOdwnP9J2",
        "colab_type": "code",
        "colab": {}
      },
      "source": [
        "X_imp_train = sfm.transform(X_train)\n",
        "X_imp_test = sfm.transform(X_test)"
      ],
      "execution_count": 46,
      "outputs": []
    },
    {
      "cell_type": "code",
      "metadata": {
        "id": "E5iQ5l9wS4o_",
        "colab_type": "code",
        "colab": {
          "base_uri": "https://localhost:8080/",
          "height": 34
        },
        "outputId": "32b67745-3ae4-49dd-e3ae-a36a66d0c57d"
      },
      "source": [
        "lgbmr = lgb.LGBMRegressor(random_state = 0)\n",
        "lgbmr.fit(X_imp_train, y_train)\n",
        "lgbmr.score(X_imp_train, y_train)"
      ],
      "execution_count": 47,
      "outputs": [
        {
          "output_type": "execute_result",
          "data": {
            "text/plain": [
              "0.9356896651314734"
            ]
          },
          "metadata": {
            "tags": []
          },
          "execution_count": 47
        }
      ]
    },
    {
      "cell_type": "code",
      "metadata": {
        "id": "brlKAJHvDlU2",
        "colab_type": "code",
        "colab": {
          "base_uri": "https://localhost:8080/",
          "height": 34
        },
        "outputId": "f806e3a9-d79c-4c4f-cad2-79d33b427211"
      },
      "source": [
        "lgbmr = lgb.LGBMRegressor(random_state = 0)\n",
        "\n",
        "params = {'n_estimators' : sp_randint(400, 500),\n",
        "         'max_depth' : sp_randint(1, 20),\n",
        "         'learning_rate' : sp_uniform(0, 0.5)}\n",
        "\n",
        "rsearch_lgbm = RandomizedSearchCV(lgbmr, param_distributions = params,\n",
        "                                 cv = 3, n_iter = 25, n_jobs = -1, random_state = 0)\n",
        "\n",
        "rsearch_lgbm.fit(X_imp_train, y_train)\n",
        "print(rsearch_lgbm.best_params_)"
      ],
      "execution_count": 48,
      "outputs": [
        {
          "output_type": "stream",
          "text": [
            "{'learning_rate': 0.21930075673116017, 'max_depth': 5, 'n_estimators': 406}\n"
          ],
          "name": "stdout"
        }
      ]
    },
    {
      "cell_type": "code",
      "metadata": {
        "id": "HA5QEhWgEe79",
        "colab_type": "code",
        "colab": {
          "base_uri": "https://localhost:8080/",
          "height": 34
        },
        "outputId": "11b0393b-18a8-4c50-a8ee-d7c070f2d9a4"
      },
      "source": [
        "lgbmr = lgb.LGBMRegressor(**rsearch_lgbm.best_params_, random_state = 0)\n",
        "lgbmr.fit(X_imp_train, y_train)\n",
        "lgbmr.score(X_imp_train, y_train)"
      ],
      "execution_count": 49,
      "outputs": [
        {
          "output_type": "execute_result",
          "data": {
            "text/plain": [
              "0.9485157561638687"
            ]
          },
          "metadata": {
            "tags": []
          },
          "execution_count": 49
        }
      ]
    },
    {
      "cell_type": "code",
      "metadata": {
        "id": "RPHcpJ9fMnUr",
        "colab_type": "code",
        "colab": {}
      },
      "source": [
        "sub = pd.read_csv('/content/drive/My Drive/PGPDSE/Hackathon/Sample Submission-1.csv')\n",
        "sub['Price'] = lgbmr.predict(X_imp_test)\n",
        "sub.to_csv('submit8_Tran_LE_LGBtuned_FS.csv', index = False)"
      ],
      "execution_count": 50,
      "outputs": []
    }
  ]
}